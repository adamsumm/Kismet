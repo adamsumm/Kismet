{
 "cells": [
  {
   "cell_type": "code",
   "execution_count": null,
   "metadata": {},
   "outputs": [],
   "source": [
    "##ONLY RUN THIS IF YOU NEED TO RECOMPILE THE LEXER AND PARSER\n",
    "if False:\n",
    "    !java -jar antlr-4.7.2-complete.jar -visitor -Dlanguage=Python3 kismet.ebnv"
   ]
  },
  {
   "cell_type": "code",
   "execution_count": null,
   "metadata": {},
   "outputs": [],
   "source": []
  },
  {
   "cell_type": "code",
   "execution_count": null,
   "metadata": {},
   "outputs": [],
   "source": [
    "from Kismet import *"
   ]
  },
  {
   "cell_type": "code",
   "execution_count": null,
   "metadata": {
    "scrolled": true
   },
   "outputs": [],
   "source": [
    "kismetModule = KismetModule('./test.kismet',['../tracery/edwardian.tracery'], \n",
    "                                ignore_logit=3.0, \n",
    "                                observation_temp=1.5,\n",
    "                                history_cutoff=10,\n",
    "                                action_budget = 3,\n",
    "                                default_cost = 3,)"
   ]
  },
  {
   "cell_type": "code",
   "execution_count": null,
   "metadata": {},
   "outputs": [],
   "source": [
    "kismetModule.make_population({'size':30,\n",
    "                              'traits':(3,5,'.-.')})\n",
    "kismetModule.population2asp()"
   ]
  },
  {
   "cell_type": "code",
   "execution_count": null,
   "metadata": {
    "scrolled": true
   },
   "outputs": [],
   "source": [
    "%%time\n",
    "#volitions = kismetModule.calculate_volitions()\n",
    "for _ in range(10):\n",
    "    kismetModule.step_actions()"
   ]
  },
  {
   "cell_type": "code",
   "execution_count": null,
   "metadata": {},
   "outputs": [],
   "source": [
    "kismetModule.knowledge2asp()"
   ]
  },
  {
   "cell_type": "code",
   "execution_count": null,
   "metadata": {},
   "outputs": [],
   "source": [
    "kismetModule.population"
   ]
  },
  {
   "cell_type": "code",
   "execution_count": null,
   "metadata": {},
   "outputs": [],
   "source": [
    "kismetModule.history\n"
   ]
  },
  {
   "cell_type": "code",
   "execution_count": null,
   "metadata": {},
   "outputs": [],
   "source": [
    "!clingo  default.lp ./test.kismet_rules.lp ./test.kismet_population.lp  ./test.kismet_history.lp testing.lp -t 8  | tr [:space:] \\\\n| sort"
   ]
  },
  {
   "cell_type": "code",
   "execution_count": null,
   "metadata": {},
   "outputs": [],
   "source": []
  }
 ],
 "metadata": {
  "kernelspec": {
   "display_name": "Python 3",
   "language": "python",
   "name": "python3"
  },
  "language_info": {
   "codemirror_mode": {
    "name": "ipython",
    "version": 3
   },
   "file_extension": ".py",
   "mimetype": "text/x-python",
   "name": "python",
   "nbconvert_exporter": "python",
   "pygments_lexer": "ipython3",
   "version": "3.8.5"
  }
 },
 "nbformat": 4,
 "nbformat_minor": 2
}
