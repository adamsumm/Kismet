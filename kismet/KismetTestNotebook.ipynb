{
 "cells": [
  {
   "cell_type": "code",
   "execution_count": 1,
   "metadata": {},
   "outputs": [],
   "source": [
    "##ONLY RUN THIS IF YOU NEED TO RECOMPILE THE LEXER AND PARSER\n",
    "if True:\n",
    "    !java -jar antlr-4.7.2-complete.jar -visitor -Dlanguage=Python3 kismet_initialization.ebnf\n",
    "    !java -jar antlr-4.7.2-complete.jar -visitor -Dlanguage=Python3 kismet.ebnv"
   ]
  },
  {
   "cell_type": "code",
   "execution_count": 2,
   "metadata": {},
   "outputs": [],
   "source": [
    "from Kismet import *"
   ]
  },
  {
   "cell_type": "code",
   "execution_count": 3,
   "metadata": {},
   "outputs": [
    {
     "name": "stdout",
     "output_type": "stream",
     "text": [
      "*************************POTENTIAL PROBLEMS*************************\n",
      "Tags: Not referenced in traits\n",
      "\temployment\n",
      "Tags: Referenced in traits but not found in actions\n",
      "\ttraditionalist\n",
      "\tskeptic\n",
      "\tbeliever\n",
      "\treformist\n",
      "\tnarcissistic\n",
      "Traits: Not referenced in actions\n",
      "\tage\n",
      "\ttraditionalist\n",
      "\tlikes\n",
      "\tgregarious\n",
      "\tskeptic\n",
      "\treformist\n",
      "\tbeliever\n",
      "\tworkers_go_to_work\n",
      "\tnarcissistic\n",
      "Traits: Referenced in actions but not found\n",
      "\tdockworker\n",
      "\tpriest\n",
      "\theadmaster\n",
      "\towner\n",
      "\tcustomer\n",
      "\tsailor\n",
      "\tboarder\n",
      "\tregular\n",
      "\tpatron\n",
      "\tclerk\n",
      "\tstudent\n",
      "\tunionrep\n",
      "\tvisitor\n",
      "\tdeacon\n",
      "\tworker\n",
      "\tfisherman\n",
      "\thousekeeper\n",
      "\tforeman\n",
      "Patterns: Not referenced in actions or traits\n",
      "\tromantic_rivals\n",
      "\tmutual_dislike\n",
      "\tnemesis\n",
      "*************************Reference Section*************************\n",
      "Actions\n",
      "\tbookstore_customer\n",
      "\twarehouse_foreman\n",
      "\tsailor_loiter\n",
      "\twarehouse_worker\n",
      "\tpray_alone\n",
      "\tstudy_religion\n",
      "\tloiterer\n",
      "\theadmaster_teaches\n",
      "\twarehouse_union_rep\n",
      "\twharf_work\n",
      "\tboarding_house_visitor\n",
      "\tsermon\n",
      "\thousekeeping\n",
      "\tboarder_lounge\n",
      "\tboarding_house_maintenance\n",
      "\tstudent_learning\n",
      "\tbookstore_clerk\n",
      "\tfish\n",
      "\tbookstore_regular\n",
      "\twarehouse_owner\n",
      "\tbookstore_owner\n",
      "\twharf_loiter\n",
      "\tbar_generic\n",
      "Patterns\n",
      "\tromantic_rivals\n",
      "\tmutual_dislike\n",
      "\tnemesis\n",
      "Tags\n",
      "\tchurch\n",
      "\t\t referenced in: study_religion, sermon, pray_alone\n",
      "\tschool\n",
      "\t\t referenced in: student_learning, headmaster_teaches\n",
      "\ttown_square\n",
      "\t\t referenced in: loiterer\n",
      "\tboarding_house\n",
      "\t\t referenced in: boarder_lounge, boarding_house_maintenance, boarding_house_visitor, housekeeping\n",
      "\tbookstore\n",
      "\t\t referenced in: bookstore_customer, bookstore_owner, bookstore_regular, bookstore_clerk\n",
      "\twharf\n",
      "\t\t referenced in: wharf_work, wharf_loiter, sailor_loiter, fish\n",
      "\twarehouse\n",
      "\t\t referenced in: warehouse_foreman, warehouse_union_rep, warehouse_worker, warehouse_owner\n",
      "\tbar\n",
      "\t\t referenced in: bar_generic\n",
      "Traits\n",
      "\tdockworker\n",
      "\t\t referenced in: wharf_work\n",
      "\ttraditionalist\n",
      "\t\t referenced in: traditionalist\n",
      "\towner\n",
      "\t\t referenced in: bookstore_owner, boarding_house_maintenance, warehouse_owner\n",
      "\tbeliever\n",
      "\t\t referenced in: believer\n",
      "\tworkers_go_to_work\n",
      "\tregular\n",
      "\t\t referenced in: bookstore_regular\n",
      "\tpatron\n",
      "\t\t referenced in: pray_alone\n",
      "\tclerk\n",
      "\t\t referenced in: bookstore_clerk\n",
      "\tlikes\n",
      "\tnarcissistic\n",
      "\t\t referenced in: narcissistic, gregarious\n",
      "\thousekeeper\n",
      "\t\t referenced in: housekeeping\n",
      "\tforeman\n",
      "\t\t referenced in: warehouse_foreman\n",
      "\tage\n",
      "\tpriest\n",
      "\t\t referenced in: study_religion\n",
      "\theadmaster\n",
      "\t\t referenced in: headmaster_teaches\n",
      "\tgregarious\n",
      "\tcustomer\n",
      "\t\t referenced in: bookstore_customer\n",
      "\treformist\n",
      "\t\t referenced in: reformist\n",
      "\tsailor\n",
      "\t\t referenced in: sailor_loiter\n",
      "\tboarder\n",
      "\t\t referenced in: boarder_lounge\n",
      "\tstudent\n",
      "\t\t referenced in: student_learning\n",
      "\tskeptic\n",
      "\t\t referenced in: skeptic\n",
      "\tunionrep\n",
      "\t\t referenced in: warehouse_union_rep\n",
      "\tvisitor\n",
      "\t\t referenced in: boarding_house_visitor\n",
      "\tdeacon\n",
      "\t\t referenced in: sermon\n",
      "\tworker\n",
      "\t\t referenced in: warehouse_worker\n",
      "\tfisherman\n",
      "\t\t referenced in: fish\n",
      "Requirements:\n",
      "pray_alone\n",
      "\tReferences: church, patron\n",
      "sermon\n",
      "\tReferences: deacon, church\n",
      "study_religion\n",
      "\tReferences: priest, church\n",
      "boarding_house_maintenance\n",
      "\tReferences: owner, boarding_house\n",
      "housekeeping\n",
      "\tReferences: housekeeper, boarding_house\n",
      "boarder_lounge\n",
      "\tReferences: boarder, boarding_house\n",
      "boarding_house_visitor\n",
      "\tReferences: visitor, boarding_house\n",
      "loiterer\n",
      "\tReferences: town_square\n",
      "student_learning\n",
      "\tReferences: school, student\n",
      "headmaster_teaches\n",
      "\tReferences: headmaster, school\n",
      "bookstore_owner\n",
      "\tReferences: bookstore, owner\n",
      "bookstore_clerk\n",
      "\tReferences: bookstore, clerk\n",
      "bookstore_regular\n",
      "\tReferences: bookstore, regular\n",
      "bookstore_customer\n",
      "\tReferences: bookstore, customer\n",
      "wharf_work\n",
      "\tReferences: dockworker, wharf\n",
      "fish\n",
      "\tReferences: fisherman, wharf\n",
      "sailor_loiter\n",
      "\tReferences: wharf, sailor\n",
      "wharf_loiter\n",
      "\tReferences: wharf\n",
      "warehouse_owner\n",
      "\tReferences: warehouse, owner\n",
      "warehouse_union_rep\n",
      "\tReferences: unionrep, warehouse\n",
      "warehouse_foreman\n",
      "\tReferences: warehouse, foreman\n",
      "warehouse_worker\n",
      "\tReferences: warehouse, worker\n",
      "bar_generic\n",
      "\tReferences: bar\n",
      "likes\n",
      "gregarious\n",
      "\tReferences: narcissistic\n",
      "narcissistic\n",
      "\tReferences: narcissistic\n",
      "traditionalist\n",
      "\tReferences: traditionalist\n",
      "reformist\n",
      "\tReferences: reformist\n",
      "skeptic\n",
      "\tReferences: skeptic\n",
      "believer\n",
      "\tReferences: believer\n",
      "workers_go_to_work\n"
     ]
    }
   ],
   "source": [
    "kismetModule = KismetModule('cult.kismet',\n",
    "                            'test.init',\n",
    "                            ['../tracery/edwardian.tracery'], \n",
    "                                    ignore_logit=3.0, \n",
    "                                    observation_temp=1.5,\n",
    "                                    history_cutoff=10,\n",
    "                                    action_budget = 3,\n",
    "                                    default_cost = 3,)"
   ]
  },
  {
   "cell_type": "code",
   "execution_count": 4,
   "metadata": {},
   "outputs": [
    {
     "ename": "IndexError",
     "evalue": "string index out of range",
     "output_type": "error",
     "traceback": [
      "\u001b[1;31m---------------------------------------------------------------------------\u001b[0m",
      "\u001b[1;31mIndexError\u001b[0m                                Traceback (most recent call last)",
      "\u001b[1;32m<ipython-input-4-babd77e1e942>\u001b[0m in \u001b[0;36m<module>\u001b[1;34m\u001b[0m\n\u001b[1;32m----> 1\u001b[1;33m \u001b[0mkismetModule\u001b[0m\u001b[1;33m.\u001b[0m\u001b[0mmake_population\u001b[0m\u001b[1;33m(\u001b[0m\u001b[1;33m)\u001b[0m\u001b[1;33m\u001b[0m\u001b[1;33m\u001b[0m\u001b[0m\n\u001b[0m\u001b[0;32m      2\u001b[0m \u001b[0mkismetModule\u001b[0m\u001b[1;33m.\u001b[0m\u001b[0mdisplay_statuses\u001b[0m\u001b[1;33m(\u001b[0m\u001b[1;33m)\u001b[0m\u001b[1;33m\u001b[0m\u001b[1;33m\u001b[0m\u001b[0m\n\u001b[0;32m      3\u001b[0m \u001b[1;31m#kismetModule.population2asp()\u001b[0m\u001b[1;33m\u001b[0m\u001b[1;33m\u001b[0m\u001b[1;33m\u001b[0m\u001b[0m\n",
      "\u001b[1;32m~\\Documents\\Research\\Kismet\\kismet\\Kismet.py\u001b[0m in \u001b[0;36mmake_population\u001b[1;34m(self)\u001b[0m\n\u001b[0;32m   1808\u001b[0m     \u001b[1;32mdef\u001b[0m \u001b[0mmake_population\u001b[0m\u001b[1;33m(\u001b[0m\u001b[0mself\u001b[0m\u001b[1;33m)\u001b[0m\u001b[1;33m:\u001b[0m\u001b[1;33m\u001b[0m\u001b[1;33m\u001b[0m\u001b[0m\n\u001b[0;32m   1809\u001b[0m \u001b[1;33m\u001b[0m\u001b[0m\n\u001b[1;32m-> 1810\u001b[1;33m         \u001b[0mpopulation\u001b[0m \u001b[1;33m=\u001b[0m \u001b[0mself\u001b[0m\u001b[1;33m.\u001b[0m\u001b[0minitialization\u001b[0m\u001b[1;33m.\u001b[0m\u001b[0mrun_initialization\u001b[0m\u001b[1;33m(\u001b[0m\u001b[1;33m)\u001b[0m\u001b[1;33m\u001b[0m\u001b[1;33m\u001b[0m\u001b[0m\n\u001b[0m\u001b[0;32m   1811\u001b[0m \u001b[1;33m\u001b[0m\u001b[0m\n\u001b[0;32m   1812\u001b[0m         \u001b[0mself\u001b[0m\u001b[1;33m.\u001b[0m\u001b[0mpopulation\u001b[0m \u001b[1;33m=\u001b[0m \u001b[1;33m{\u001b[0m\u001b[1;33m}\u001b[0m\u001b[1;33m\u001b[0m\u001b[1;33m\u001b[0m\u001b[0m\n",
      "\u001b[1;32m~\\Documents\\Research\\Kismet\\kismet\\KismetInitialization.py\u001b[0m in \u001b[0;36mrun_initialization\u001b[1;34m(self)\u001b[0m\n\u001b[0;32m   2128\u001b[0m \u001b[1;33m\u001b[0m\u001b[0m\n\u001b[0;32m   2129\u001b[0m         \u001b[1;32mfor\u001b[0m \u001b[0minitialization\u001b[0m \u001b[1;32min\u001b[0m \u001b[0mself\u001b[0m\u001b[1;33m.\u001b[0m\u001b[0mall_things\u001b[0m\u001b[1;33m.\u001b[0m\u001b[0mget\u001b[0m\u001b[1;33m(\u001b[0m\u001b[1;34m'Initialization'\u001b[0m\u001b[1;33m,\u001b[0m\u001b[1;33m[\u001b[0m\u001b[1;33m]\u001b[0m\u001b[1;33m)\u001b[0m\u001b[1;33m:\u001b[0m\u001b[1;33m\u001b[0m\u001b[1;33m\u001b[0m\u001b[0m\n\u001b[1;32m-> 2130\u001b[1;33m             \u001b[0minitialization\u001b[0m \u001b[1;33m=\u001b[0m \u001b[0mparse_initialization\u001b[0m\u001b[1;33m(\u001b[0m\u001b[0minitialization\u001b[0m\u001b[1;33m)\u001b[0m\u001b[1;33m\u001b[0m\u001b[1;33m\u001b[0m\u001b[0m\n\u001b[0m\u001b[0;32m   2131\u001b[0m             \u001b[0minitializations\u001b[0m\u001b[1;33m[\u001b[0m\u001b[0minitialization\u001b[0m\u001b[1;33m.\u001b[0m\u001b[0mname\u001b[0m\u001b[1;33m]\u001b[0m \u001b[1;33m=\u001b[0m \u001b[0minitialization\u001b[0m\u001b[1;33m\u001b[0m\u001b[1;33m\u001b[0m\u001b[0m\n\u001b[0;32m   2132\u001b[0m \u001b[1;33m\u001b[0m\u001b[0m\n",
      "\u001b[1;32m~\\Documents\\Research\\Kismet\\kismet\\KismetInitialization.py\u001b[0m in \u001b[0;36mparse_initialization\u001b[1;34m(initialization)\u001b[0m\n\u001b[0;32m   2044\u001b[0m             \u001b[0mcreates\u001b[0m\u001b[1;33m.\u001b[0m\u001b[0mappend\u001b[0m\u001b[1;33m(\u001b[0m\u001b[0mparse_create\u001b[0m\u001b[1;33m(\u001b[0m\u001b[0mthing\u001b[0m\u001b[1;33m[\u001b[0m\u001b[1;36m1\u001b[0m\u001b[1;33m]\u001b[0m\u001b[1;33m)\u001b[0m\u001b[1;33m)\u001b[0m\u001b[1;33m\u001b[0m\u001b[1;33m\u001b[0m\u001b[0m\n\u001b[0;32m   2045\u001b[0m         \u001b[1;32melif\u001b[0m \u001b[0mthing\u001b[0m\u001b[1;33m[\u001b[0m\u001b[1;36m0\u001b[0m\u001b[1;33m]\u001b[0m \u001b[1;33m==\u001b[0m \u001b[1;34m'Select'\u001b[0m\u001b[1;33m:\u001b[0m\u001b[1;33m\u001b[0m\u001b[1;33m\u001b[0m\u001b[0m\n\u001b[1;32m-> 2046\u001b[1;33m             \u001b[0mselects\u001b[0m\u001b[1;33m.\u001b[0m\u001b[0mappend\u001b[0m\u001b[1;33m(\u001b[0m\u001b[0mparse_select\u001b[0m\u001b[1;33m(\u001b[0m\u001b[0mthing\u001b[0m\u001b[1;33m[\u001b[0m\u001b[1;36m1\u001b[0m\u001b[1;33m]\u001b[0m\u001b[1;33m)\u001b[0m\u001b[1;33m)\u001b[0m\u001b[1;33m\u001b[0m\u001b[1;33m\u001b[0m\u001b[0m\n\u001b[0m\u001b[0;32m   2047\u001b[0m     \u001b[1;32mreturn\u001b[0m \u001b[0mInitialization\u001b[0m\u001b[1;33m(\u001b[0m\u001b[0mname\u001b[0m\u001b[1;33m,\u001b[0m\u001b[0mlets\u001b[0m\u001b[1;33m,\u001b[0m\u001b[0mdeferred_lets\u001b[0m\u001b[1;33m,\u001b[0m\u001b[0mcreates\u001b[0m\u001b[1;33m,\u001b[0m\u001b[0mselects\u001b[0m\u001b[1;33m)\u001b[0m\u001b[1;33m\u001b[0m\u001b[1;33m\u001b[0m\u001b[0m\n\u001b[0;32m   2048\u001b[0m \u001b[1;33m\u001b[0m\u001b[0m\n",
      "\u001b[1;32m~\\Documents\\Research\\Kismet\\kismet\\KismetInitialization.py\u001b[0m in \u001b[0;36mparse_select\u001b[1;34m(creation)\u001b[0m\n\u001b[0;32m   1954\u001b[0m             \u001b[0moptions\u001b[0m \u001b[1;33m=\u001b[0m \u001b[0mparse_options\u001b[0m\u001b[1;33m(\u001b[0m\u001b[0mthing\u001b[0m\u001b[1;33m)\u001b[0m\u001b[1;33m\u001b[0m\u001b[1;33m\u001b[0m\u001b[0m\n\u001b[0;32m   1955\u001b[0m         \u001b[1;32melif\u001b[0m \u001b[0mthing\u001b[0m\u001b[1;33m[\u001b[0m\u001b[1;36m0\u001b[0m\u001b[1;33m]\u001b[0m \u001b[1;33m==\u001b[0m \u001b[1;34m'Conditions'\u001b[0m\u001b[1;33m:\u001b[0m\u001b[1;33m\u001b[0m\u001b[1;33m\u001b[0m\u001b[0m\n\u001b[1;32m-> 1956\u001b[1;33m             \u001b[0mconditions\u001b[0m \u001b[1;33m=\u001b[0m \u001b[0mparse_options\u001b[0m\u001b[1;33m(\u001b[0m\u001b[0mthing\u001b[0m\u001b[1;33m)\u001b[0m\u001b[1;33m\u001b[0m\u001b[1;33m\u001b[0m\u001b[0m\n\u001b[0m\u001b[0;32m   1957\u001b[0m     \u001b[1;32mreturn\u001b[0m \u001b[0mSelection\u001b[0m\u001b[1;33m(\u001b[0m\u001b[0mnum\u001b[0m\u001b[1;33m,\u001b[0m\u001b[0mname\u001b[0m\u001b[1;33m,\u001b[0m\u001b[0moptions\u001b[0m\u001b[1;33m,\u001b[0m\u001b[0mconditions\u001b[0m\u001b[1;33m)\u001b[0m\u001b[1;33m\u001b[0m\u001b[1;33m\u001b[0m\u001b[0m\n\u001b[0;32m   1958\u001b[0m \u001b[1;33m\u001b[0m\u001b[0m\n",
      "\u001b[1;32m~\\Documents\\Research\\Kismet\\kismet\\KismetInitialization.py\u001b[0m in \u001b[0;36mparse_options\u001b[1;34m(all_options)\u001b[0m\n\u001b[0;32m   1867\u001b[0m             \u001b[0moptions\u001b[0m\u001b[1;33m.\u001b[0m\u001b[0mappend\u001b[0m\u001b[1;33m(\u001b[0m\u001b[0mparse_assignment\u001b[0m\u001b[1;33m(\u001b[0m\u001b[0moption\u001b[0m\u001b[1;33m)\u001b[0m\u001b[1;33m)\u001b[0m\u001b[1;33m\u001b[0m\u001b[1;33m\u001b[0m\u001b[0m\n\u001b[0;32m   1868\u001b[0m         \u001b[1;32melif\u001b[0m \u001b[0moption\u001b[0m\u001b[1;33m[\u001b[0m\u001b[1;36m0\u001b[0m\u001b[1;33m]\u001b[0m \u001b[1;33m==\u001b[0m \u001b[1;34m'Description'\u001b[0m\u001b[1;33m:\u001b[0m\u001b[1;33m\u001b[0m\u001b[1;33m\u001b[0m\u001b[0m\n\u001b[1;32m-> 1869\u001b[1;33m             \u001b[0moptions\u001b[0m\u001b[1;33m.\u001b[0m\u001b[0mappend\u001b[0m\u001b[1;33m(\u001b[0m\u001b[0mparse_description\u001b[0m\u001b[1;33m(\u001b[0m\u001b[0moption\u001b[0m\u001b[1;33m)\u001b[0m\u001b[1;33m)\u001b[0m\u001b[1;33m\u001b[0m\u001b[1;33m\u001b[0m\u001b[0m\n\u001b[0m\u001b[0;32m   1870\u001b[0m         \u001b[1;32melse\u001b[0m\u001b[1;33m:\u001b[0m\u001b[1;33m\u001b[0m\u001b[1;33m\u001b[0m\u001b[0m\n\u001b[0;32m   1871\u001b[0m             \u001b[0mprint\u001b[0m\u001b[1;33m(\u001b[0m\u001b[1;34m'UH OH'\u001b[0m\u001b[1;33m,\u001b[0m\u001b[0moption\u001b[0m\u001b[1;33m)\u001b[0m\u001b[1;33m\u001b[0m\u001b[1;33m\u001b[0m\u001b[0m\n",
      "\u001b[1;32m~\\Documents\\Research\\Kismet\\kismet\\KismetInitialization.py\u001b[0m in \u001b[0;36mparse_description\u001b[1;34m(description)\u001b[0m\n\u001b[0;32m   1825\u001b[0m             \u001b[1;32mreturn\u001b[0m \u001b[0mRelationship\u001b[0m\u001b[1;33m(\u001b[0m\u001b[0mdescription\u001b[0m\u001b[1;33m[\u001b[0m\u001b[1;36m0\u001b[0m\u001b[1;33m]\u001b[0m\u001b[1;33m[\u001b[0m\u001b[1;36m1\u001b[0m\u001b[1;33m]\u001b[0m\u001b[1;33m,\u001b[0m \u001b[0mdescription\u001b[0m\u001b[1;33m[\u001b[0m\u001b[1;36m1\u001b[0m\u001b[1;33m]\u001b[0m\u001b[1;33m[\u001b[0m\u001b[1;36m1\u001b[0m\u001b[1;33m]\u001b[0m\u001b[1;33m,\u001b[0m\u001b[0mnegation\u001b[0m\u001b[1;33m=\u001b[0m \u001b[0mnegative\u001b[0m\u001b[1;33m)\u001b[0m\u001b[1;33m\u001b[0m\u001b[1;33m\u001b[0m\u001b[0m\n\u001b[0;32m   1826\u001b[0m         \u001b[1;32melse\u001b[0m\u001b[1;33m:\u001b[0m\u001b[1;33m\u001b[0m\u001b[1;33m\u001b[0m\u001b[0m\n\u001b[1;32m-> 1827\u001b[1;33m             \u001b[1;32mreturn\u001b[0m \u001b[0mDescTrait\u001b[0m\u001b[1;33m(\u001b[0m\u001b[0mdescription\u001b[0m\u001b[1;33m[\u001b[0m\u001b[1;36m0\u001b[0m\u001b[1;33m]\u001b[0m\u001b[1;33m[\u001b[0m\u001b[1;36m1\u001b[0m\u001b[1;33m]\u001b[0m\u001b[1;33m,\u001b[0m \u001b[0mparseNumRange\u001b[0m\u001b[1;33m(\u001b[0m\u001b[0mdescription\u001b[0m\u001b[1;33m[\u001b[0m\u001b[1;36m1\u001b[0m\u001b[1;33m]\u001b[0m\u001b[1;33m)\u001b[0m\u001b[1;33m,\u001b[0m\u001b[0mnegation\u001b[0m\u001b[1;33m=\u001b[0m \u001b[0mnegative\u001b[0m\u001b[1;33m)\u001b[0m\u001b[1;33m\u001b[0m\u001b[1;33m\u001b[0m\u001b[0m\n\u001b[0m\u001b[0;32m   1828\u001b[0m \u001b[1;33m\u001b[0m\u001b[0m\n\u001b[0;32m   1829\u001b[0m     \u001b[1;32melse\u001b[0m\u001b[1;33m:\u001b[0m\u001b[1;33m\u001b[0m\u001b[1;33m\u001b[0m\u001b[0m\n",
      "\u001b[1;32m~\\Documents\\Research\\Kismet\\kismet\\KismetInitialization.py\u001b[0m in \u001b[0;36mparseNumRange\u001b[1;34m(choice)\u001b[0m\n\u001b[0;32m   1683\u001b[0m         \u001b[0mpdf\u001b[0m \u001b[1;33m=\u001b[0m \u001b[1;34m'--'\u001b[0m\u001b[1;33m\u001b[0m\u001b[1;33m\u001b[0m\u001b[0m\n\u001b[0;32m   1684\u001b[0m     \u001b[1;32melse\u001b[0m\u001b[1;33m:\u001b[0m\u001b[1;33m\u001b[0m\u001b[1;33m\u001b[0m\u001b[0m\n\u001b[1;32m-> 1685\u001b[1;33m         \u001b[0mlower\u001b[0m \u001b[1;33m=\u001b[0m \u001b[0mint\u001b[0m\u001b[1;33m(\u001b[0m\u001b[0mchoice\u001b[0m\u001b[1;33m[\u001b[0m\u001b[1;36m0\u001b[0m\u001b[1;33m]\u001b[0m\u001b[1;33m[\u001b[0m\u001b[1;36m1\u001b[0m\u001b[1;33m]\u001b[0m\u001b[1;33m)\u001b[0m\u001b[1;33m\u001b[0m\u001b[1;33m\u001b[0m\u001b[0m\n\u001b[0m\u001b[0;32m   1686\u001b[0m         \u001b[0mupper\u001b[0m \u001b[1;33m=\u001b[0m \u001b[0mlower\u001b[0m\u001b[1;33m\u001b[0m\u001b[1;33m\u001b[0m\u001b[0m\n\u001b[0;32m   1687\u001b[0m         \u001b[0mpdf\u001b[0m \u001b[1;33m=\u001b[0m \u001b[1;34m'--'\u001b[0m\u001b[1;33m\u001b[0m\u001b[1;33m\u001b[0m\u001b[0m\n",
      "\u001b[1;31mIndexError\u001b[0m: string index out of range"
     ]
    }
   ],
   "source": [
    "kismetModule.make_population()\n",
    "kismetModule.display_statuses()\n",
    "#kismetModule.population2asp()"
   ]
  },
  {
   "cell_type": "code",
   "execution_count": null,
   "metadata": {
    "scrolled": false
   },
   "outputs": [],
   "source": [
    "from tqdm.notebook import tqdm \n",
    "\n",
    "for _ in tqdm(range(2)):\n",
    "    kismetModule.step_actions()"
   ]
  },
  {
   "cell_type": "code",
   "execution_count": null,
   "metadata": {},
   "outputs": [],
   "source": [
    "print(kismetModule.population)"
   ]
  },
  {
   "cell_type": "code",
   "execution_count": null,
   "metadata": {},
   "outputs": [],
   "source": [
    "kismetModule.pretty_print_history()"
   ]
  },
  {
   "cell_type": "code",
   "execution_count": null,
   "metadata": {
    "scrolled": true
   },
   "outputs": [],
   "source": [
    "kismetModule.display_patterns()"
   ]
  },
  {
   "cell_type": "code",
   "execution_count": null,
   "metadata": {},
   "outputs": [],
   "source": [
    "a = ['a']*-1"
   ]
  },
  {
   "cell_type": "code",
   "execution_count": null,
   "metadata": {},
   "outputs": [],
   "source": [
    "print(kismetModule.created_locations)"
   ]
  },
  {
   "cell_type": "code",
   "execution_count": null,
   "metadata": {},
   "outputs": [],
   "source": [
    "!clingo C:\\Users\\adams\\Documents\\Research\\Kismet\\kismet\\default.lp C:\\Users\\adams\\Documents\\Research\\Kismet\\kismet\\test.kismet_rules.lp C:\\Users\\adams\\Documents\\Research\\Kismet\\kismet\\test.kismet_population.lp C:\\Users\\adams\\Documents\\Research\\Kismet\\kismet\\testing.lp C:\\Users\\adams\\Documents\\Research\\Kismet\\kismet\\location_volition.lp C:\\Users\\adams\\Documents\\Research\\Kismet\\kismet\\test.kismet_history.lp\n"
   ]
  },
  {
   "cell_type": "code",
   "execution_count": null,
   "metadata": {},
   "outputs": [],
   "source": [
    "!clingo C:\\Users\\adams\\Documents\\Research\\Kismet\\kismet\\default.lp C:\\Users\\adams\\Documents\\Research\\Kismet\\kismet\\cult.kismet_rules.lp C:\\Users\\adams\\Documents\\Research\\Kismet\\kismet\\cult.kismet_population.lp C:\\Users\\adams\\Documents\\Research\\Kismet\\kismet\\location_volition.lp"
   ]
  },
  {
   "cell_type": "code",
   "execution_count": null,
   "metadata": {},
   "outputs": [],
   "source": [
    "print(kismetModule.created_locations)"
   ]
  },
  {
   "cell_type": "code",
   "execution_count": null,
   "metadata": {},
   "outputs": [],
   "source": [
    "import re\n",
    "print(re.sub(r\"^(\\d+):\",r\"On Line #\\1\\n\",'9:asdl;kfja5:s;dkfj'))"
   ]
  },
  {
   "cell_type": "code",
   "execution_count": null,
   "metadata": {},
   "outputs": [],
   "source": []
  }
 ],
 "metadata": {
  "kernelspec": {
   "display_name": "Python 3",
   "language": "python",
   "name": "python3"
  },
  "language_info": {
   "codemirror_mode": {
    "name": "ipython",
    "version": 3
   },
   "file_extension": ".py",
   "mimetype": "text/x-python",
   "name": "python",
   "nbconvert_exporter": "python",
   "pygments_lexer": "ipython3",
   "version": "3.8.3"
  }
 },
 "nbformat": 4,
 "nbformat_minor": 2
}
