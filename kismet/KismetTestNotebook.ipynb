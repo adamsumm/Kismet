{
 "cells": [
  {
   "cell_type": "code",
   "execution_count": 1,
   "metadata": {},
   "outputs": [],
   "source": [
    "!java -jar antlr-4.7.2-complete.jar -visitor -Dlanguage=Python3 kismet.ebnv\n",
    "\n",
    "from Kismet import *"
   ]
  },
  {
   "cell_type": "code",
   "execution_count": 2,
   "metadata": {},
   "outputs": [
    {
     "name": "stdout",
     "output_type": "stream",
     "text": [
      "[Trait(is_default=False, is_num=True, is_trait=False, is_status=True, alternative_names=['likes', 'like', 'liked'], arguments={'>': 'Self', '<': 'Other', '^': 'DEFAULT_OBJECT', '*': 'DEFAULT_ACTION', '@': 'DEFAULT_LOCATION'}, propensities=[], propensityASP=[], opposition='')]\n"
     ]
    }
   ],
   "source": [
    "kismetModule = KismetModule('./test.kismet',['../tracery/edwardian.tracery'], \n",
    "                                ignore_logit=3.0, \n",
    "                                observation_temp=1.5)"
   ]
  },
  {
   "cell_type": "code",
   "execution_count": 3,
   "metadata": {},
   "outputs": [],
   "source": [
    "kismetModule.make_population({'size':30,\n",
    "                              'traits':(3,5,'.-.')})\n",
    "kismetModule.population2asp()"
   ]
  },
  {
   "cell_type": "code",
   "execution_count": 4,
   "metadata": {
    "scrolled": true
   },
   "outputs": [
    {
     "name": "stdout",
     "output_type": "stream",
     "text": [
      "clingo --outf=2 default.lp ./test.kismet_rules.lp ./test.kismet_population.lp testing.lp volition.lp -t 8 --sign-def=rnd --seed=51781267\n",
      "clingo --outf=2 default.lp ./test.kismet_rules.lp ./test.kismet_population.lp ./test.kismet_actions.lp testing.lp results_processing.lp -t 8 --sign-def=rnd --seed=81337157\n",
      "clingo --outf=2 default.lp ./test.kismet_rules.lp ./test.kismet_population.lp ./test.kismet_actions.lp testing.lp observation.lp -t 8 --sign-def=rnd --seed=261180234\n",
      "CPU times: user 134 ms, sys: 15.6 ms, total: 149 ms\n",
      "Wall time: 285 ms\n"
     ]
    }
   ],
   "source": [
    "%%time\n",
    "#volitions = kismetModule.calculate_volitions()\n",
    "kismetModule.step_actions()"
   ]
  },
  {
   "cell_type": "code",
   "execution_count": 5,
   "metadata": {},
   "outputs": [],
   "source": [
    "kismetModule.knowledge2asp()"
   ]
  },
  {
   "cell_type": "code",
   "execution_count": null,
   "metadata": {},
   "outputs": [],
   "source": []
  },
  {
   "cell_type": "code",
   "execution_count": null,
   "metadata": {},
   "outputs": [],
   "source": []
  }
 ],
 "metadata": {
  "kernelspec": {
   "display_name": "Python 3",
   "language": "python",
   "name": "python3"
  },
  "language_info": {
   "codemirror_mode": {
    "name": "ipython",
    "version": 3
   },
   "file_extension": ".py",
   "mimetype": "text/x-python",
   "name": "python",
   "nbconvert_exporter": "python",
   "pygments_lexer": "ipython3",
   "version": "3.8.5"
  }
 },
 "nbformat": 4,
 "nbformat_minor": 2
}
