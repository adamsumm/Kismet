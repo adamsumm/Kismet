{
 "cells": [
  {
   "cell_type": "code",
   "execution_count": 1,
   "metadata": {},
   "outputs": [],
   "source": [
    "##ONLY RUN THIS IF YOU NEED TO RECOMPILE THE LEXER AND PARSER\n",
    "if True:\n",
    "    !java -jar antlr-4.7.2-complete.jar -visitor -Dlanguage=Python3 kismet_initialization.ebnf\n",
    "    !java -jar antlr-4.7.2-complete.jar -visitor -Dlanguage=Python3 kismet.ebnv"
   ]
  },
  {
   "cell_type": "code",
   "execution_count": 2,
   "metadata": {},
   "outputs": [],
   "source": [
    "from Kismet import *"
   ]
  },
  {
   "cell_type": "code",
   "execution_count": 3,
   "metadata": {},
   "outputs": [
    {
     "name": "stdout",
     "output_type": "stream",
     "text": [
      "*************************POTENTIAL PROBLEMS*************************\n",
      "Locations: Not referenced in actions or traits\n",
      "\tchurch\n",
      "\tthe_office\n",
      "\trestaurant\n",
      "Locations: Referenced but not found\n",
      "\tdamaged\n",
      "\thospitality_establishment\n",
      "Tags: Not referenced in traits\n",
      "\tsneaky\n",
      "\tfun\n",
      "\tfighting\n",
      "\tdomineering\n",
      "\tjob_hunt\n",
      "\twork\n",
      "\tnice\n",
      "\tmean\n",
      "\tangry\n",
      "\tlazy\n",
      "Tags: Referenced in traits but not found in actions\n",
      "\tanger\n",
      "\tobservation\n",
      "\timpulsive\n",
      "\treligious\n",
      "\tselfcare\n",
      "Traits: Not referenced in actions\n",
      "\thorny\n",
      "\tatheist\n",
      "\tfavorite_place\n",
      "\tviolent\n",
      "\tintrovert\n",
      "\tsad_drunk\n",
      "\tsnoopy\n",
      "\tbut_not_too_horny\n",
      "\tgentle\n",
      "\tregular\n",
      "\tdrunkard\n",
      "\tteetotaler\n",
      "\tworker\n",
      "\treligious\n",
      "Traits: Referenced in actions but not found\n",
      "\tpatron\n",
      "\tbossiness\n",
      "\tdamaged\n",
      "\tdislike\n",
      "\tsadness\n",
      "\tdislikes\n",
      "Patterns: Not referenced in actions or traits\n",
      "\tmilquetoast\n",
      "*************************Reference Section*************************\n",
      "Actions\n",
      "\tcast_child_laborer\n",
      "\tgossip_about\n",
      "\tflirt\n",
      "\tslap\n",
      "\tdrunken_disagreement\n",
      "\tdrink_the_day_away\n",
      "\tdominate_conversation\n",
      "\tcast_bartender\n",
      "\tbefriend_enemy_of_enemy\n",
      "\tmingle_loudly\n",
      "\tbecome_bartender\n",
      "\tflirt_unsuccessfully\n",
      "\tmingle\n",
      "\tcast_ur_job\n",
      "\tbarroom_brawl\n",
      "\tdrink_together\n",
      "\tsober_up\n",
      "\trepair_location\n",
      "\twaste_time\n",
      "\tbe_sneaky\n",
      "\tsulk\n",
      "\ttend_bar\n",
      "\tdisregard\n",
      "Patterns\n",
      "\tenemy_of_my_enemy\n",
      "\t\t referenced in: befriend_enemy_of_enemy\n",
      "\tmilquetoast\n",
      "Roles\n",
      "\tbartender\n",
      "\t\t referenced in: cast_bartender, tend_bar\n",
      "\tchild_laborer\n",
      "\t\t referenced in: cast_child_laborer\n",
      "\tur_job\n",
      "\t\t referenced in: cast_ur_job\n",
      "Tags\n",
      "\tanger\n",
      "\t\t referenced in: drunk\n",
      "\tgossipable\n",
      "\t\t referenced in: disregard\n",
      "\tbar\n",
      "\t\t referenced in: barroom_brawl, drunkard, drink_together, drunken_disagreement, drink_the_day_away, teetotaler\n",
      "\tobservation\n",
      "\t\t referenced in: snoopy\n",
      "\tsad\n",
      "\t\t referenced in: sad_drunk\n",
      "\timpulsive\n",
      "\t\t referenced in: drunk\n",
      "\tdrinking\n",
      "\t\t referenced in: teetotaler, drunkard\n",
      "\tromance\n",
      "\t\t referenced in: horny, slap, but_not_too_horny\n",
      "\thospitality_establishment\n",
      "\t\t referenced in: regular\n",
      "\ttalk\n",
      "\t\t referenced in: introvert, extrovert\n",
      "\tselfcare\n",
      "\t\t referenced in: hurt\n",
      "Traits\n",
      "\tfavorite_place\n",
      "\tviolent\n",
      "\t\t referenced in: gentle, violent\n",
      "\tsnoopy\n",
      "\tbossiness\n",
      "\t\t referenced in: dominate_conversation\n",
      "\tregular\n",
      "\tworker\n",
      "\tatheist\n",
      "\tintrovert\n",
      "\tdamaged\n",
      "\t\t referenced in: barroom_brawl, repair_location\n",
      "\tsadness\n",
      "\t\t referenced in: sulk\n",
      "\textrovert\n",
      "\t\t referenced in: mingle_loudly\n",
      "\tpatron\n",
      "\t\t referenced in: drunken_disagreement, drink_together\n",
      "\thurt\n",
      "\t\t referenced in: barroom_brawl, slap\n",
      "\tdislike\n",
      "\t\t referenced in: barroom_brawl\n",
      "\tage\n",
      "\t\t referenced in: cast_child_laborer, cast_bartender\n",
      "\tteetotaler\n",
      "\tlike\n",
      "\thorny\n",
      "\textroverted\n",
      "\tlikes\n",
      "\t\t referenced in: befriend_enemy_of_enemy, mingle_loudly, mingle, barroom_brawl, gossip_about, flirt, slap, flirt_unsuccessfully, drink_together, drunken_disagreement, dominate_conversation\n",
      "\tsad_drunk\n",
      "\tbut_not_too_horny\n",
      "\tdrunk\n",
      "\t\t referenced in: barroom_brawl, drink_the_day_away, sober_up\n",
      "\tgentle\n",
      "\tdrunkard\n",
      "\tdislikes\n",
      "\t\t referenced in: barroom_brawl, disregard\n",
      "\treligious\n",
      "\t\t referenced in: atheist, religious\n",
      "Requirements:\n",
      "befriend_enemy_of_enemy\n",
      "\tReferences: enemy_of_my_enemy\n",
      "waste_time\n",
      "drink_the_day_away\n",
      "\tReferences: bar\n",
      "sober_up\n",
      "\tReferences: drunk\n",
      "mingle\n",
      "mingle_loudly\n",
      "\tReferences: extroverted\n",
      "gossip_about\n",
      "dominate_conversation\n",
      "\tReferences: bossiness\n",
      "flirt\n",
      "flirt_unsuccessfully\n",
      "\tReferences: likes\n",
      "sulk\n",
      "\tReferences: sadness\n",
      "slap\n",
      "\tReferences: romance, likes\n",
      "become_bartender\n",
      "repair_location\n",
      "\tReferences: damaged\n",
      "tend_bar\n",
      "\tReferences: bartender\n",
      "drink_together\n",
      "\tReferences: patron, bar\n",
      "drunken_disagreement\n",
      "\tReferences: patron, bar\n",
      "be_sneaky\n",
      "barroom_brawl\n",
      "\tReferences: bar, dislikes, drunk\n",
      "disregard\n",
      "\tReferences: gossipable\n",
      "cast_ur_job\n",
      "\tReferences: ur_job\n",
      "cast_child_laborer\n",
      "\tReferences: age\n",
      "cast_bartender\n",
      "\tReferences: age\n",
      "regular\n",
      "\tReferences: hospitality_establishment\n",
      "favorite_place\n",
      "worker\n",
      "hurt\n",
      "\tReferences: selfcare\n",
      "likes\n",
      "horny\n",
      "\tReferences: romance\n",
      "but_not_too_horny\n",
      "\tReferences: romance\n",
      "snoopy\n",
      "\tReferences: observation\n",
      "drunkard\n",
      "\tReferences: bar, drinking\n",
      "teetotaler\n",
      "\tReferences: bar, drinking\n",
      "drunk\n",
      "\tReferences: anger, impulsive\n",
      "sad_drunk\n",
      "\tReferences: sad\n",
      "extrovert\n",
      "\tReferences: talk\n",
      "introvert\n",
      "\tReferences: talk\n",
      "violent\n",
      "\tReferences: violent\n",
      "gentle\n",
      "\tReferences: violent\n",
      "religious\n",
      "\tReferences: religious\n",
      "atheist\n",
      "\tReferences: religious\n"
     ]
    }
   ],
   "source": [
    "kismetModule = KismetModule('test.kismet',\n",
    "                            'test.init',\n",
    "                            ['../tracery/edwardian.tracery'], \n",
    "                                    ignore_logit=3.0, \n",
    "                                    observation_temp=1.5,\n",
    "                                    history_cutoff=10,\n",
    "                                    action_budget = 3,\n",
    "                                    default_cost = 3,)"
   ]
  },
  {
   "cell_type": "code",
   "execution_count": 4,
   "metadata": {},
   "outputs": [],
   "source": [
    "kismetModule.make_population()\n",
    "kismetModule.population2asp()"
   ]
  },
  {
   "cell_type": "code",
   "execution_count": 5,
   "metadata": {
    "scrolled": false
   },
   "outputs": [
    {
     "data": {
      "application/vnd.jupyter.widget-view+json": {
       "model_id": "02af4ba12e1e4ea2a8d25ac79e4439f2",
       "version_major": 2,
       "version_minor": 0
      },
      "text/plain": [
       "HBox(children=(FloatProgress(value=0.0, max=2.0), HTML(value='')))"
      ]
     },
     "metadata": {},
     "output_type": "display_data"
    },
    {
     "name": "stdout",
     "output_type": "stream",
     "text": [
      "\n"
     ]
    },
    {
     "ename": "KeyError",
     "evalue": "'warehouse'",
     "output_type": "error",
     "traceback": [
      "\u001b[1;31m---------------------------------------------------------------------------\u001b[0m",
      "\u001b[1;31mKeyError\u001b[0m                                  Traceback (most recent call last)",
      "\u001b[1;32m<ipython-input-5-753d4c33a721>\u001b[0m in \u001b[0;36m<module>\u001b[1;34m\u001b[0m\n\u001b[0;32m      2\u001b[0m \u001b[1;33m\u001b[0m\u001b[0m\n\u001b[0;32m      3\u001b[0m \u001b[1;32mfor\u001b[0m \u001b[0m_\u001b[0m \u001b[1;32min\u001b[0m \u001b[0mtqdm\u001b[0m\u001b[1;33m(\u001b[0m\u001b[0mrange\u001b[0m\u001b[1;33m(\u001b[0m\u001b[1;36m2\u001b[0m\u001b[1;33m)\u001b[0m\u001b[1;33m)\u001b[0m\u001b[1;33m:\u001b[0m\u001b[1;33m\u001b[0m\u001b[1;33m\u001b[0m\u001b[0m\n\u001b[1;32m----> 4\u001b[1;33m     \u001b[0mkismetModule\u001b[0m\u001b[1;33m.\u001b[0m\u001b[0mstep_actions\u001b[0m\u001b[1;33m(\u001b[0m\u001b[1;33m)\u001b[0m\u001b[1;33m\u001b[0m\u001b[1;33m\u001b[0m\u001b[0m\n\u001b[0m",
      "\u001b[1;32m~\\Documents\\Research\\Kismet\\kismet\\Kismet.py\u001b[0m in \u001b[0;36mstep_actions\u001b[1;34m(self)\u001b[0m\n\u001b[0;32m   2229\u001b[0m \u001b[1;33m\u001b[0m\u001b[0m\n\u001b[0;32m   2230\u001b[0m         \u001b[0mself\u001b[0m\u001b[1;33m.\u001b[0m\u001b[0mknowledge2asp\u001b[0m\u001b[1;33m(\u001b[0m\u001b[1;33m)\u001b[0m\u001b[1;33m\u001b[0m\u001b[1;33m\u001b[0m\u001b[0m\n\u001b[1;32m-> 2231\u001b[1;33m         \u001b[0mself\u001b[0m\u001b[1;33m.\u001b[0m\u001b[0mdetermine_character_locations\u001b[0m\u001b[1;33m(\u001b[0m\u001b[1;33m)\u001b[0m\u001b[1;33m\u001b[0m\u001b[1;33m\u001b[0m\u001b[0m\n\u001b[0m\u001b[0;32m   2232\u001b[0m \u001b[1;33m\u001b[0m\u001b[0m\n\u001b[0;32m   2233\u001b[0m         \u001b[0mcharacter_action_budget\u001b[0m \u001b[1;33m=\u001b[0m \u001b[1;33m{\u001b[0m\u001b[0mname\u001b[0m\u001b[1;33m:\u001b[0m\u001b[0mself\u001b[0m\u001b[1;33m.\u001b[0m\u001b[0maction_budget\u001b[0m \u001b[1;32mfor\u001b[0m \u001b[0mname\u001b[0m \u001b[1;32min\u001b[0m \u001b[0mself\u001b[0m\u001b[1;33m.\u001b[0m\u001b[0mpopulation\u001b[0m\u001b[1;33m}\u001b[0m\u001b[1;33m\u001b[0m\u001b[1;33m\u001b[0m\u001b[0m\n",
      "\u001b[1;32m~\\Documents\\Research\\Kismet\\kismet\\Kismet.py\u001b[0m in \u001b[0;36mdetermine_character_locations\u001b[1;34m(self)\u001b[0m\n\u001b[0;32m   2167\u001b[0m             \u001b[0muniq\u001b[0m \u001b[1;33m=\u001b[0m \u001b[0mget_unique_name\u001b[0m\u001b[1;33m(\u001b[0m\u001b[0mlocation_type\u001b[0m\u001b[1;33m)\u001b[0m\u001b[1;33m\u001b[0m\u001b[1;33m\u001b[0m\u001b[0m\n\u001b[0;32m   2168\u001b[0m \u001b[1;33m\u001b[0m\u001b[0m\n\u001b[1;32m-> 2169\u001b[1;33m             \u001b[0msupported_roles\u001b[0m \u001b[1;33m=\u001b[0m \u001b[0mself\u001b[0m\u001b[1;33m.\u001b[0m\u001b[0mlocations\u001b[0m\u001b[1;33m[\u001b[0m\u001b[0muniq\u001b[0m\u001b[1;33m]\u001b[0m\u001b[1;33m.\u001b[0m\u001b[0msupports\u001b[0m\u001b[1;33m\u001b[0m\u001b[1;33m\u001b[0m\u001b[0m\n\u001b[0m\u001b[0;32m   2170\u001b[0m \u001b[1;33m\u001b[0m\u001b[0m\n\u001b[0;32m   2171\u001b[0m             \u001b[0mrole_slots\u001b[0m \u001b[1;33m=\u001b[0m \u001b[1;33m{\u001b[0m\u001b[1;33m}\u001b[0m\u001b[1;33m\u001b[0m\u001b[1;33m\u001b[0m\u001b[0m\n",
      "\u001b[1;31mKeyError\u001b[0m: 'warehouse'"
     ]
    }
   ],
   "source": [
    "from tqdm.notebook import tqdm \n",
    "\n",
    "for _ in tqdm(range(2)):\n",
    "    kismetModule.step_actions()"
   ]
  },
  {
   "cell_type": "code",
   "execution_count": null,
   "metadata": {},
   "outputs": [],
   "source": [
    "print(kismetModule.population)"
   ]
  },
  {
   "cell_type": "code",
   "execution_count": null,
   "metadata": {},
   "outputs": [],
   "source": [
    "kismetModule.pretty_print_history()"
   ]
  },
  {
   "cell_type": "code",
   "execution_count": null,
   "metadata": {
    "scrolled": true
   },
   "outputs": [],
   "source": [
    "kismetModule.display_patterns()"
   ]
  },
  {
   "cell_type": "code",
   "execution_count": null,
   "metadata": {},
   "outputs": [],
   "source": [
    "a = ['a']*-1"
   ]
  },
  {
   "cell_type": "code",
   "execution_count": null,
   "metadata": {},
   "outputs": [],
   "source": [
    "print(a)"
   ]
  },
  {
   "cell_type": "code",
   "execution_count": null,
   "metadata": {},
   "outputs": [],
   "source": [
    "!clingo C:\\Users\\adams\\Documents\\Research\\Kismet\\kismet\\default.lp C:\\Users\\adams\\Documents\\Research\\Kismet\\kismet\\test.kismet_rules.lp C:\\Users\\adams\\Documents\\Research\\Kismet\\kismet\\test.kismet_population.lp C:\\Users\\adams\\Documents\\Research\\Kismet\\kismet\\testing.lp C:\\Users\\adams\\Documents\\Research\\Kismet\\kismet\\location_volition.lp C:\\Users\\adams\\Documents\\Research\\Kismet\\kismet\\test.kismet_history.lp\n"
   ]
  },
  {
   "cell_type": "code",
   "execution_count": null,
   "metadata": {},
   "outputs": [],
   "source": [
    "!clingo test.lp"
   ]
  },
  {
   "cell_type": "code",
   "execution_count": null,
   "metadata": {},
   "outputs": [],
   "source": []
  }
 ],
 "metadata": {
  "kernelspec": {
   "display_name": "Python 3",
   "language": "python",
   "name": "python3"
  },
  "language_info": {
   "codemirror_mode": {
    "name": "ipython",
    "version": 3
   },
   "file_extension": ".py",
   "mimetype": "text/x-python",
   "name": "python",
   "nbconvert_exporter": "python",
   "pygments_lexer": "ipython3",
   "version": "3.8.3"
  }
 },
 "nbformat": 4,
 "nbformat_minor": 2
}
