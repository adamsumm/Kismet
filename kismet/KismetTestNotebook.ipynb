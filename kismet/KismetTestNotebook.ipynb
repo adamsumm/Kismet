{
 "cells": [
  {
   "cell_type": "code",
   "execution_count": 1,
   "metadata": {},
   "outputs": [],
   "source": [
    "##ONLY RUN THIS IF YOU NEED TO RECOMPILE THE LEXER AND PARSER\n",
    "if True:\n",
    "    !java -jar antlr-4.7.2-complete.jar -visitor -Dlanguage=Python3 kismet_initialization.ebnf\n",
    "    !java -jar antlr-4.7.2-complete.jar -visitor -Dlanguage=Python3 kismet.ebnv"
   ]
  },
  {
   "cell_type": "code",
   "execution_count": 2,
   "metadata": {},
   "outputs": [],
   "source": [
    "from Kismet import *"
   ]
  },
  {
   "cell_type": "code",
   "execution_count": 3,
   "metadata": {},
   "outputs": [
    {
     "name": "stdout",
     "output_type": "stream",
     "text": [
      "*************************POTENTIAL PROBLEMS*************************\n",
      "Tags: Not referenced in traits\n",
      "\temployment\n",
      "Tags: Referenced in traits but not found in actions\n",
      "\treformist\n",
      "\tnarcissistic\n",
      "\tskeptic\n",
      "\ttraditionalist\n",
      "\tbeliever\n",
      "Traits: Not referenced in actions\n",
      "\tage\n",
      "\treformist\n",
      "\tnarcissistic\n",
      "\tlikes\n",
      "\tskeptic\n",
      "\tgregarious\n",
      "\ttraditionalist\n",
      "\tbeliever\n",
      "Traits: Referenced in actions but not found\n",
      "\tregular\n",
      "\tforeman\n",
      "\tstudent\n",
      "\thousekeeper\n",
      "\towner\n",
      "\tpatron\n",
      "\tfisherman\n",
      "\tvisitor\n",
      "\tdockworker\n",
      "\tcustomer\n",
      "\tboarder\n",
      "\tpriest\n",
      "\tclerk\n",
      "\tunionrep\n",
      "\theadmaster\n",
      "\tdeacon\n",
      "\tsailor\n",
      "Patterns: Not referenced in actions or traits\n",
      "\tmutual_dislike\n",
      "\tnemesis\n",
      "\tromantic_rivals\n",
      "*************************Reference Section*************************\n",
      "Actions\n",
      "\twarehouse_union_rep\n",
      "\tfish\n",
      "\tboarding_house_maintenance\n",
      "\twarehouse_owner\n",
      "\twharf_loiter\n",
      "\tbookstore_customer\n",
      "\tstudent_learning\n",
      "\tboarding_house_visitor\n",
      "\tpray_alone\n",
      "\tsermon\n",
      "\tbookstore_regular\n",
      "\tloiterer\n",
      "\tboarder_lounge\n",
      "\twharf_work\n",
      "\tbar_generic\n",
      "\thousekeeping\n",
      "\tstudy_religion\n",
      "\tbookstore_owner\n",
      "\twarehouse_foreman\n",
      "\twarehouse_worker\n",
      "\tsailor_loiter\n",
      "\theadmaster_teaches\n",
      "\tbookstore_clerk\n",
      "Patterns\n",
      "\tmutual_dislike\n",
      "\tnemesis\n",
      "\tromantic_rivals\n",
      "Tags\n",
      "\tschool\n",
      "\t\t referenced in: headmaster_teaches, student_learning\n",
      "\tchurch\n",
      "\t\t referenced in: pray_alone, study_religion, sermon\n",
      "\twharf\n",
      "\t\t referenced in: wharf_work, fish, wharf_loiter, sailor_loiter\n",
      "\tbookstore\n",
      "\t\t referenced in: bookstore_owner, bookstore_clerk, bookstore_regular, bookstore_customer\n",
      "\tboarding_house\n",
      "\t\t referenced in: boarder_lounge, housekeeping, boarding_house_maintenance, boarding_house_visitor\n",
      "\ttown_square\n",
      "\t\t referenced in: loiterer\n",
      "\twarehouse\n",
      "\t\t referenced in: warehouse_union_rep, warehouse_foreman, warehouse_owner, warehouse_worker\n",
      "\tbar\n",
      "\t\t referenced in: bar_generic\n",
      "Traits\n",
      "\tlikes\n",
      "\tstudent\n",
      "\t\t referenced in: student_learning\n",
      "\tskeptic\n",
      "\t\t referenced in: skeptic\n",
      "\tpatron\n",
      "\t\t referenced in: pray_alone\n",
      "\tage\n",
      "\tvisitor\n",
      "\t\t referenced in: boarding_house_visitor\n",
      "\treformist\n",
      "\t\t referenced in: reformist\n",
      "\tpriest\n",
      "\t\t referenced in: study_religion\n",
      "\tunionrep\n",
      "\t\t referenced in: warehouse_union_rep\n",
      "\theadmaster\n",
      "\t\t referenced in: headmaster_teaches\n",
      "\tdeacon\n",
      "\t\t referenced in: sermon\n",
      "\tregular\n",
      "\t\t referenced in: bookstore_regular\n",
      "\tforeman\n",
      "\t\t referenced in: warehouse_foreman\n",
      "\thousekeeper\n",
      "\t\t referenced in: housekeeping\n",
      "\towner\n",
      "\t\t referenced in: bookstore_owner, boarding_house_maintenance, warehouse_owner\n",
      "\tgregarious\n",
      "\tfisherman\n",
      "\t\t referenced in: fish\n",
      "\tdockworker\n",
      "\t\t referenced in: wharf_work\n",
      "\tcustomer\n",
      "\t\t referenced in: bookstore_customer\n",
      "\tnarcissistic\n",
      "\t\t referenced in: narcissistic, gregarious\n",
      "\tboarder\n",
      "\t\t referenced in: boarder_lounge\n",
      "\tclerk\n",
      "\t\t referenced in: bookstore_clerk\n",
      "\tworker\n",
      "\t\t referenced in: warehouse_worker\n",
      "\ttraditionalist\n",
      "\t\t referenced in: traditionalist\n",
      "\tbeliever\n",
      "\t\t referenced in: believer\n",
      "\tsailor\n",
      "\t\t referenced in: sailor_loiter\n",
      "Requirements:\n",
      "pray_alone\n",
      "\tReferences: patron, church\n",
      "sermon\n",
      "\tReferences: church, deacon\n",
      "study_religion\n",
      "\tReferences: priest, church\n",
      "boarding_house_maintenance\n",
      "\tReferences: owner, boarding_house\n",
      "housekeeping\n",
      "\tReferences: housekeeper, boarding_house\n",
      "boarder_lounge\n",
      "\tReferences: boarder, boarding_house\n",
      "boarding_house_visitor\n",
      "\tReferences: visitor, boarding_house\n",
      "loiterer\n",
      "\tReferences: town_square\n",
      "student_learning\n",
      "\tReferences: school, student\n",
      "headmaster_teaches\n",
      "\tReferences: school, headmaster\n",
      "bookstore_owner\n",
      "\tReferences: owner, bookstore\n",
      "bookstore_clerk\n",
      "\tReferences: clerk, bookstore\n",
      "bookstore_regular\n",
      "\tReferences: regular, bookstore\n",
      "bookstore_customer\n",
      "\tReferences: customer, bookstore\n",
      "wharf_work\n",
      "\tReferences: wharf, dockworker\n",
      "fish\n",
      "\tReferences: wharf, fisherman\n",
      "sailor_loiter\n",
      "\tReferences: wharf, sailor\n",
      "wharf_loiter\n",
      "\tReferences: wharf\n",
      "warehouse_owner\n",
      "\tReferences: owner, warehouse\n",
      "warehouse_union_rep\n",
      "\tReferences: unionrep, warehouse\n",
      "warehouse_foreman\n",
      "\tReferences: foreman, warehouse\n",
      "warehouse_worker\n",
      "\tReferences: warehouse, worker\n",
      "bar_generic\n",
      "\tReferences: bar\n",
      "likes\n",
      "gregarious\n",
      "\tReferences: narcissistic\n",
      "narcissistic\n",
      "\tReferences: narcissistic\n",
      "traditionalist\n",
      "\tReferences: traditionalist\n",
      "reformist\n",
      "\tReferences: reformist\n",
      "skeptic\n",
      "\tReferences: skeptic\n",
      "believer\n",
      "\tReferences: believer\n",
      "worker\n"
     ]
    }
   ],
   "source": [
    "kismetModule = KismetModule('cult.kismet',\n",
    "                            'test.init',\n",
    "                            ['../tracery/edwardian.tracery'], \n",
    "                                    ignore_logit=3.0, \n",
    "                                    observation_temp=1.5,\n",
    "                                    history_cutoff=10,\n",
    "                                    action_budget = 3,\n",
    "                                    default_cost = 3,)"
   ]
  },
  {
   "cell_type": "code",
   "execution_count": 4,
   "metadata": {},
   "outputs": [],
   "source": [
    "kismetModule.make_population()\n",
    "#kismetModule.population2asp()"
   ]
  },
  {
   "cell_type": "code",
   "execution_count": 5,
   "metadata": {
    "scrolled": false
   },
   "outputs": [
    {
     "data": {
      "application/vnd.jupyter.widget-view+json": {
       "model_id": "90cc06e012bb40bcb8e106e31664525b",
       "version_major": 2,
       "version_minor": 0
      },
      "text/plain": [
       "HBox(children=(FloatProgress(value=0.0, max=2.0), HTML(value='')))"
      ]
     },
     "metadata": {},
     "output_type": "display_data"
    },
    {
     "name": "stdout",
     "output_type": "stream",
     "text": [
      "\n"
     ]
    }
   ],
   "source": [
    "from tqdm.notebook import tqdm \n",
    "\n",
    "for _ in tqdm(range(2)):\n",
    "    kismetModule.step_actions()"
   ]
  },
  {
   "cell_type": "code",
   "execution_count": 6,
   "metadata": {},
   "outputs": [
    {
     "name": "stdout",
     "output_type": "stream",
     "text": [
      "{'neil_downfield': {'name': 'Neil Downfield', 'asp_name': 'neil_downfield', 'traits': {'narcissistic', 'traditionalist', 'worker'}, 'status': {('priest', 'the_church_of_immortal_wisdom'): None, ('employee', 'the_church_of_immortal_wisdom'): None, ('age',): 34, ('likes', 'neil_downfield'): 0, ('likes', 'marcus_hartstock'): 0, ('likes', 'nora_walmont'): 0, ('likes', 'clementine_somerstock'): 0, ('likes', 'reginald_sutsfel'): 0, ('likes', 'rosalie_athertham'): 0, ('likes', 'muriel_bedling'): 0, ('likes', 'maureen_downville'): 0, ('likes', 'olaf_chestersbury'): 0, ('likes', 'sibila_hereling'): 0, ('likes', 'rosalynd_melditch'): 0, ('likes', 'irene_melditch'): 0, ('likes', 'oswald_blackton'): 0, ('likes', 'marcia_comditch'): 0, ('likes', 'gladys_farnshire'): 0, ('likes', 'vivian_welsbury'): 0, ('likes', 'wilfred_downham'): 0, ('likes', 'jessica_polritch'): 0, ('likes', 'neil_polham'): 0, ('likes', 'evan_buckingritch'): 0, ('likes', 'philippa_clearville'): 0, ('likes', 'marcus_sandling'): 0, ('likes', 'bridget_farnhall'): 0, ('likes', 'teresa_berkborough'): 0, ('likes', 'stella_edshire'): 0, ('likes', 'amabel_clarehall'): 0, ('likes', 'leopold_buckingmont'): 0, ('likes', 'beatrix_pensfel'): 0, ('likes', 'almeric_stamritch'): 0, ('likes', 'anthony_kirkham'): 0, ('likes', 'alwyn_clearsbury'): 0, ('likes', 'irmentrude_welridge'): 0, ('likes', 'eleonora_farnhall'): 0, ('likes', 'emeline_norham'): 0}}, 'marcus_hartstock': {'name': 'Marcus Hartstock', 'asp_name': 'marcus_hartstock', 'traits': {'reformist', 'worker'}, 'status': {('employee', 'the_church_of_immortal_wisdom'): None, ('deacon', 'the_church_of_immortal_wisdom'): None, ('age',): 42, ('likes', 'neil_downfield'): 0, ('likes', 'marcus_hartstock'): 0, ('likes', 'nora_walmont'): 0, ('likes', 'clementine_somerstock'): 0, ('likes', 'reginald_sutsfel'): 0, ('likes', 'rosalie_athertham'): 0, ('likes', 'muriel_bedling'): 0, ('likes', 'maureen_downville'): 0, ('likes', 'olaf_chestersbury'): 0, ('likes', 'sibila_hereling'): 0, ('likes', 'rosalynd_melditch'): 0, ('likes', 'irene_melditch'): 0, ('likes', 'oswald_blackton'): 0, ('likes', 'marcia_comditch'): 0, ('likes', 'gladys_farnshire'): 0, ('likes', 'vivian_welsbury'): 0, ('likes', 'wilfred_downham'): 0, ('likes', 'jessica_polritch'): 0, ('likes', 'neil_polham'): 0, ('likes', 'evan_buckingritch'): 0, ('likes', 'philippa_clearville'): 0, ('likes', 'marcus_sandling'): 0, ('likes', 'bridget_farnhall'): 0, ('likes', 'teresa_berkborough'): 0, ('likes', 'stella_edshire'): 0, ('likes', 'amabel_clarehall'): 0, ('likes', 'leopold_buckingmont'): 0, ('likes', 'beatrix_pensfel'): 0, ('likes', 'almeric_stamritch'): 0, ('likes', 'anthony_kirkham'): 0, ('likes', 'alwyn_clearsbury'): 0, ('likes', 'irmentrude_welridge'): 0, ('likes', 'eleonora_farnhall'): 0, ('likes', 'emeline_norham'): 0}}, 'nora_walmont': {'name': 'Nora Walmont', 'asp_name': 'nora_walmont', 'traits': {'gregarious', 'believer', 'worker'}, 'status': {('headmaster', 'pickman_private_school'): None, ('employee', 'pickman_private_school'): None, ('regular', 'blackton_s_rare_books_&_maps'): None, ('age',): 44, ('likes', 'neil_downfield'): 0, ('likes', 'marcus_hartstock'): 0, ('likes', 'nora_walmont'): 0, ('likes', 'clementine_somerstock'): 0, ('likes', 'reginald_sutsfel'): 0, ('likes', 'rosalie_athertham'): 0, ('likes', 'muriel_bedling'): 0, ('likes', 'maureen_downville'): 0, ('likes', 'olaf_chestersbury'): 0, ('likes', 'sibila_hereling'): 0, ('likes', 'rosalynd_melditch'): 0, ('likes', 'irene_melditch'): 0, ('likes', 'oswald_blackton'): 0, ('likes', 'marcia_comditch'): 0, ('likes', 'gladys_farnshire'): 0, ('likes', 'vivian_welsbury'): 0, ('likes', 'wilfred_downham'): 0, ('likes', 'jessica_polritch'): 0, ('likes', 'neil_polham'): 0, ('likes', 'evan_buckingritch'): 0, ('likes', 'philippa_clearville'): 0, ('likes', 'marcus_sandling'): 0, ('likes', 'bridget_farnhall'): 0, ('likes', 'teresa_berkborough'): 0, ('likes', 'stella_edshire'): 0, ('likes', 'amabel_clarehall'): 0, ('likes', 'leopold_buckingmont'): 0, ('likes', 'beatrix_pensfel'): 0, ('likes', 'almeric_stamritch'): 0, ('likes', 'anthony_kirkham'): 0, ('likes', 'alwyn_clearsbury'): 0, ('likes', 'irmentrude_welridge'): 0, ('likes', 'eleonora_farnhall'): 0, ('likes', 'emeline_norham'): 0}}, 'clementine_somerstock': {'name': 'Clementine Somerstock', 'asp_name': 'clementine_somerstock', 'traits': {'skeptic', 'worker'}, 'status': {('child',): None, ('student', 'pickman_private_school'): None, ('employee', 'pickman_private_school'): None, ('age',): 10, ('likes', 'neil_downfield'): 0, ('likes', 'marcus_hartstock'): 0, ('likes', 'nora_walmont'): 0, ('likes', 'clementine_somerstock'): 0, ('likes', 'reginald_sutsfel'): 0, ('likes', 'rosalie_athertham'): 0, ('likes', 'muriel_bedling'): 0, ('likes', 'maureen_downville'): 0, ('likes', 'olaf_chestersbury'): 0, ('likes', 'sibila_hereling'): 0, ('likes', 'rosalynd_melditch'): 0, ('likes', 'irene_melditch'): 0, ('likes', 'oswald_blackton'): 0, ('likes', 'marcia_comditch'): 0, ('likes', 'gladys_farnshire'): 0, ('likes', 'vivian_welsbury'): 0, ('likes', 'wilfred_downham'): 0, ('likes', 'jessica_polritch'): 0, ('likes', 'neil_polham'): 0, ('likes', 'evan_buckingritch'): 0, ('likes', 'philippa_clearville'): 0, ('likes', 'marcus_sandling'): 0, ('likes', 'bridget_farnhall'): 0, ('likes', 'teresa_berkborough'): 0, ('likes', 'stella_edshire'): 0, ('likes', 'amabel_clarehall'): 0, ('likes', 'leopold_buckingmont'): 0, ('likes', 'beatrix_pensfel'): 0, ('likes', 'almeric_stamritch'): 0, ('likes', 'anthony_kirkham'): 0, ('likes', 'alwyn_clearsbury'): 0, ('likes', 'irmentrude_welridge'): 0, ('likes', 'eleonora_farnhall'): 0, ('likes', 'emeline_norham'): 0}}, 'reginald_sutsfel': {'name': 'Reginald Sutsfel', 'asp_name': 'reginald_sutsfel', 'traits': {'narcissistic', 'reformist', 'worker'}, 'status': {('child',): None, ('student', 'pickman_private_school'): None, ('employee', 'pickman_private_school'): None, ('age',): 16, ('likes', 'neil_downfield'): 0, ('likes', 'marcus_hartstock'): 0, ('likes', 'nora_walmont'): 0, ('likes', 'clementine_somerstock'): 0, ('likes', 'reginald_sutsfel'): 0, ('likes', 'rosalie_athertham'): 0, ('likes', 'muriel_bedling'): 0, ('likes', 'maureen_downville'): 0, ('likes', 'olaf_chestersbury'): 0, ('likes', 'sibila_hereling'): 0, ('likes', 'rosalynd_melditch'): 0, ('likes', 'irene_melditch'): 0, ('likes', 'oswald_blackton'): 0, ('likes', 'marcia_comditch'): 0, ('likes', 'gladys_farnshire'): 0, ('likes', 'vivian_welsbury'): 0, ('likes', 'wilfred_downham'): 0, ('likes', 'jessica_polritch'): 0, ('likes', 'neil_polham'): 0, ('likes', 'evan_buckingritch'): 0, ('likes', 'philippa_clearville'): 0, ('likes', 'marcus_sandling'): 0, ('likes', 'bridget_farnhall'): 0, ('likes', 'teresa_berkborough'): 0, ('likes', 'stella_edshire'): 0, ('likes', 'amabel_clarehall'): 0, ('likes', 'leopold_buckingmont'): 0, ('likes', 'beatrix_pensfel'): 0, ('likes', 'almeric_stamritch'): 0, ('likes', 'anthony_kirkham'): 0, ('likes', 'alwyn_clearsbury'): 0, ('likes', 'irmentrude_welridge'): 0, ('likes', 'eleonora_farnhall'): 0, ('likes', 'emeline_norham'): 0}}, 'rosalie_athertham': {'name': 'Rosalie Athertham', 'asp_name': 'rosalie_athertham', 'traits': {'gregarious', 'reformist', 'worker'}, 'status': {('child',): None, ('student', 'pickman_private_school'): None, ('employee', 'pickman_private_school'): None, ('age',): 13, ('likes', 'neil_downfield'): 0, ('likes', 'marcus_hartstock'): 0, ('likes', 'nora_walmont'): 0, ('likes', 'clementine_somerstock'): 0, ('likes', 'reginald_sutsfel'): 0, ('likes', 'rosalie_athertham'): 0, ('likes', 'muriel_bedling'): 0, ('likes', 'maureen_downville'): 0, ('likes', 'olaf_chestersbury'): 0, ('likes', 'sibila_hereling'): 0, ('likes', 'rosalynd_melditch'): 0, ('likes', 'irene_melditch'): 0, ('likes', 'oswald_blackton'): 0, ('likes', 'marcia_comditch'): 0, ('likes', 'gladys_farnshire'): 0, ('likes', 'vivian_welsbury'): 0, ('likes', 'wilfred_downham'): 0, ('likes', 'jessica_polritch'): 0, ('likes', 'neil_polham'): 0, ('likes', 'evan_buckingritch'): 0, ('likes', 'philippa_clearville'): 0, ('likes', 'marcus_sandling'): 0, ('likes', 'bridget_farnhall'): 0, ('likes', 'teresa_berkborough'): 0, ('likes', 'stella_edshire'): 0, ('likes', 'amabel_clarehall'): 0, ('likes', 'leopold_buckingmont'): 0, ('likes', 'beatrix_pensfel'): 0, ('likes', 'almeric_stamritch'): 0, ('likes', 'anthony_kirkham'): 0, ('likes', 'alwyn_clearsbury'): 0, ('likes', 'irmentrude_welridge'): 0, ('likes', 'eleonora_farnhall'): 0, ('likes', 'emeline_norham'): 0}}, 'muriel_bedling': {'name': 'Muriel Bedling', 'asp_name': 'muriel_bedling', 'traits': {'gregarious', 'believer', 'worker'}, 'status': {('child',): None, ('student', 'pickman_private_school'): None, ('employee', 'pickman_private_school'): None, ('age',): 12, ('likes', 'neil_downfield'): 0, ('likes', 'marcus_hartstock'): 0, ('likes', 'nora_walmont'): 0, ('likes', 'clementine_somerstock'): 0, ('likes', 'reginald_sutsfel'): 0, ('likes', 'rosalie_athertham'): 0, ('likes', 'muriel_bedling'): 0, ('likes', 'maureen_downville'): 0, ('likes', 'olaf_chestersbury'): 0, ('likes', 'sibila_hereling'): 0, ('likes', 'rosalynd_melditch'): 0, ('likes', 'irene_melditch'): 0, ('likes', 'oswald_blackton'): 0, ('likes', 'marcia_comditch'): 0, ('likes', 'gladys_farnshire'): 0, ('likes', 'vivian_welsbury'): 0, ('likes', 'wilfred_downham'): 0, ('likes', 'jessica_polritch'): 0, ('likes', 'neil_polham'): 0, ('likes', 'evan_buckingritch'): 0, ('likes', 'philippa_clearville'): 0, ('likes', 'marcus_sandling'): 0, ('likes', 'bridget_farnhall'): 0, ('likes', 'teresa_berkborough'): 0, ('likes', 'stella_edshire'): 0, ('likes', 'amabel_clarehall'): 0, ('likes', 'leopold_buckingmont'): 0, ('likes', 'beatrix_pensfel'): 0, ('likes', 'almeric_stamritch'): 0, ('likes', 'anthony_kirkham'): 0, ('likes', 'alwyn_clearsbury'): 0, ('likes', 'irmentrude_welridge'): 0, ('likes', 'eleonora_farnhall'): 0, ('likes', 'emeline_norham'): 0}}, 'maureen_downville': {'name': 'Maureen Downville', 'asp_name': 'maureen_downville', 'traits': {'narcissistic', 'worker'}, 'status': {('child',): None, ('student', 'pickman_private_school'): None, ('employee', 'pickman_private_school'): None, ('age',): 14, ('likes', 'neil_downfield'): 0, ('likes', 'marcus_hartstock'): 0, ('likes', 'nora_walmont'): 0, ('likes', 'clementine_somerstock'): 0, ('likes', 'reginald_sutsfel'): 0, ('likes', 'rosalie_athertham'): 0, ('likes', 'muriel_bedling'): 0, ('likes', 'maureen_downville'): 0, ('likes', 'olaf_chestersbury'): 0, ('likes', 'sibila_hereling'): 0, ('likes', 'rosalynd_melditch'): 0, ('likes', 'irene_melditch'): 0, ('likes', 'oswald_blackton'): 0, ('likes', 'marcia_comditch'): 0, ('likes', 'gladys_farnshire'): 0, ('likes', 'vivian_welsbury'): 0, ('likes', 'wilfred_downham'): 0, ('likes', 'jessica_polritch'): 0, ('likes', 'neil_polham'): 0, ('likes', 'evan_buckingritch'): 0, ('likes', 'philippa_clearville'): 0, ('likes', 'marcus_sandling'): 0, ('likes', 'bridget_farnhall'): 0, ('likes', 'teresa_berkborough'): 0, ('likes', 'stella_edshire'): 0, ('likes', 'amabel_clarehall'): 0, ('likes', 'leopold_buckingmont'): 0, ('likes', 'beatrix_pensfel'): 0, ('likes', 'almeric_stamritch'): 0, ('likes', 'anthony_kirkham'): 0, ('likes', 'alwyn_clearsbury'): 0, ('likes', 'irmentrude_welridge'): 0, ('likes', 'eleonora_farnhall'): 0, ('likes', 'emeline_norham'): 0}}, 'olaf_chestersbury': {'name': 'Olaf Chestersbury', 'asp_name': 'olaf_chestersbury', 'traits': {'gregarious', 'reformist', 'worker'}, 'status': {('child',): None, ('student', 'pickman_private_school'): None, ('employee', 'pickman_private_school'): None, ('age',): 14, ('likes', 'neil_downfield'): 0, ('likes', 'marcus_hartstock'): 0, ('likes', 'nora_walmont'): 0, ('likes', 'clementine_somerstock'): 0, ('likes', 'reginald_sutsfel'): 0, ('likes', 'rosalie_athertham'): 0, ('likes', 'muriel_bedling'): 0, ('likes', 'maureen_downville'): 0, ('likes', 'olaf_chestersbury'): 0, ('likes', 'sibila_hereling'): 0, ('likes', 'rosalynd_melditch'): 0, ('likes', 'irene_melditch'): 0, ('likes', 'oswald_blackton'): 0, ('likes', 'marcia_comditch'): 0, ('likes', 'gladys_farnshire'): 0, ('likes', 'vivian_welsbury'): 0, ('likes', 'wilfred_downham'): 0, ('likes', 'jessica_polritch'): 0, ('likes', 'neil_polham'): 0, ('likes', 'evan_buckingritch'): 0, ('likes', 'philippa_clearville'): 0, ('likes', 'marcus_sandling'): 0, ('likes', 'bridget_farnhall'): 0, ('likes', 'teresa_berkborough'): 0, ('likes', 'stella_edshire'): 0, ('likes', 'amabel_clarehall'): 0, ('likes', 'leopold_buckingmont'): 0, ('likes', 'beatrix_pensfel'): 0, ('likes', 'almeric_stamritch'): 0, ('likes', 'anthony_kirkham'): 0, ('likes', 'alwyn_clearsbury'): 0, ('likes', 'irmentrude_welridge'): 0, ('likes', 'eleonora_farnhall'): 0, ('likes', 'emeline_norham'): 0}}, 'sibila_hereling': {'name': 'Sibila Hereling', 'asp_name': 'sibila_hereling', 'traits': {'gregarious', 'traditionalist', 'worker'}, 'status': {('child',): None, ('student', 'pickman_private_school'): None, ('employee', 'pickman_private_school'): None, ('age',): 6, ('likes', 'neil_downfield'): 0, ('likes', 'marcus_hartstock'): 0, ('likes', 'nora_walmont'): 0, ('likes', 'clementine_somerstock'): 0, ('likes', 'reginald_sutsfel'): 0, ('likes', 'rosalie_athertham'): 0, ('likes', 'muriel_bedling'): 0, ('likes', 'maureen_downville'): 0, ('likes', 'olaf_chestersbury'): 0, ('likes', 'sibila_hereling'): 0, ('likes', 'rosalynd_melditch'): 0, ('likes', 'irene_melditch'): 0, ('likes', 'oswald_blackton'): 0, ('likes', 'marcia_comditch'): 0, ('likes', 'gladys_farnshire'): 0, ('likes', 'vivian_welsbury'): 0, ('likes', 'wilfred_downham'): 0, ('likes', 'jessica_polritch'): 0, ('likes', 'neil_polham'): 0, ('likes', 'evan_buckingritch'): 0, ('likes', 'philippa_clearville'): 0, ('likes', 'marcus_sandling'): 0, ('likes', 'bridget_farnhall'): 0, ('likes', 'teresa_berkborough'): 0, ('likes', 'stella_edshire'): 0, ('likes', 'amabel_clarehall'): 0, ('likes', 'leopold_buckingmont'): 0, ('likes', 'beatrix_pensfel'): 0, ('likes', 'almeric_stamritch'): 0, ('likes', 'anthony_kirkham'): 0, ('likes', 'alwyn_clearsbury'): 0, ('likes', 'irmentrude_welridge'): 0, ('likes', 'eleonora_farnhall'): 0, ('likes', 'emeline_norham'): 0}}, 'rosalynd_melditch': {'name': 'Rosalynd Melditch', 'asp_name': 'rosalynd_melditch', 'traits': {'skeptic', 'worker'}, 'status': {('resident', 'melditch_s_house'): None, ('married', 'irene_melditch'): None, ('owner', 'melditch_s_house'): None, ('employee', 'melditch_s_house'): None, ('likes', 'irene_melditch'): 10, ('age',): 18, ('likes', 'neil_downfield'): 0, ('likes', 'marcus_hartstock'): 0, ('likes', 'nora_walmont'): 0, ('likes', 'clementine_somerstock'): 0, ('likes', 'reginald_sutsfel'): 0, ('likes', 'rosalie_athertham'): 0, ('likes', 'muriel_bedling'): 0, ('likes', 'maureen_downville'): 0, ('likes', 'olaf_chestersbury'): 0, ('likes', 'sibila_hereling'): 0, ('likes', 'rosalynd_melditch'): 0, ('likes', 'oswald_blackton'): 0, ('likes', 'marcia_comditch'): 0, ('likes', 'gladys_farnshire'): 0, ('likes', 'vivian_welsbury'): 0, ('likes', 'wilfred_downham'): 0, ('likes', 'jessica_polritch'): 0, ('likes', 'neil_polham'): 0, ('likes', 'evan_buckingritch'): 0, ('likes', 'philippa_clearville'): 0, ('likes', 'marcus_sandling'): 0, ('likes', 'bridget_farnhall'): 0, ('likes', 'teresa_berkborough'): 0, ('likes', 'stella_edshire'): 0, ('likes', 'amabel_clarehall'): 0, ('likes', 'leopold_buckingmont'): 0, ('likes', 'beatrix_pensfel'): 0, ('likes', 'almeric_stamritch'): 0, ('likes', 'anthony_kirkham'): 0, ('likes', 'alwyn_clearsbury'): 0, ('likes', 'irmentrude_welridge'): 0, ('likes', 'eleonora_farnhall'): 0, ('likes', 'emeline_norham'): 0}}, 'irene_melditch': {'name': 'Irene Melditch', 'asp_name': 'irene_melditch', 'traits': {'narcissistic', 'worker'}, 'status': {('employee', 'melditch_s_house'): None, ('resident', 'melditch_s_house'): None, ('married', 'rosalynd_melditch'): None, ('housekeeper', 'melditch_s_house'): None, ('likes', 'rosalynd_melditch'): 10, ('age',): 31, ('likes', 'neil_downfield'): 0, ('likes', 'marcus_hartstock'): 0, ('likes', 'nora_walmont'): 0, ('likes', 'clementine_somerstock'): 0, ('likes', 'reginald_sutsfel'): 0, ('likes', 'rosalie_athertham'): 0, ('likes', 'muriel_bedling'): 0, ('likes', 'maureen_downville'): 0, ('likes', 'olaf_chestersbury'): 0, ('likes', 'sibila_hereling'): 0, ('likes', 'irene_melditch'): 0, ('likes', 'oswald_blackton'): 0, ('likes', 'marcia_comditch'): 0, ('likes', 'gladys_farnshire'): 0, ('likes', 'vivian_welsbury'): 0, ('likes', 'wilfred_downham'): 0, ('likes', 'jessica_polritch'): 0, ('likes', 'neil_polham'): 0, ('likes', 'evan_buckingritch'): 0, ('likes', 'philippa_clearville'): 0, ('likes', 'marcus_sandling'): 0, ('likes', 'bridget_farnhall'): 0, ('likes', 'teresa_berkborough'): 0, ('likes', 'stella_edshire'): 0, ('likes', 'amabel_clarehall'): 0, ('likes', 'leopold_buckingmont'): 0, ('likes', 'beatrix_pensfel'): 0, ('likes', 'almeric_stamritch'): 0, ('likes', 'anthony_kirkham'): 0, ('likes', 'alwyn_clearsbury'): 0, ('likes', 'irmentrude_welridge'): 0, ('likes', 'eleonora_farnhall'): 0, ('likes', 'emeline_norham'): 0}}, 'oswald_blackton': {'name': 'Oswald Blackton', 'asp_name': 'oswald_blackton', 'traits': {'gregarious', 'believer', 'worker'}, 'status': {('resident', 'melditch_s_house'): None, ('boarder', 'melditch_s_house'): None, ('employee', 'blackton_s_rare_books_&_maps'): None, ('owner', 'blackton_s_rare_books_&_maps'): None, ('age',): 48, ('likes', 'neil_downfield'): 0, ('likes', 'marcus_hartstock'): 0, ('likes', 'nora_walmont'): 0, ('likes', 'clementine_somerstock'): 0, ('likes', 'reginald_sutsfel'): 0, ('likes', 'rosalie_athertham'): 0, ('likes', 'muriel_bedling'): 0, ('likes', 'maureen_downville'): 0, ('likes', 'olaf_chestersbury'): 0, ('likes', 'sibila_hereling'): 0, ('likes', 'rosalynd_melditch'): 0, ('likes', 'irene_melditch'): 0, ('likes', 'oswald_blackton'): 0, ('likes', 'marcia_comditch'): 0, ('likes', 'gladys_farnshire'): 0, ('likes', 'vivian_welsbury'): 0, ('likes', 'wilfred_downham'): 0, ('likes', 'jessica_polritch'): 0, ('likes', 'neil_polham'): 0, ('likes', 'evan_buckingritch'): 0, ('likes', 'philippa_clearville'): 0, ('likes', 'marcus_sandling'): 0, ('likes', 'bridget_farnhall'): 0, ('likes', 'teresa_berkborough'): 0, ('likes', 'stella_edshire'): 0, ('likes', 'amabel_clarehall'): 0, ('likes', 'leopold_buckingmont'): 0, ('likes', 'beatrix_pensfel'): 0, ('likes', 'almeric_stamritch'): 0, ('likes', 'anthony_kirkham'): 0, ('likes', 'alwyn_clearsbury'): 0, ('likes', 'irmentrude_welridge'): 0, ('likes', 'eleonora_farnhall'): 0, ('likes', 'emeline_norham'): 0}}, 'marcia_comditch': {'name': 'Marcia Comditch', 'asp_name': 'marcia_comditch', 'traits': {'reformist', 'worker'}, 'status': {('resident', 'melditch_s_house'): None, ('boarder', 'melditch_s_house'): None, ('sailor', 'the_wharf'): None, ('employee', 'the_wharf'): None, ('age',): 43, ('likes', 'neil_downfield'): 0, ('likes', 'marcus_hartstock'): 0, ('likes', 'nora_walmont'): 0, ('likes', 'clementine_somerstock'): 0, ('likes', 'reginald_sutsfel'): 0, ('likes', 'rosalie_athertham'): 0, ('likes', 'muriel_bedling'): 0, ('likes', 'maureen_downville'): 0, ('likes', 'olaf_chestersbury'): 0, ('likes', 'sibila_hereling'): 0, ('likes', 'rosalynd_melditch'): 0, ('likes', 'irene_melditch'): 0, ('likes', 'oswald_blackton'): 0, ('likes', 'marcia_comditch'): 0, ('likes', 'gladys_farnshire'): 0, ('likes', 'vivian_welsbury'): 0, ('likes', 'wilfred_downham'): 0, ('likes', 'jessica_polritch'): 0, ('likes', 'neil_polham'): 0, ('likes', 'evan_buckingritch'): 0, ('likes', 'philippa_clearville'): 0, ('likes', 'marcus_sandling'): 0, ('likes', 'bridget_farnhall'): 0, ('likes', 'teresa_berkborough'): 0, ('likes', 'stella_edshire'): 0, ('likes', 'amabel_clarehall'): 0, ('likes', 'leopold_buckingmont'): 0, ('likes', 'beatrix_pensfel'): 0, ('likes', 'almeric_stamritch'): 0, ('likes', 'anthony_kirkham'): 0, ('likes', 'alwyn_clearsbury'): 0, ('likes', 'irmentrude_welridge'): 0, ('likes', 'eleonora_farnhall'): 0, ('likes', 'emeline_norham'): 0}}, 'gladys_farnshire': {'name': 'Gladys Farnshire', 'asp_name': 'gladys_farnshire', 'traits': {'gregarious', 'believer', 'worker'}, 'status': {('employee', 'blackton_s_rare_books_&_maps'): None, ('clerk', 'blackton_s_rare_books_&_maps'): None, ('age',): 26, ('likes', 'neil_downfield'): 0, ('likes', 'marcus_hartstock'): 0, ('likes', 'nora_walmont'): 0, ('likes', 'clementine_somerstock'): 0, ('likes', 'reginald_sutsfel'): 0, ('likes', 'rosalie_athertham'): 0, ('likes', 'muriel_bedling'): 0, ('likes', 'maureen_downville'): 0, ('likes', 'olaf_chestersbury'): 0, ('likes', 'sibila_hereling'): 0, ('likes', 'rosalynd_melditch'): 0, ('likes', 'irene_melditch'): 0, ('likes', 'oswald_blackton'): 0, ('likes', 'marcia_comditch'): 0, ('likes', 'gladys_farnshire'): 0, ('likes', 'vivian_welsbury'): 0, ('likes', 'wilfred_downham'): 0, ('likes', 'jessica_polritch'): 0, ('likes', 'neil_polham'): 0, ('likes', 'evan_buckingritch'): 0, ('likes', 'philippa_clearville'): 0, ('likes', 'marcus_sandling'): 0, ('likes', 'bridget_farnhall'): 0, ('likes', 'teresa_berkborough'): 0, ('likes', 'stella_edshire'): 0, ('likes', 'amabel_clarehall'): 0, ('likes', 'leopold_buckingmont'): 0, ('likes', 'beatrix_pensfel'): 0, ('likes', 'almeric_stamritch'): 0, ('likes', 'anthony_kirkham'): 0, ('likes', 'alwyn_clearsbury'): 0, ('likes', 'irmentrude_welridge'): 0, ('likes', 'eleonora_farnhall'): 0, ('likes', 'emeline_norham'): 0}}, 'vivian_welsbury': {'name': 'Vivian Welsbury', 'asp_name': 'vivian_welsbury', 'traits': {'gregarious', 'believer', 'worker'}, 'status': {('employee', 'blackton_s_rare_books_&_maps'): None, ('clerk', 'blackton_s_rare_books_&_maps'): None, ('age',): 19, ('likes', 'neil_downfield'): 0, ('likes', 'marcus_hartstock'): 0, ('likes', 'nora_walmont'): 0, ('likes', 'clementine_somerstock'): 0, ('likes', 'reginald_sutsfel'): 0, ('likes', 'rosalie_athertham'): 0, ('likes', 'muriel_bedling'): 0, ('likes', 'maureen_downville'): 0, ('likes', 'olaf_chestersbury'): 0, ('likes', 'sibila_hereling'): 0, ('likes', 'rosalynd_melditch'): 0, ('likes', 'irene_melditch'): 0, ('likes', 'oswald_blackton'): 0, ('likes', 'marcia_comditch'): 0, ('likes', 'gladys_farnshire'): 0, ('likes', 'vivian_welsbury'): 0, ('likes', 'wilfred_downham'): 0, ('likes', 'jessica_polritch'): 0, ('likes', 'neil_polham'): 0, ('likes', 'evan_buckingritch'): 0, ('likes', 'philippa_clearville'): 0, ('likes', 'marcus_sandling'): 0, ('likes', 'bridget_farnhall'): 0, ('likes', 'teresa_berkborough'): 0, ('likes', 'stella_edshire'): 0, ('likes', 'amabel_clarehall'): 0, ('likes', 'leopold_buckingmont'): 0, ('likes', 'beatrix_pensfel'): 0, ('likes', 'almeric_stamritch'): 0, ('likes', 'anthony_kirkham'): 0, ('likes', 'alwyn_clearsbury'): 0, ('likes', 'irmentrude_welridge'): 0, ('likes', 'eleonora_farnhall'): 0, ('likes', 'emeline_norham'): 0}}, 'wilfred_downham': {'name': 'Wilfred Downham', 'asp_name': 'wilfred_downham', 'traits': {'skeptic', 'narcissistic', 'worker'}, 'status': {('employee', 'blackton_s_rare_books_&_maps'): None, ('clerk', 'blackton_s_rare_books_&_maps'): None, ('age',): 35, ('likes', 'neil_downfield'): 0, ('likes', 'marcus_hartstock'): 0, ('likes', 'nora_walmont'): 0, ('likes', 'clementine_somerstock'): 0, ('likes', 'reginald_sutsfel'): 0, ('likes', 'rosalie_athertham'): 0, ('likes', 'muriel_bedling'): 0, ('likes', 'maureen_downville'): 0, ('likes', 'olaf_chestersbury'): 0, ('likes', 'sibila_hereling'): 0, ('likes', 'rosalynd_melditch'): 0, ('likes', 'irene_melditch'): 0, ('likes', 'oswald_blackton'): 0, ('likes', 'marcia_comditch'): 0, ('likes', 'gladys_farnshire'): 0, ('likes', 'vivian_welsbury'): 0, ('likes', 'wilfred_downham'): 0, ('likes', 'jessica_polritch'): 0, ('likes', 'neil_polham'): 0, ('likes', 'evan_buckingritch'): 0, ('likes', 'philippa_clearville'): 0, ('likes', 'marcus_sandling'): 0, ('likes', 'bridget_farnhall'): 0, ('likes', 'teresa_berkborough'): 0, ('likes', 'stella_edshire'): 0, ('likes', 'amabel_clarehall'): 0, ('likes', 'leopold_buckingmont'): 0, ('likes', 'beatrix_pensfel'): 0, ('likes', 'almeric_stamritch'): 0, ('likes', 'anthony_kirkham'): 0, ('likes', 'alwyn_clearsbury'): 0, ('likes', 'irmentrude_welridge'): 0, ('likes', 'eleonora_farnhall'): 0, ('likes', 'emeline_norham'): 0}}, 'jessica_polritch': {'name': 'Jessica Polritch', 'asp_name': 'jessica_polritch', 'traits': {'believer', 'worker'}, 'status': {('dockworker', 'the_wharf'): None, ('employee', 'the_wharf'): None, ('age',): 30, ('likes', 'neil_downfield'): 0, ('likes', 'marcus_hartstock'): 0, ('likes', 'nora_walmont'): 0, ('likes', 'clementine_somerstock'): 0, ('likes', 'reginald_sutsfel'): 0, ('likes', 'rosalie_athertham'): 0, ('likes', 'muriel_bedling'): 0, ('likes', 'maureen_downville'): 0, ('likes', 'olaf_chestersbury'): 0, ('likes', 'sibila_hereling'): 0, ('likes', 'rosalynd_melditch'): 0, ('likes', 'irene_melditch'): 0, ('likes', 'oswald_blackton'): 0, ('likes', 'marcia_comditch'): 0, ('likes', 'gladys_farnshire'): 0, ('likes', 'vivian_welsbury'): 0, ('likes', 'wilfred_downham'): 0, ('likes', 'jessica_polritch'): 0, ('likes', 'neil_polham'): 0, ('likes', 'evan_buckingritch'): 0, ('likes', 'philippa_clearville'): 0, ('likes', 'marcus_sandling'): 0, ('likes', 'bridget_farnhall'): 0, ('likes', 'teresa_berkborough'): 0, ('likes', 'stella_edshire'): 0, ('likes', 'amabel_clarehall'): 0, ('likes', 'leopold_buckingmont'): 0, ('likes', 'beatrix_pensfel'): 0, ('likes', 'almeric_stamritch'): 0, ('likes', 'anthony_kirkham'): 0, ('likes', 'alwyn_clearsbury'): 0, ('likes', 'irmentrude_welridge'): 0, ('likes', 'eleonora_farnhall'): 0, ('likes', 'emeline_norham'): 0}}, 'neil_polham': {'name': 'Neil Polham', 'asp_name': 'neil_polham', 'traits': {'believer', 'worker'}, 'status': {('dockworker', 'the_wharf'): None, ('employee', 'the_wharf'): None, ('age',): 33, ('likes', 'neil_downfield'): 0, ('likes', 'marcus_hartstock'): 0, ('likes', 'nora_walmont'): 0, ('likes', 'clementine_somerstock'): 0, ('likes', 'reginald_sutsfel'): 0, ('likes', 'rosalie_athertham'): 0, ('likes', 'muriel_bedling'): 0, ('likes', 'maureen_downville'): 0, ('likes', 'olaf_chestersbury'): 0, ('likes', 'sibila_hereling'): 0, ('likes', 'rosalynd_melditch'): 0, ('likes', 'irene_melditch'): 0, ('likes', 'oswald_blackton'): 0, ('likes', 'marcia_comditch'): 0, ('likes', 'gladys_farnshire'): 0, ('likes', 'vivian_welsbury'): 0, ('likes', 'wilfred_downham'): 0, ('likes', 'jessica_polritch'): 0, ('likes', 'neil_polham'): 0, ('likes', 'evan_buckingritch'): 0, ('likes', 'philippa_clearville'): 0, ('likes', 'marcus_sandling'): 0, ('likes', 'bridget_farnhall'): 0, ('likes', 'teresa_berkborough'): 0, ('likes', 'stella_edshire'): 0, ('likes', 'amabel_clarehall'): 0, ('likes', 'leopold_buckingmont'): 0, ('likes', 'beatrix_pensfel'): 0, ('likes', 'almeric_stamritch'): 0, ('likes', 'anthony_kirkham'): 0, ('likes', 'alwyn_clearsbury'): 0, ('likes', 'irmentrude_welridge'): 0, ('likes', 'eleonora_farnhall'): 0, ('likes', 'emeline_norham'): 0}}, 'evan_buckingritch': {'name': 'Evan Buckingritch', 'asp_name': 'evan_buckingritch', 'traits': {'narcissistic', 'worker'}, 'status': {('dockworker', 'the_wharf'): None, ('employee', 'the_wharf'): None, ('age',): 19, ('likes', 'neil_downfield'): 0, ('likes', 'marcus_hartstock'): 0, ('likes', 'nora_walmont'): 0, ('likes', 'clementine_somerstock'): 0, ('likes', 'reginald_sutsfel'): 0, ('likes', 'rosalie_athertham'): 0, ('likes', 'muriel_bedling'): 0, ('likes', 'maureen_downville'): 0, ('likes', 'olaf_chestersbury'): 0, ('likes', 'sibila_hereling'): 0, ('likes', 'rosalynd_melditch'): 0, ('likes', 'irene_melditch'): 0, ('likes', 'oswald_blackton'): 0, ('likes', 'marcia_comditch'): 0, ('likes', 'gladys_farnshire'): 0, ('likes', 'vivian_welsbury'): 0, ('likes', 'wilfred_downham'): 0, ('likes', 'jessica_polritch'): 0, ('likes', 'neil_polham'): 0, ('likes', 'evan_buckingritch'): 0, ('likes', 'philippa_clearville'): 0, ('likes', 'marcus_sandling'): 0, ('likes', 'bridget_farnhall'): 0, ('likes', 'teresa_berkborough'): 0, ('likes', 'stella_edshire'): 0, ('likes', 'amabel_clarehall'): 0, ('likes', 'leopold_buckingmont'): 0, ('likes', 'beatrix_pensfel'): 0, ('likes', 'almeric_stamritch'): 0, ('likes', 'anthony_kirkham'): 0, ('likes', 'alwyn_clearsbury'): 0, ('likes', 'irmentrude_welridge'): 0, ('likes', 'eleonora_farnhall'): 0, ('likes', 'emeline_norham'): 0}}, 'philippa_clearville': {'name': 'Philippa Clearville', 'asp_name': 'philippa_clearville', 'traits': {'narcissistic', 'reformist', 'worker'}, 'status': {('dockworker', 'the_wharf'): None, ('employee', 'the_wharf'): None, ('age',): 50, ('likes', 'neil_downfield'): 0, ('likes', 'marcus_hartstock'): 0, ('likes', 'nora_walmont'): 0, ('likes', 'clementine_somerstock'): 0, ('likes', 'reginald_sutsfel'): 0, ('likes', 'rosalie_athertham'): 0, ('likes', 'muriel_bedling'): 0, ('likes', 'maureen_downville'): 0, ('likes', 'olaf_chestersbury'): 0, ('likes', 'sibila_hereling'): 0, ('likes', 'rosalynd_melditch'): 0, ('likes', 'irene_melditch'): 0, ('likes', 'oswald_blackton'): 0, ('likes', 'marcia_comditch'): 0, ('likes', 'gladys_farnshire'): 0, ('likes', 'vivian_welsbury'): 0, ('likes', 'wilfred_downham'): 0, ('likes', 'jessica_polritch'): 0, ('likes', 'neil_polham'): 0, ('likes', 'evan_buckingritch'): 0, ('likes', 'philippa_clearville'): 0, ('likes', 'marcus_sandling'): 0, ('likes', 'bridget_farnhall'): 0, ('likes', 'teresa_berkborough'): 0, ('likes', 'stella_edshire'): 0, ('likes', 'amabel_clarehall'): 0, ('likes', 'leopold_buckingmont'): 0, ('likes', 'beatrix_pensfel'): 0, ('likes', 'almeric_stamritch'): 0, ('likes', 'anthony_kirkham'): 0, ('likes', 'alwyn_clearsbury'): 0, ('likes', 'irmentrude_welridge'): 0, ('likes', 'eleonora_farnhall'): 0, ('likes', 'emeline_norham'): 0}}, 'marcus_sandling': {'name': 'Marcus Sandling', 'asp_name': 'marcus_sandling', 'traits': {'narcissistic', 'worker'}, 'status': {('employee', 'the_wharf'): None, ('fisherman', 'the_wharf'): None, ('age',): 28, ('likes', 'neil_downfield'): 0, ('likes', 'marcus_hartstock'): 0, ('likes', 'nora_walmont'): 0, ('likes', 'clementine_somerstock'): 0, ('likes', 'reginald_sutsfel'): 0, ('likes', 'rosalie_athertham'): 0, ('likes', 'muriel_bedling'): 0, ('likes', 'maureen_downville'): 0, ('likes', 'olaf_chestersbury'): 0, ('likes', 'sibila_hereling'): 0, ('likes', 'rosalynd_melditch'): 0, ('likes', 'irene_melditch'): 0, ('likes', 'oswald_blackton'): 0, ('likes', 'marcia_comditch'): 0, ('likes', 'gladys_farnshire'): 0, ('likes', 'vivian_welsbury'): 0, ('likes', 'wilfred_downham'): 0, ('likes', 'jessica_polritch'): 0, ('likes', 'neil_polham'): 0, ('likes', 'evan_buckingritch'): 0, ('likes', 'philippa_clearville'): 0, ('likes', 'marcus_sandling'): 0, ('likes', 'bridget_farnhall'): 0, ('likes', 'teresa_berkborough'): 0, ('likes', 'stella_edshire'): 0, ('likes', 'amabel_clarehall'): 0, ('likes', 'leopold_buckingmont'): 0, ('likes', 'beatrix_pensfel'): 0, ('likes', 'almeric_stamritch'): 0, ('likes', 'anthony_kirkham'): 0, ('likes', 'alwyn_clearsbury'): 0, ('likes', 'irmentrude_welridge'): 0, ('likes', 'eleonora_farnhall'): 0, ('likes', 'emeline_norham'): 0}}, 'bridget_farnhall': {'name': 'Bridget Farnhall', 'asp_name': 'bridget_farnhall', 'traits': {'skeptic', 'reformist', 'worker'}, 'status': {('employee', 'the_wharf'): None, ('fisherman', 'the_wharf'): None, ('age',): 42, ('likes', 'neil_downfield'): 0, ('likes', 'marcus_hartstock'): 0, ('likes', 'nora_walmont'): 0, ('likes', 'clementine_somerstock'): 0, ('likes', 'reginald_sutsfel'): 0, ('likes', 'rosalie_athertham'): 0, ('likes', 'muriel_bedling'): 0, ('likes', 'maureen_downville'): 0, ('likes', 'olaf_chestersbury'): 0, ('likes', 'sibila_hereling'): 0, ('likes', 'rosalynd_melditch'): 0, ('likes', 'irene_melditch'): 0, ('likes', 'oswald_blackton'): 0, ('likes', 'marcia_comditch'): 0, ('likes', 'gladys_farnshire'): 0, ('likes', 'vivian_welsbury'): 0, ('likes', 'wilfred_downham'): 0, ('likes', 'jessica_polritch'): 0, ('likes', 'neil_polham'): 0, ('likes', 'evan_buckingritch'): 0, ('likes', 'philippa_clearville'): 0, ('likes', 'marcus_sandling'): 0, ('likes', 'bridget_farnhall'): 0, ('likes', 'teresa_berkborough'): 0, ('likes', 'stella_edshire'): 0, ('likes', 'amabel_clarehall'): 0, ('likes', 'leopold_buckingmont'): 0, ('likes', 'beatrix_pensfel'): 0, ('likes', 'almeric_stamritch'): 0, ('likes', 'anthony_kirkham'): 0, ('likes', 'alwyn_clearsbury'): 0, ('likes', 'irmentrude_welridge'): 0, ('likes', 'eleonora_farnhall'): 0, ('likes', 'emeline_norham'): 0}}, 'teresa_berkborough': {'name': 'Teresa Berkborough', 'asp_name': 'teresa_berkborough', 'traits': {'gregarious', 'traditionalist', 'worker'}, 'status': {('employee', 'the_wharf'): None, ('fisherman', 'the_wharf'): None, ('age',): 43, ('likes', 'neil_downfield'): 0, ('likes', 'marcus_hartstock'): 0, ('likes', 'nora_walmont'): 0, ('likes', 'clementine_somerstock'): 0, ('likes', 'reginald_sutsfel'): 0, ('likes', 'rosalie_athertham'): 0, ('likes', 'muriel_bedling'): 0, ('likes', 'maureen_downville'): 0, ('likes', 'olaf_chestersbury'): 0, ('likes', 'sibila_hereling'): 0, ('likes', 'rosalynd_melditch'): 0, ('likes', 'irene_melditch'): 0, ('likes', 'oswald_blackton'): 0, ('likes', 'marcia_comditch'): 0, ('likes', 'gladys_farnshire'): 0, ('likes', 'vivian_welsbury'): 0, ('likes', 'wilfred_downham'): 0, ('likes', 'jessica_polritch'): 0, ('likes', 'neil_polham'): 0, ('likes', 'evan_buckingritch'): 0, ('likes', 'philippa_clearville'): 0, ('likes', 'marcus_sandling'): 0, ('likes', 'bridget_farnhall'): 0, ('likes', 'teresa_berkborough'): 0, ('likes', 'stella_edshire'): 0, ('likes', 'amabel_clarehall'): 0, ('likes', 'leopold_buckingmont'): 0, ('likes', 'beatrix_pensfel'): 0, ('likes', 'almeric_stamritch'): 0, ('likes', 'anthony_kirkham'): 0, ('likes', 'alwyn_clearsbury'): 0, ('likes', 'irmentrude_welridge'): 0, ('likes', 'eleonora_farnhall'): 0, ('likes', 'emeline_norham'): 0}}, 'stella_edshire': {'name': 'Stella Edshire', 'asp_name': 'stella_edshire', 'traits': {'traditionalist', 'worker'}, 'status': {('employee', 'the_wharf'): None, ('fisherman', 'the_wharf'): None, ('age',): 25, ('likes', 'neil_downfield'): 0, ('likes', 'marcus_hartstock'): 0, ('likes', 'nora_walmont'): 0, ('likes', 'clementine_somerstock'): 0, ('likes', 'reginald_sutsfel'): 0, ('likes', 'rosalie_athertham'): 0, ('likes', 'muriel_bedling'): 0, ('likes', 'maureen_downville'): 0, ('likes', 'olaf_chestersbury'): 0, ('likes', 'sibila_hereling'): 0, ('likes', 'rosalynd_melditch'): 0, ('likes', 'irene_melditch'): 0, ('likes', 'oswald_blackton'): 0, ('likes', 'marcia_comditch'): 0, ('likes', 'gladys_farnshire'): 0, ('likes', 'vivian_welsbury'): 0, ('likes', 'wilfred_downham'): 0, ('likes', 'jessica_polritch'): 0, ('likes', 'neil_polham'): 0, ('likes', 'evan_buckingritch'): 0, ('likes', 'philippa_clearville'): 0, ('likes', 'marcus_sandling'): 0, ('likes', 'bridget_farnhall'): 0, ('likes', 'teresa_berkborough'): 0, ('likes', 'stella_edshire'): 0, ('likes', 'amabel_clarehall'): 0, ('likes', 'leopold_buckingmont'): 0, ('likes', 'beatrix_pensfel'): 0, ('likes', 'almeric_stamritch'): 0, ('likes', 'anthony_kirkham'): 0, ('likes', 'alwyn_clearsbury'): 0, ('likes', 'irmentrude_welridge'): 0, ('likes', 'eleonora_farnhall'): 0, ('likes', 'emeline_norham'): 0}}, 'amabel_clarehall': {'name': 'Amabel Clarehall', 'asp_name': 'amabel_clarehall', 'traits': {'skeptic', 'worker'}, 'status': {('worker', 'norham_s_imports'): None, ('employee', 'norham_s_imports'): None, ('age',): 21, ('likes', 'neil_downfield'): 0, ('likes', 'marcus_hartstock'): 0, ('likes', 'nora_walmont'): 0, ('likes', 'clementine_somerstock'): 0, ('likes', 'reginald_sutsfel'): 0, ('likes', 'rosalie_athertham'): 0, ('likes', 'muriel_bedling'): 0, ('likes', 'maureen_downville'): 0, ('likes', 'olaf_chestersbury'): 0, ('likes', 'sibila_hereling'): 0, ('likes', 'rosalynd_melditch'): 0, ('likes', 'irene_melditch'): 0, ('likes', 'oswald_blackton'): 0, ('likes', 'marcia_comditch'): 0, ('likes', 'gladys_farnshire'): 0, ('likes', 'vivian_welsbury'): 0, ('likes', 'wilfred_downham'): 0, ('likes', 'jessica_polritch'): 0, ('likes', 'neil_polham'): 0, ('likes', 'evan_buckingritch'): 0, ('likes', 'philippa_clearville'): 0, ('likes', 'marcus_sandling'): 0, ('likes', 'bridget_farnhall'): 0, ('likes', 'teresa_berkborough'): 0, ('likes', 'stella_edshire'): 0, ('likes', 'amabel_clarehall'): 0, ('likes', 'leopold_buckingmont'): 0, ('likes', 'beatrix_pensfel'): 0, ('likes', 'almeric_stamritch'): 0, ('likes', 'anthony_kirkham'): 0, ('likes', 'alwyn_clearsbury'): 0, ('likes', 'irmentrude_welridge'): 0, ('likes', 'eleonora_farnhall'): 0, ('likes', 'emeline_norham'): 0}}, 'leopold_buckingmont': {'name': 'Leopold Buckingmont', 'asp_name': 'leopold_buckingmont', 'traits': {'narcissistic', 'traditionalist', 'worker'}, 'status': {('worker', 'norham_s_imports'): None, ('employee', 'norham_s_imports'): None, ('age',): 46, ('likes', 'neil_downfield'): 0, ('likes', 'marcus_hartstock'): 0, ('likes', 'nora_walmont'): 0, ('likes', 'clementine_somerstock'): 0, ('likes', 'reginald_sutsfel'): 0, ('likes', 'rosalie_athertham'): 0, ('likes', 'muriel_bedling'): 0, ('likes', 'maureen_downville'): 0, ('likes', 'olaf_chestersbury'): 0, ('likes', 'sibila_hereling'): 0, ('likes', 'rosalynd_melditch'): 0, ('likes', 'irene_melditch'): 0, ('likes', 'oswald_blackton'): 0, ('likes', 'marcia_comditch'): 0, ('likes', 'gladys_farnshire'): 0, ('likes', 'vivian_welsbury'): 0, ('likes', 'wilfred_downham'): 0, ('likes', 'jessica_polritch'): 0, ('likes', 'neil_polham'): 0, ('likes', 'evan_buckingritch'): 0, ('likes', 'philippa_clearville'): 0, ('likes', 'marcus_sandling'): 0, ('likes', 'bridget_farnhall'): 0, ('likes', 'teresa_berkborough'): 0, ('likes', 'stella_edshire'): 0, ('likes', 'amabel_clarehall'): 0, ('likes', 'leopold_buckingmont'): 0, ('likes', 'beatrix_pensfel'): 0, ('likes', 'almeric_stamritch'): 0, ('likes', 'anthony_kirkham'): 0, ('likes', 'alwyn_clearsbury'): 0, ('likes', 'irmentrude_welridge'): 0, ('likes', 'eleonora_farnhall'): 0, ('likes', 'emeline_norham'): 0}}, 'beatrix_pensfel': {'name': 'Beatrix Pensfel', 'asp_name': 'beatrix_pensfel', 'traits': {'skeptic', 'worker'}, 'status': {('worker', 'norham_s_imports'): None, ('employee', 'norham_s_imports'): None, ('age',): 19, ('likes', 'neil_downfield'): 0, ('likes', 'marcus_hartstock'): 0, ('likes', 'nora_walmont'): 0, ('likes', 'clementine_somerstock'): 0, ('likes', 'reginald_sutsfel'): 0, ('likes', 'rosalie_athertham'): 0, ('likes', 'muriel_bedling'): 0, ('likes', 'maureen_downville'): 0, ('likes', 'olaf_chestersbury'): 0, ('likes', 'sibila_hereling'): 0, ('likes', 'rosalynd_melditch'): 0, ('likes', 'irene_melditch'): 0, ('likes', 'oswald_blackton'): 0, ('likes', 'marcia_comditch'): 0, ('likes', 'gladys_farnshire'): 0, ('likes', 'vivian_welsbury'): 0, ('likes', 'wilfred_downham'): 0, ('likes', 'jessica_polritch'): 0, ('likes', 'neil_polham'): 0, ('likes', 'evan_buckingritch'): 0, ('likes', 'philippa_clearville'): 0, ('likes', 'marcus_sandling'): 0, ('likes', 'bridget_farnhall'): 0, ('likes', 'teresa_berkborough'): 0, ('likes', 'stella_edshire'): 0, ('likes', 'amabel_clarehall'): 0, ('likes', 'leopold_buckingmont'): 0, ('likes', 'beatrix_pensfel'): 0, ('likes', 'almeric_stamritch'): 0, ('likes', 'anthony_kirkham'): 0, ('likes', 'alwyn_clearsbury'): 0, ('likes', 'irmentrude_welridge'): 0, ('likes', 'eleonora_farnhall'): 0, ('likes', 'emeline_norham'): 0}}, 'almeric_stamritch': {'name': 'Almeric Stamritch', 'asp_name': 'almeric_stamritch', 'traits': {'traditionalist', 'reformist', 'worker'}, 'status': {('worker', 'norham_s_imports'): None, ('employee', 'norham_s_imports'): None, ('age',): 47, ('likes', 'neil_downfield'): 0, ('likes', 'marcus_hartstock'): 0, ('likes', 'nora_walmont'): 0, ('likes', 'clementine_somerstock'): 0, ('likes', 'reginald_sutsfel'): 0, ('likes', 'rosalie_athertham'): 0, ('likes', 'muriel_bedling'): 0, ('likes', 'maureen_downville'): 0, ('likes', 'olaf_chestersbury'): 0, ('likes', 'sibila_hereling'): 0, ('likes', 'rosalynd_melditch'): 0, ('likes', 'irene_melditch'): 0, ('likes', 'oswald_blackton'): 0, ('likes', 'marcia_comditch'): 0, ('likes', 'gladys_farnshire'): 0, ('likes', 'vivian_welsbury'): 0, ('likes', 'wilfred_downham'): 0, ('likes', 'jessica_polritch'): 0, ('likes', 'neil_polham'): 0, ('likes', 'evan_buckingritch'): 0, ('likes', 'philippa_clearville'): 0, ('likes', 'marcus_sandling'): 0, ('likes', 'bridget_farnhall'): 0, ('likes', 'teresa_berkborough'): 0, ('likes', 'stella_edshire'): 0, ('likes', 'amabel_clarehall'): 0, ('likes', 'leopold_buckingmont'): 0, ('likes', 'beatrix_pensfel'): 0, ('likes', 'almeric_stamritch'): 0, ('likes', 'anthony_kirkham'): 0, ('likes', 'alwyn_clearsbury'): 0, ('likes', 'irmentrude_welridge'): 0, ('likes', 'eleonora_farnhall'): 0, ('likes', 'emeline_norham'): 0}}, 'anthony_kirkham': {'name': 'Anthony Kirkham', 'asp_name': 'anthony_kirkham', 'traits': {'traditionalist', 'worker'}, 'status': {('worker', 'norham_s_imports'): None, ('employee', 'norham_s_imports'): None, ('age',): 50, ('likes', 'neil_downfield'): 0, ('likes', 'marcus_hartstock'): 0, ('likes', 'nora_walmont'): 0, ('likes', 'clementine_somerstock'): 0, ('likes', 'reginald_sutsfel'): 0, ('likes', 'rosalie_athertham'): 0, ('likes', 'muriel_bedling'): 0, ('likes', 'maureen_downville'): 0, ('likes', 'olaf_chestersbury'): 0, ('likes', 'sibila_hereling'): 0, ('likes', 'rosalynd_melditch'): 0, ('likes', 'irene_melditch'): 0, ('likes', 'oswald_blackton'): 0, ('likes', 'marcia_comditch'): 0, ('likes', 'gladys_farnshire'): 0, ('likes', 'vivian_welsbury'): 0, ('likes', 'wilfred_downham'): 0, ('likes', 'jessica_polritch'): 0, ('likes', 'neil_polham'): 0, ('likes', 'evan_buckingritch'): 0, ('likes', 'philippa_clearville'): 0, ('likes', 'marcus_sandling'): 0, ('likes', 'bridget_farnhall'): 0, ('likes', 'teresa_berkborough'): 0, ('likes', 'stella_edshire'): 0, ('likes', 'amabel_clarehall'): 0, ('likes', 'leopold_buckingmont'): 0, ('likes', 'beatrix_pensfel'): 0, ('likes', 'almeric_stamritch'): 0, ('likes', 'anthony_kirkham'): 0, ('likes', 'alwyn_clearsbury'): 0, ('likes', 'irmentrude_welridge'): 0, ('likes', 'eleonora_farnhall'): 0, ('likes', 'emeline_norham'): 0}}, 'alwyn_clearsbury': {'name': 'Alwyn Clearsbury', 'asp_name': 'alwyn_clearsbury', 'traits': {'narcissistic', 'worker'}, 'status': {('worker', 'norham_s_imports'): None, ('employee', 'norham_s_imports'): None, ('age',): 44, ('likes', 'neil_downfield'): 0, ('likes', 'marcus_hartstock'): 0, ('likes', 'nora_walmont'): 0, ('likes', 'clementine_somerstock'): 0, ('likes', 'reginald_sutsfel'): 0, ('likes', 'rosalie_athertham'): 0, ('likes', 'muriel_bedling'): 0, ('likes', 'maureen_downville'): 0, ('likes', 'olaf_chestersbury'): 0, ('likes', 'sibila_hereling'): 0, ('likes', 'rosalynd_melditch'): 0, ('likes', 'irene_melditch'): 0, ('likes', 'oswald_blackton'): 0, ('likes', 'marcia_comditch'): 0, ('likes', 'gladys_farnshire'): 0, ('likes', 'vivian_welsbury'): 0, ('likes', 'wilfred_downham'): 0, ('likes', 'jessica_polritch'): 0, ('likes', 'neil_polham'): 0, ('likes', 'evan_buckingritch'): 0, ('likes', 'philippa_clearville'): 0, ('likes', 'marcus_sandling'): 0, ('likes', 'bridget_farnhall'): 0, ('likes', 'teresa_berkborough'): 0, ('likes', 'stella_edshire'): 0, ('likes', 'amabel_clarehall'): 0, ('likes', 'leopold_buckingmont'): 0, ('likes', 'beatrix_pensfel'): 0, ('likes', 'almeric_stamritch'): 0, ('likes', 'anthony_kirkham'): 0, ('likes', 'alwyn_clearsbury'): 0, ('likes', 'irmentrude_welridge'): 0, ('likes', 'eleonora_farnhall'): 0, ('likes', 'emeline_norham'): 0}}, 'irmentrude_welridge': {'name': 'Irmentrude Welridge', 'asp_name': 'irmentrude_welridge', 'traits': {'skeptic', 'worker'}, 'status': {('unionrep', 'norham_s_imports'): None, ('employee', 'norham_s_imports'): None, ('age',): 24, ('likes', 'neil_downfield'): 0, ('likes', 'marcus_hartstock'): 0, ('likes', 'nora_walmont'): 0, ('likes', 'clementine_somerstock'): 0, ('likes', 'reginald_sutsfel'): 0, ('likes', 'rosalie_athertham'): 0, ('likes', 'muriel_bedling'): 0, ('likes', 'maureen_downville'): 0, ('likes', 'olaf_chestersbury'): 0, ('likes', 'sibila_hereling'): 0, ('likes', 'rosalynd_melditch'): 0, ('likes', 'irene_melditch'): 0, ('likes', 'oswald_blackton'): 0, ('likes', 'marcia_comditch'): 0, ('likes', 'gladys_farnshire'): 0, ('likes', 'vivian_welsbury'): 0, ('likes', 'wilfred_downham'): 0, ('likes', 'jessica_polritch'): 0, ('likes', 'neil_polham'): 0, ('likes', 'evan_buckingritch'): 0, ('likes', 'philippa_clearville'): 0, ('likes', 'marcus_sandling'): 0, ('likes', 'bridget_farnhall'): 0, ('likes', 'teresa_berkborough'): 0, ('likes', 'stella_edshire'): 0, ('likes', 'amabel_clarehall'): 0, ('likes', 'leopold_buckingmont'): 0, ('likes', 'beatrix_pensfel'): 0, ('likes', 'almeric_stamritch'): 0, ('likes', 'anthony_kirkham'): 0, ('likes', 'alwyn_clearsbury'): 0, ('likes', 'irmentrude_welridge'): 0, ('likes', 'eleonora_farnhall'): 0, ('likes', 'emeline_norham'): 0}}, 'eleonora_farnhall': {'name': 'Eleonora Farnhall', 'asp_name': 'eleonora_farnhall', 'traits': {'narcissistic', 'believer', 'worker'}, 'status': {('foreman', 'norham_s_imports'): None, ('employee', 'norham_s_imports'): None, ('age',): 36, ('likes', 'neil_downfield'): 0, ('likes', 'marcus_hartstock'): 0, ('likes', 'nora_walmont'): 0, ('likes', 'clementine_somerstock'): 0, ('likes', 'reginald_sutsfel'): 0, ('likes', 'rosalie_athertham'): 0, ('likes', 'muriel_bedling'): 0, ('likes', 'maureen_downville'): 0, ('likes', 'olaf_chestersbury'): 0, ('likes', 'sibila_hereling'): 0, ('likes', 'rosalynd_melditch'): 0, ('likes', 'irene_melditch'): 0, ('likes', 'oswald_blackton'): 0, ('likes', 'marcia_comditch'): 0, ('likes', 'gladys_farnshire'): 0, ('likes', 'vivian_welsbury'): 0, ('likes', 'wilfred_downham'): 0, ('likes', 'jessica_polritch'): 0, ('likes', 'neil_polham'): 0, ('likes', 'evan_buckingritch'): 0, ('likes', 'philippa_clearville'): 0, ('likes', 'marcus_sandling'): 0, ('likes', 'bridget_farnhall'): 0, ('likes', 'teresa_berkborough'): 0, ('likes', 'stella_edshire'): 0, ('likes', 'amabel_clarehall'): 0, ('likes', 'leopold_buckingmont'): 0, ('likes', 'beatrix_pensfel'): 0, ('likes', 'almeric_stamritch'): 0, ('likes', 'anthony_kirkham'): 0, ('likes', 'alwyn_clearsbury'): 0, ('likes', 'irmentrude_welridge'): 0, ('likes', 'eleonora_farnhall'): 0, ('likes', 'emeline_norham'): 0}}, 'emeline_norham': {'name': 'Emeline Norham', 'asp_name': 'emeline_norham', 'traits': {'traditionalist', 'worker'}, 'status': {('owner', 'norham_s_imports'): None, ('employee', 'norham_s_imports'): None, ('age',): 23, ('likes', 'neil_downfield'): 0, ('likes', 'marcus_hartstock'): 0, ('likes', 'nora_walmont'): 0, ('likes', 'clementine_somerstock'): 0, ('likes', 'reginald_sutsfel'): 0, ('likes', 'rosalie_athertham'): 0, ('likes', 'muriel_bedling'): 0, ('likes', 'maureen_downville'): 0, ('likes', 'olaf_chestersbury'): 0, ('likes', 'sibila_hereling'): 0, ('likes', 'rosalynd_melditch'): 0, ('likes', 'irene_melditch'): 0, ('likes', 'oswald_blackton'): 0, ('likes', 'marcia_comditch'): 0, ('likes', 'gladys_farnshire'): 0, ('likes', 'vivian_welsbury'): 0, ('likes', 'wilfred_downham'): 0, ('likes', 'jessica_polritch'): 0, ('likes', 'neil_polham'): 0, ('likes', 'evan_buckingritch'): 0, ('likes', 'philippa_clearville'): 0, ('likes', 'marcus_sandling'): 0, ('likes', 'bridget_farnhall'): 0, ('likes', 'teresa_berkborough'): 0, ('likes', 'stella_edshire'): 0, ('likes', 'amabel_clarehall'): 0, ('likes', 'leopold_buckingmont'): 0, ('likes', 'beatrix_pensfel'): 0, ('likes', 'almeric_stamritch'): 0, ('likes', 'anthony_kirkham'): 0, ('likes', 'alwyn_clearsbury'): 0, ('likes', 'irmentrude_welridge'): 0, ('likes', 'eleonora_farnhall'): 0, ('likes', 'emeline_norham'): 0}}}\n"
     ]
    }
   ],
   "source": [
    "print(kismetModule.population)"
   ]
  },
  {
   "cell_type": "code",
   "execution_count": 7,
   "metadata": {},
   "outputs": [
    {
     "name": "stdout",
     "output_type": "stream",
     "text": [
      "At bar:\n",
      "\tVivian Welsbury drinks.\n",
      "At Melditch's House:\n",
      "\tRosalynd Melditch does some maintenance on the building.\n",
      "\tIrene Melditch launders the beds.\n",
      "\tWilfred Downham visits the boarding house.\n",
      "At Norham's Imports:\n",
      "\tEmeline Norham balances the accounts.\n",
      "\tIrmentrude Welridge organizes the workers.\n",
      "\tEleonora Farnhall oversees the workers.\n",
      "\tAmabel Clarehall labours.\n",
      "\tLeopold Buckingmont labours.\n",
      "\tBeatrix Pensfel labours.\n",
      "\tAlmeric Stamritch labours.\n",
      "\tAnthony Kirkham labours.\n",
      "\tAlwyn Clearsbury labours.\n",
      "At Pickman Private School:\n",
      "\tClementine Somerstock learns.\n",
      "\tReginald Sutsfel learns.\n",
      "\tRosalie Athertham learns.\n",
      "\tMuriel Bedling learns.\n",
      "\tMaureen Downville learns.\n",
      "\tOlaf Chestersbury learns.\n",
      "\tSibila Hereling learns.\n",
      "\tNora Walmont teaches.\n",
      "At The Church of Immortal Wisdom:\n",
      "\tGladys Farnshire prays.\n",
      "\tMarcus Hartstock conducts a sermon.\n",
      "\tNeil Downfield studies from holy manuscripts.\n",
      "At The Town Square:\n",
      "\tOswald Blackton loiters.\n",
      "At The Wharf:\n",
      "\tJessica Polritch looks out over the sea.\n",
      "\tNeil Polham looks out over the sea.\n",
      "\tEvan Buckingritch looks out over the sea.\n",
      "\tPhilippa Clearville unloads cargo.\n",
      "\tMarcus Sandling looks out over the sea.\n",
      "\tBridget Farnhall fishes.\n",
      "\tTeresa Berkborough looks out over the sea.\n",
      "\tStella Edshire fishes.\n",
      "\tMarcia Comditch looks out over the sea.\n",
      "-------\n",
      "At Melditch's House:\n",
      "\tRosalynd Melditch does some maintenance on the building.\n",
      "\tIrene Melditch launders the beds.\n",
      "At Norham's Imports:\n",
      "\tEmeline Norham balances the accounts.\n",
      "\tIrmentrude Welridge organizes the workers.\n",
      "\tEleonora Farnhall oversees the workers.\n",
      "\tAmabel Clarehall labours.\n",
      "\tLeopold Buckingmont labours.\n",
      "\tBeatrix Pensfel labours.\n",
      "\tAlmeric Stamritch labours.\n",
      "\tAnthony Kirkham labours.\n",
      "\tAlwyn Clearsbury labours.\n",
      "At Pickman Private School:\n",
      "\tClementine Somerstock learns.\n",
      "\tReginald Sutsfel learns.\n",
      "\tRosalie Athertham learns.\n",
      "\tMuriel Bedling learns.\n",
      "\tMaureen Downville learns.\n",
      "\tOlaf Chestersbury learns.\n",
      "\tSibila Hereling learns.\n",
      "\tNora Walmont teaches.\n",
      "At The Church of Immortal Wisdom:\n",
      "\tMarcus Hartstock conducts a sermon.\n",
      "\tNeil Downfield studies from holy manuscripts.\n",
      "At The Town Square:\n",
      "\tVivian Welsbury loiters.\n",
      "\tWilfred Downham loiters.\n",
      "At The Wharf:\n",
      "\tJessica Polritch looks out over the sea.\n",
      "\tNeil Polham unloads cargo.\n",
      "\tEvan Buckingritch unloads cargo.\n",
      "\tPhilippa Clearville unloads cargo.\n",
      "\tMarcus Sandling fishes.\n",
      "\tBridget Farnhall fishes.\n",
      "\tTeresa Berkborough looks out over the sea.\n",
      "\tStella Edshire looks out over the sea.\n",
      "\tMarcia Comditch looks out over the sea.\n",
      "-------\n"
     ]
    }
   ],
   "source": [
    "kismetModule.pretty_print_history()"
   ]
  },
  {
   "cell_type": "code",
   "execution_count": 8,
   "metadata": {
    "scrolled": true
   },
   "outputs": [],
   "source": [
    "kismetModule.display_patterns()"
   ]
  },
  {
   "cell_type": "code",
   "execution_count": 9,
   "metadata": {},
   "outputs": [],
   "source": [
    "a = ['a']*-1"
   ]
  },
  {
   "cell_type": "code",
   "execution_count": 10,
   "metadata": {},
   "outputs": [
    {
     "name": "stdout",
     "output_type": "stream",
     "text": [
      "{'the_church_of_immortal_wisdom': {'name': 'The Church of Immortal Wisdom', 'location_type': 'church', 'relationships': [('deacon', 'Marcus Hartstock'), ('priest', 'Neil Downfield')]}, 'pickman_private_school': {'name': 'Pickman Private School', 'location_type': 'school', 'relationships': [('student', 'Clementine Somerstock'), ('student', 'Reginald Sutsfel'), ('student', 'Rosalie Athertham'), ('student', 'Muriel Bedling'), ('student', 'Maureen Downville'), ('student', 'Olaf Chestersbury'), ('student', 'Sibila Hereling'), ('headmaster', 'Nora Walmont')]}, 'melditch_s_house': {'name': \"Melditch's House\", 'location_type': 'boarding_house', 'relationships': [('housekeeper', 'Irene Melditch'), ('owner', 'Rosalynd Melditch'), ('boarder', 'Oswald Wimpleritch'), ('boarder', 'Marcia Comditch')]}, 'blackton_s_rare_books_&_maps': {'name': \"Blackton's Rare Books & Maps\", 'location_type': 'bookstore', 'relationships': [('owner', 'Oswald Blackton'), ('clerk', 'Gladys Farnshire'), ('clerk', 'Vivian Welsbury'), ('clerk', 'Wilfred Downham'), ('regular', 'Nora Walmont')]}, 'the_town_square': {'name': 'The Town Square', 'location_type': 'town_square', 'relationships': []}, 'the_wharf': {'name': 'The Wharf', 'location_type': 'wharf', 'relationships': [('dockworker', 'Jessica Polritch'), ('dockworker', 'Neil Polham'), ('dockworker', 'Evan Buckingritch'), ('dockworker', 'Philippa Clearville'), ('sailor', 'Marcia Comditch'), ('fisherman', 'Marcus Sandling'), ('fisherman', 'Bridget Farnhall'), ('fisherman', 'Teresa Berkborough'), ('fisherman', 'Stella Edshire')]}, 'norham_s_imports': {'name': \"Norham's Imports\", 'location_type': 'warehouse', 'relationships': [('owner', 'Emeline Norham'), ('foreman', 'Eleonora Farnhall'), ('worker', 'Amabel Clarehall'), ('worker', 'Leopold Buckingmont'), ('worker', 'Beatrix Pensfel'), ('worker', 'Almeric Stamritch'), ('worker', 'Anthony Kirkham'), ('worker', 'Alwyn Clearsbury'), ('unionrep', 'Irmentrude Welridge')]}, 'bar': {'name': 'bar', 'location_type': 'bar', 'relationships': []}}\n"
     ]
    }
   ],
   "source": [
    "print(kismetModule.created_locations)"
   ]
  },
  {
   "cell_type": "code",
   "execution_count": 11,
   "metadata": {},
   "outputs": [
    {
     "name": "stdout",
     "output_type": "stream",
     "text": [
      "clingo version 5.4.0\n",
      "Reading from ...ents\\Research\\Kismet\\kismet\\default.lp ...\n",
      "Solving...\n",
      "Answer: 1\n",
      "go_to(hildebrand_chestersbury,the_temple_of_everlasting_truth,6) go_to(clair_comville,the_temple_of_everlasting_truth,6) go_to(vibert_norford,the_temple_of_everlasting_truth,6) go_to(morgan_clearford,east_private_school,6) go_to(michael_bradfield,east_private_school,6) go_to(regina_atherville,east_private_school,6) go_to(alaric_bedshire,east_private_school,6) go_to(margaret_aldborough,east_private_school,6) go_to(christabel_heremont,east_private_school,6) go_to(raphael_chesterville,east_private_school,6) go_to(gretchen_coleham,east_private_school,6) go_to(penelope_colesbury,east_private_school,6) go_to(octavia_kirkditch,kirkditch_s_boarding_house,6) go_to(elise_kirkditch,kirkditch_s_boarding_house,6) go_to(allan_sandtham,bromfield_s_rare_books,6) go_to(egbert_leoridge,bromfield_s_rare_books,6) go_to(floria_edstock,bromfield_s_rare_books,6) go_to(olive_berkritch,the_stockyard,6) go_to(irene_hereville,the_wharf,6) go_to(winifred_stalton,the_wharf,6) go_to(desmond_attleford,the_wharf,6) go_to(floria_brownborough,the_wharf,6) go_to(florentina_attleford,the_wharf,6) go_to(romola_berkridge,the_wharf,6) go_to(alban_leotham,the_wharf,6) go_to(eustace_walmont,the_wharf,6) go_to(sheila_bedshire,the_wharf,6) go_to(ulrica_bromtham,the_stockyard,6) go_to(oswald_blackridge,the_stockyard,6) go_to(lionel_bedford,the_stockyard,6) go_to(venetia_stalfield,the_stockyard,6) go_to(pamela_bromhall,the_stockyard,6) go_to(vernon_polborough,the_stockyard,6) go_to(rachel_edborough,the_stockyard,6) go_to(salome_berkham,the_stockyard,6) go_to(brian_sandtham,the_stockyard,6) go_to(myrtle_penton,the_stockyard,6) go_to(clair_comville,bar,3) go_to(michael_bradfield,bar,3) go_to(olive_berkritch,bar,3) go_to(alban_leotham,bar,3) go_to(rachel_edborough,bar,3) go_to(vibert_norford,bar,-3) go_to(penelope_colesbury,bar,-3) go_to(herbert_pontstock,bar,-3) go_to(irene_hereville,bar,-3) go_to_propensity(go_to_location,6,worker,hildebrand_chestersbury,null,null,null,the_temple_of_everlasting_truth) go_to_propensity(go_to_location,6,worker,clair_comville,null,null,null,the_temple_of_everlasting_truth) go_to_propensity(go_to_location,6,worker,vibert_norford,null,null,null,the_temple_of_everlasting_truth) go_to_propensity(go_to_location,6,worker,morgan_clearford,null,null,null,east_private_school) go_to_propensity(go_to_location,6,worker,michael_bradfield,null,null,null,east_private_school) go_to_propensity(go_to_location,6,worker,regina_atherville,null,null,null,east_private_school) go_to_propensity(go_to_location,6,worker,alaric_bedshire,null,null,null,east_private_school) go_to_propensity(go_to_location,6,worker,margaret_aldborough,null,null,null,east_private_school) go_to_propensity(go_to_location,6,worker,christabel_heremont,null,null,null,east_private_school) go_to_propensity(go_to_location,6,worker,raphael_chesterville,null,null,null,east_private_school) go_to_propensity(go_to_location,6,worker,gretchen_coleham,null,null,null,east_private_school) go_to_propensity(go_to_location,6,worker,penelope_colesbury,null,null,null,east_private_school) go_to_propensity(go_to_location,6,worker,octavia_kirkditch,null,null,null,kirkditch_s_boarding_house) go_to_propensity(go_to_location,6,worker,elise_kirkditch,null,null,null,kirkditch_s_boarding_house) go_to_propensity(go_to_location,6,worker,allan_sandtham,null,null,null,bromfield_s_rare_books) go_to_propensity(go_to_location,6,worker,egbert_leoridge,null,null,null,bromfield_s_rare_books) go_to_propensity(go_to_location,6,worker,floria_edstock,null,null,null,bromfield_s_rare_books) go_to_propensity(go_to_location,6,worker,olive_berkritch,null,null,null,the_stockyard) go_to_propensity(go_to_location,6,worker,irene_hereville,null,null,null,the_wharf) go_to_propensity(go_to_location,6,worker,winifred_stalton,null,null,null,the_wharf) go_to_propensity(go_to_location,6,worker,desmond_attleford,null,null,null,the_wharf) go_to_propensity(go_to_location,6,worker,floria_brownborough,null,null,null,the_wharf) go_to_propensity(go_to_location,6,worker,florentina_attleford,null,null,null,the_wharf) go_to_propensity(go_to_location,6,worker,romola_berkridge,null,null,null,the_wharf) go_to_propensity(go_to_location,6,worker,alban_leotham,null,null,null,the_wharf) go_to_propensity(go_to_location,6,worker,eustace_walmont,null,null,null,the_wharf) go_to_propensity(go_to_location,6,worker,sheila_bedshire,null,null,null,the_wharf) go_to_propensity(go_to_location,6,worker,ulrica_bromtham,null,null,null,the_stockyard) go_to_propensity(go_to_location,6,worker,oswald_blackridge,null,null,null,the_stockyard) go_to_propensity(go_to_location,6,worker,lionel_bedford,null,null,null,the_stockyard) go_to_propensity(go_to_location,6,worker,venetia_stalfield,null,null,null,the_stockyard) go_to_propensity(go_to_location,6,worker,pamela_bromhall,null,null,null,the_stockyard) go_to_propensity(go_to_location,6,worker,vernon_polborough,null,null,null,the_stockyard) go_to_propensity(go_to_location,6,worker,rachel_edborough,null,null,null,the_stockyard) go_to_propensity(go_to_location,6,worker,salome_berkham,null,null,null,the_stockyard) go_to_propensity(go_to_location,6,worker,brian_sandtham,null,null,null,the_stockyard) go_to_propensity(go_to_location,6,worker,myrtle_penton,null,null,null,the_stockyard) go_to_propensity(bar,3,drunkard,clair_comville,null,null,null,bar) go_to_propensity(bar,3,drunkard,michael_bradfield,null,null,null,bar) go_to_propensity(bar,3,drunkard,olive_berkritch,null,null,null,bar) go_to_propensity(bar,3,drunkard,alban_leotham,null,null,null,bar) go_to_propensity(bar,3,drunkard,rachel_edborough,null,null,null,bar) go_to_propensity(bar,-3,teetotaler,vibert_norford,null,null,null,bar) go_to_propensity(bar,-3,teetotaler,penelope_colesbury,null,null,null,bar) go_to_propensity(bar,-3,teetotaler,herbert_pontstock,null,null,null,bar) go_to_propensity(bar,-3,teetotaler,irene_hereville,null,null,null,bar) go_to(rhoda_penmont,the_temple_of_everlasting_truth,0) go_to(morgan_clearford,the_temple_of_everlasting_truth,0) go_to(michael_bradfield,the_temple_of_everlasting_truth,0) go_to(regina_atherville,the_temple_of_everlasting_truth,0) go_to(alaric_bedshire,the_temple_of_everlasting_truth,0) go_to(margaret_aldborough,the_temple_of_everlasting_truth,0) go_to(christabel_heremont,the_temple_of_everlasting_truth,0) go_to(raphael_chesterville,the_temple_of_everlasting_truth,0) go_to(gretchen_coleham,the_temple_of_everlasting_truth,0) go_to(penelope_colesbury,the_temple_of_everlasting_truth,0) go_to(octavia_kirkditch,the_temple_of_everlasting_truth,0) go_to(elise_kirkditch,the_temple_of_everlasting_truth,0) go_to(allan_sandtham,the_temple_of_everlasting_truth,0) go_to(egbert_leoridge,the_temple_of_everlasting_truth,0) go_to(floria_edstock,the_temple_of_everlasting_truth,0) go_to(herbert_pontstock,the_temple_of_everlasting_truth,0) go_to(olive_berkritch,the_temple_of_everlasting_truth,0) go_to(irene_hereville,the_temple_of_everlasting_truth,0) go_to(winifred_stalton,the_temple_of_everlasting_truth,0) go_to(desmond_attleford,the_temple_of_everlasting_truth,0) go_to(floria_brownborough,the_temple_of_everlasting_truth,0) go_to(florentina_attleford,the_temple_of_everlasting_truth,0) go_to(romola_berkridge,the_temple_of_everlasting_truth,0) go_to(alban_leotham,the_temple_of_everlasting_truth,0) go_to(eustace_walmont,the_temple_of_everlasting_truth,0) go_to(sheila_bedshire,the_temple_of_everlasting_truth,0) go_to(ulrica_bromtham,the_temple_of_everlasting_truth,0) go_to(oswald_blackridge,the_temple_of_everlasting_truth,0) go_to(lionel_bedford,the_temple_of_everlasting_truth,0) go_to(venetia_stalfield,the_temple_of_everlasting_truth,0) go_to(pamela_bromhall,the_temple_of_everlasting_truth,0) go_to(vernon_polborough,the_temple_of_everlasting_truth,0) go_to(rachel_edborough,the_temple_of_everlasting_truth,0) go_to(salome_berkham,the_temple_of_everlasting_truth,0) go_to(brian_sandtham,the_temple_of_everlasting_truth,0) go_to(myrtle_penton,the_temple_of_everlasting_truth,0) go_to(null,the_temple_of_everlasting_truth,0) go_to(rhoda_penmont,east_private_school,0) go_to(hildebrand_chestersbury,east_private_school,0) go_to(clair_comville,east_private_school,0) go_to(vibert_norford,east_private_school,0) go_to(octavia_kirkditch,east_private_school,0) go_to(elise_kirkditch,east_private_school,0) go_to(allan_sandtham,east_private_school,0) go_to(egbert_leoridge,east_private_school,0) go_to(floria_edstock,east_private_school,0) go_to(herbert_pontstock,east_private_school,0) go_to(olive_berkritch,east_private_school,0) go_to(irene_hereville,east_private_school,0) go_to(winifred_stalton,east_private_school,0) go_to(desmond_attleford,east_private_school,0) go_to(floria_brownborough,east_private_school,0) go_to(florentina_attleford,east_private_school,0) go_to(romola_berkridge,east_private_school,0) go_to(alban_leotham,east_private_school,0) go_to(eustace_walmont,east_private_school,0) go_to(sheila_bedshire,east_private_school,0) go_to(ulrica_bromtham,east_private_school,0) go_to(oswald_blackridge,east_private_school,0) go_to(lionel_bedford,east_private_school,0) go_to(venetia_stalfield,east_private_school,0) go_to(pamela_bromhall,east_private_school,0) go_to(vernon_polborough,east_private_school,0) go_to(rachel_edborough,east_private_school,0) go_to(salome_berkham,east_private_school,0) go_to(brian_sandtham,east_private_school,0) go_to(myrtle_penton,east_private_school,0) go_to(null,east_private_school,0) go_to(rhoda_penmont,kirkditch_s_boarding_house,0) go_to(hildebrand_chestersbury,kirkditch_s_boarding_house,0) go_to(clair_comville,kirkditch_s_boarding_house,0) go_to(vibert_norford,kirkditch_s_boarding_house,0) go_to(morgan_clearford,kirkditch_s_boarding_house,0) go_to(michael_bradfield,kirkditch_s_boarding_house,0) go_to(regina_atherville,kirkditch_s_boarding_house,0) go_to(alaric_bedshire,kirkditch_s_boarding_house,0) go_to(margaret_aldborough,kirkditch_s_boarding_house,0) go_to(christabel_heremont,kirkditch_s_boarding_house,0) go_to(raphael_chesterville,kirkditch_s_boarding_house,0) go_to(gretchen_coleham,kirkditch_s_boarding_house,0) go_to(penelope_colesbury,kirkditch_s_boarding_house,0) go_to(allan_sandtham,kirkditch_s_boarding_house,0) go_to(egbert_leoridge,kirkditch_s_boarding_house,0) go_to(floria_edstock,kirkditch_s_boarding_house,0) go_to(herbert_pontstock,kirkditch_s_boarding_house,0) go_to(olive_berkritch,kirkditch_s_boarding_house,0) go_to(irene_hereville,kirkditch_s_boarding_house,0) go_to(winifred_stalton,kirkditch_s_boarding_house,0) go_to(desmond_attleford,kirkditch_s_boarding_house,0) go_to(floria_brownborough,kirkditch_s_boarding_house,0) go_to(florentina_attleford,kirkditch_s_boarding_house,0) go_to(romola_berkridge,kirkditch_s_boarding_house,0) go_to(alban_leotham,kirkditch_s_boarding_house,0) go_to(eustace_walmont,kirkditch_s_boarding_house,0) go_to(sheila_bedshire,kirkditch_s_boarding_house,0) go_to(ulrica_bromtham,kirkditch_s_boarding_house,0) go_to(oswald_blackridge,kirkditch_s_boarding_house,0) go_to(lionel_bedford,kirkditch_s_boarding_house,0) go_to(venetia_stalfield,kirkditch_s_boarding_house,0) go_to(pamela_bromhall,kirkditch_s_boarding_house,0) go_to(vernon_polborough,kirkditch_s_boarding_house,0) go_to(rachel_edborough,kirkditch_s_boarding_house,0) go_to(salome_berkham,kirkditch_s_boarding_house,0) go_to(brian_sandtham,kirkditch_s_boarding_house,0) go_to(myrtle_penton,kirkditch_s_boarding_house,0) go_to(null,kirkditch_s_boarding_house,0) go_to(rhoda_penmont,bromfield_s_rare_books,0) go_to(hildebrand_chestersbury,bromfield_s_rare_books,0) go_to(clair_comville,bromfield_s_rare_books,0) go_to(vibert_norford,bromfield_s_rare_books,0) go_to(morgan_clearford,bromfield_s_rare_books,0) go_to(michael_bradfield,bromfield_s_rare_books,0) go_to(regina_atherville,bromfield_s_rare_books,0) go_to(alaric_bedshire,bromfield_s_rare_books,0) go_to(margaret_aldborough,bromfield_s_rare_books,0) go_to(christabel_heremont,bromfield_s_rare_books,0) go_to(raphael_chesterville,bromfield_s_rare_books,0) go_to(gretchen_coleham,bromfield_s_rare_books,0) go_to(penelope_colesbury,bromfield_s_rare_books,0) go_to(octavia_kirkditch,bromfield_s_rare_books,0) go_to(elise_kirkditch,bromfield_s_rare_books,0) go_to(herbert_pontstock,bromfield_s_rare_books,0) go_to(olive_berkritch,bromfield_s_rare_books,0) go_to(irene_hereville,bromfield_s_rare_books,0) go_to(winifred_stalton,bromfield_s_rare_books,0) go_to(desmond_attleford,bromfield_s_rare_books,0) go_to(floria_brownborough,bromfield_s_rare_books,0) go_to(florentina_attleford,bromfield_s_rare_books,0) go_to(romola_berkridge,bromfield_s_rare_books,0) go_to(alban_leotham,bromfield_s_rare_books,0) go_to(eustace_walmont,bromfield_s_rare_books,0) go_to(sheila_bedshire,bromfield_s_rare_books,0) go_to(ulrica_bromtham,bromfield_s_rare_books,0) go_to(oswald_blackridge,bromfield_s_rare_books,0) go_to(lionel_bedford,bromfield_s_rare_books,0) go_to(venetia_stalfield,bromfield_s_rare_books,0) go_to(pamela_bromhall,bromfield_s_rare_books,0) go_to(vernon_polborough,bromfield_s_rare_books,0) go_to(rachel_edborough,bromfield_s_rare_books,0) go_to(salome_berkham,bromfield_s_rare_books,0) go_to(brian_sandtham,bromfield_s_rare_books,0) go_to(myrtle_penton,bromfield_s_rare_books,0) go_to(null,bromfield_s_rare_books,0) go_to(rhoda_penmont,the_town_square,0) go_to(hildebrand_chestersbury,the_town_square,0) go_to(clair_comville,the_town_square,0) go_to(vibert_norford,the_town_square,0) go_to(morgan_clearford,the_town_square,0) go_to(michael_bradfield,the_town_square,0) go_to(regina_atherville,the_town_square,0) go_to(alaric_bedshire,the_town_square,0) go_to(margaret_aldborough,the_town_square,0) go_to(christabel_heremont,the_town_square,0) go_to(raphael_chesterville,the_town_square,0) go_to(gretchen_coleham,the_town_square,0) go_to(penelope_colesbury,the_town_square,0) go_to(octavia_kirkditch,the_town_square,0) go_to(elise_kirkditch,the_town_square,0) go_to(allan_sandtham,the_town_square,0) go_to(egbert_leoridge,the_town_square,0) go_to(floria_edstock,the_town_square,0) go_to(herbert_pontstock,the_town_square,0) go_to(olive_berkritch,the_town_square,0) go_to(irene_hereville,the_town_square,0) go_to(winifred_stalton,the_town_square,0) go_to(desmond_attleford,the_town_square,0) go_to(floria_brownborough,the_town_square,0) go_to(florentina_attleford,the_town_square,0) go_to(romola_berkridge,the_town_square,0) go_to(alban_leotham,the_town_square,0) go_to(eustace_walmont,the_town_square,0) go_to(sheila_bedshire,the_town_square,0) go_to(ulrica_bromtham,the_town_square,0) go_to(oswald_blackridge,the_town_square,0) go_to(lionel_bedford,the_town_square,0) go_to(venetia_stalfield,the_town_square,0) go_to(pamela_bromhall,the_town_square,0) go_to(vernon_polborough,the_town_square,0) go_to(rachel_edborough,the_town_square,0) go_to(salome_berkham,the_town_square,0) go_to(brian_sandtham,the_town_square,0) go_to(myrtle_penton,the_town_square,0) go_to(null,the_town_square,0) go_to(rhoda_penmont,the_wharf,0) go_to(hildebrand_chestersbury,the_wharf,0) go_to(clair_comville,the_wharf,0) go_to(vibert_norford,the_wharf,0) go_to(morgan_clearford,the_wharf,0) go_to(michael_bradfield,the_wharf,0) go_to(regina_atherville,the_wharf,0) go_to(alaric_bedshire,the_wharf,0) go_to(margaret_aldborough,the_wharf,0) go_to(christabel_heremont,the_wharf,0) go_to(raphael_chesterville,the_wharf,0) go_to(gretchen_coleham,the_wharf,0) go_to(penelope_colesbury,the_wharf,0) go_to(octavia_kirkditch,the_wharf,0) go_to(elise_kirkditch,the_wharf,0) go_to(allan_sandtham,the_wharf,0) go_to(egbert_leoridge,the_wharf,0) go_to(floria_edstock,the_wharf,0) go_to(herbert_pontstock,the_wharf,0) go_to(olive_berkritch,the_wharf,0) go_to(ulrica_bromtham,the_wharf,0) go_to(oswald_blackridge,the_wharf,0) go_to(lionel_bedford,the_wharf,0) go_to(venetia_stalfield,the_wharf,0) go_to(pamela_bromhall,the_wharf,0) go_to(vernon_polborough,the_wharf,0) go_to(rachel_edborough,the_wharf,0) go_to(salome_berkham,the_wharf,0) go_to(brian_sandtham,the_wharf,0) go_to(myrtle_penton,the_wharf,0) go_to(null,the_wharf,0) go_to(rhoda_penmont,the_stockyard,0) go_to(hildebrand_chestersbury,the_stockyard,0) go_to(clair_comville,the_stockyard,0) go_to(vibert_norford,the_stockyard,0) go_to(morgan_clearford,the_stockyard,0) go_to(michael_bradfield,the_stockyard,0) go_to(regina_atherville,the_stockyard,0) go_to(alaric_bedshire,the_stockyard,0) go_to(margaret_aldborough,the_stockyard,0) go_to(christabel_heremont,the_stockyard,0) go_to(raphael_chesterville,the_stockyard,0) go_to(gretchen_coleham,the_stockyard,0) go_to(penelope_colesbury,the_stockyard,0) go_to(octavia_kirkditch,the_stockyard,0) go_to(elise_kirkditch,the_stockyard,0) go_to(allan_sandtham,the_stockyard,0) go_to(egbert_leoridge,the_stockyard,0) go_to(floria_edstock,the_stockyard,0) go_to(herbert_pontstock,the_stockyard,0) go_to(irene_hereville,the_stockyard,0) go_to(winifred_stalton,the_stockyard,0) go_to(desmond_attleford,the_stockyard,0) go_to(floria_brownborough,the_stockyard,0) go_to(florentina_attleford,the_stockyard,0) go_to(romola_berkridge,the_stockyard,0) go_to(alban_leotham,the_stockyard,0) go_to(eustace_walmont,the_stockyard,0) go_to(sheila_bedshire,the_stockyard,0) go_to(null,the_stockyard,0) go_to(rhoda_penmont,bar,0) go_to(hildebrand_chestersbury,bar,0) go_to(morgan_clearford,bar,0) go_to(regina_atherville,bar,0) go_to(alaric_bedshire,bar,0) go_to(margaret_aldborough,bar,0) go_to(christabel_heremont,bar,0) go_to(raphael_chesterville,bar,0) go_to(gretchen_coleham,bar,0) go_to(octavia_kirkditch,bar,0) go_to(elise_kirkditch,bar,0) go_to(allan_sandtham,bar,0) go_to(egbert_leoridge,bar,0) go_to(floria_edstock,bar,0) go_to(winifred_stalton,bar,0) go_to(desmond_attleford,bar,0) go_to(floria_brownborough,bar,0) go_to(florentina_attleford,bar,0) go_to(romola_berkridge,bar,0) go_to(eustace_walmont,bar,0) go_to(sheila_bedshire,bar,0) go_to(ulrica_bromtham,bar,0) go_to(oswald_blackridge,bar,0) go_to(lionel_bedford,bar,0) go_to(venetia_stalfield,bar,0) go_to(pamela_bromhall,bar,0) go_to(vernon_polborough,bar,0) go_to(salome_berkham,bar,0) go_to(brian_sandtham,bar,0) go_to(myrtle_penton,bar,0) go_to(null,bar,0) go_to(rhoda_penmont,null,0) go_to(hildebrand_chestersbury,null,0) go_to(clair_comville,null,0) go_to(vibert_norford,null,0) go_to(morgan_clearford,null,0) go_to(michael_bradfield,null,0) go_to(regina_atherville,null,0) go_to(alaric_bedshire,null,0) go_to(margaret_aldborough,null,0) go_to(christabel_heremont,null,0) go_to(raphael_chesterville,null,0) go_to(gretchen_coleham,null,0) go_to(penelope_colesbury,null,0) go_to(octavia_kirkditch,null,0) go_to(elise_kirkditch,null,0) go_to(allan_sandtham,null,0) go_to(egbert_leoridge,null,0) go_to(floria_edstock,null,0) go_to(herbert_pontstock,null,0) go_to(olive_berkritch,null,0) go_to(irene_hereville,null,0) go_to(winifred_stalton,null,0) go_to(desmond_attleford,null,0) go_to(floria_brownborough,null,0) go_to(florentina_attleford,null,0) go_to(romola_berkridge,null,0) go_to(alban_leotham,null,0) go_to(eustace_walmont,null,0) go_to(sheila_bedshire,null,0) go_to(ulrica_bromtham,null,0) go_to(oswald_blackridge,null,0) go_to(lionel_bedford,null,0) go_to(venetia_stalfield,null,0) go_to(pamela_bromhall,null,0) go_to(vernon_polborough,null,0) go_to(rachel_edborough,null,0) go_to(salome_berkham,null,0) go_to(brian_sandtham,null,0) go_to(myrtle_penton,null,0) go_to(null,null,0)\n",
      "SATISFIABLE\n",
      "\n",
      "Models       : 1\n",
      "Calls        : 1\n",
      "Time         : 0.068s (Solving: 0.00s 1st Model: 0.00s Unsat: 0.00s)\n",
      "CPU Time     : 0.063s\n"
     ]
    },
    {
     "name": "stderr",
     "output_type": "stream",
     "text": [
      "C:\\Users\\adams\\Documents\\Research\\Kismet\\kismet\\default.lp:13:5-74: info: atom does not occur in any rule head:\n",
      "  did(INITIATOR,action(NAME,INITIATOR,TARGET,SUBJECT,ACTION,LOCATION))\n",
      "\n",
      "C:\\Users\\adams\\Documents\\Research\\Kismet\\kismet\\default.lp:15:18-39: info: atom does not occur in any rule head:\n",
      "  did(Initiator,Action)\n",
      "\n",
      "C:\\Users\\adams\\Documents\\Research\\Kismet\\kismet\\test.kismet_rules.lp:32:83-164: info: atom does not occur in any rule head:\n",
      "  occurred(action(befriend_enemy_of_enemy,Person,EnemyOfEnemy,null,null,null))\n",
      "\n",
      "C:\\Users\\adams\\Documents\\Research\\Kismet\\kismet\\test.kismet_rules.lp:34:83-164: info: atom does not occur in any rule head:\n",
      "  occurred(action(befriend_enemy_of_enemy,Person,EnemyOfEnemy,null,null,null))\n",
      "\n",
      "C:\\Users\\adams\\Documents\\Research\\Kismet\\kismet\\test.kismet_rules.lp:61:58-126: info: atom does not occur in any rule head:\n",
      "  occurred(action(drink_the_day_away,Person,null,null,null,null))\n",
      "\n",
      "C:\\Users\\adams\\Documents\\Research\\Kismet\\kismet\\test.kismet_rules.lp:78:23-81: info: atom does not occur in any rule head:\n",
      "  occurred(action(sober_up,Person,null,null,null,null))\n",
      "\n",
      "C:\\Users\\adams\\Documents\\Research\\Kismet\\kismet\\test.kismet_rules.lp:92:70-127: info: atom does not occur in any rule head:\n",
      "  occurred(action(mingle,Person,Other,null,null,null))\n",
      "\n",
      "C:\\Users\\adams\\Documents\\Research\\Kismet\\kismet\\test.kismet_rules.lp:109:70-134: info: atom does not occur in any rule head:\n",
      "  occurred(action(mingle_loudly,Person,Other,null,null,null))\n",
      "\n",
      "C:\\Users\\adams\\Documents\\Research\\Kismet\\kismet\\test.kismet_rules.lp:119:3-33: info: atom does not occur in any rule head:\n",
      "  knows(Gossiper,GossipedAction)\n",
      "\n",
      "C:\\Users\\adams\\Documents\\Research\\Kismet\\kismet\\test.kismet_rules.lp:120:3-36: info: atom does not occur in any rule head:\n",
      "  saw(GossipedAbout,GossipedAction)\n",
      "\n",
      "C:\\Users\\adams\\Documents\\Research\\Kismet\\kismet\\test.kismet_rules.lp:121:7-37: info: atom does not occur in any rule head:\n",
      "  knows(Gossipee,GossipedAction)\n",
      "\n",
      "C:\\Users\\adams\\Documents\\Research\\Kismet\\kismet\\test.kismet_rules.lp:122:3-36: info: atom does not occur in any rule head:\n",
      "  did(GossipedAbout,GossipedAction)\n",
      "\n",
      "C:\\Users\\adams\\Documents\\Research\\Kismet\\kismet\\test.kismet_rules.lp:124:3-41: info: atom does not occur in any rule head:\n",
      "  received(GossipedAbout,GossipedAction)\n",
      "\n",
      "C:\\Users\\adams\\Documents\\Research\\Kismet\\kismet\\test.kismet_rules.lp:132:35-122: info: atom does not occur in any rule head:\n",
      "  occurred(action(gossip_about,Gossiper,Gossipee,GossipedAbout,GossipedAction,null))\n",
      "\n",
      "C:\\Users\\adams\\Documents\\Research\\Kismet\\kismet\\test.kismet_rules.lp:134:80-167: info: atom does not occur in any rule head:\n",
      "  occurred(action(gossip_about,Gossiper,Gossipee,GossipedAbout,GossipedAction,null))\n",
      "\n",
      "C:\\Users\\adams\\Documents\\Research\\Kismet\\kismet\\test.kismet_rules.lp:151:70-142: info: atom does not occur in any rule head:\n",
      "  occurred(action(dominate_conversation,Person,Other,null,null,null))\n",
      "\n",
      "C:\\Users\\adams\\Documents\\Research\\Kismet\\kismet\\test.kismet_rules.lp:169:70-126: info: atom does not occur in any rule head:\n",
      "  occurred(action(flirt,Person,Other,null,null,null))\n",
      "\n",
      "C:\\Users\\adams\\Documents\\Research\\Kismet\\kismet\\test.kismet_rules.lp:171:70-126: info: atom does not occur in any rule head:\n",
      "  occurred(action(flirt,Person,Other,null,null,null))\n",
      "\n",
      "C:\\Users\\adams\\Documents\\Research\\Kismet\\kismet\\test.kismet_rules.lp:190:70-141: info: atom does not occur in any rule head:\n",
      "  occurred(action(flirt_unsuccessfully,Person,Other,null,null,null))\n",
      "\n",
      "C:\\Users\\adams\\Documents\\Research\\Kismet\\kismet\\test.kismet_rules.lp:192:70-141: info: atom does not occur in any rule head:\n",
      "  occurred(action(flirt_unsuccessfully,Person,Other,null,null,null))\n",
      "\n"
     ]
    }
   ],
   "source": [
    "!clingo C:\\Users\\adams\\Documents\\Research\\Kismet\\kismet\\default.lp C:\\Users\\adams\\Documents\\Research\\Kismet\\kismet\\test.kismet_rules.lp C:\\Users\\adams\\Documents\\Research\\Kismet\\kismet\\test.kismet_population.lp C:\\Users\\adams\\Documents\\Research\\Kismet\\kismet\\testing.lp C:\\Users\\adams\\Documents\\Research\\Kismet\\kismet\\location_volition.lp C:\\Users\\adams\\Documents\\Research\\Kismet\\kismet\\test.kismet_history.lp\n"
   ]
  },
  {
   "cell_type": "code",
   "execution_count": 12,
   "metadata": {},
   "outputs": [
    {
     "name": "stdout",
     "output_type": "stream",
     "text": [
      "clingo version 5.4.0\n",
      "Reading from ...ents\\Research\\Kismet\\kismet\\default.lp ...\n",
      "Solving...\n",
      "Answer: 1\n",
      "go_to(neil_downfield,the_church_of_immortal_wisdom,6) go_to(marcus_hartstock,the_church_of_immortal_wisdom,6) go_to(nora_walmont,pickman_private_school,6) go_to(clementine_somerstock,pickman_private_school,6) go_to(reginald_sutsfel,pickman_private_school,6) go_to(rosalie_athertham,pickman_private_school,6) go_to(muriel_bedling,pickman_private_school,6) go_to(maureen_downville,pickman_private_school,6) go_to(olaf_chestersbury,pickman_private_school,6) go_to(sibila_hereling,pickman_private_school,6) go_to(rosalynd_melditch,melditch_s_house,6) go_to(irene_melditch,melditch_s_house,6) go_to(marcia_comditch,the_wharf,6) go_to(jessica_polritch,the_wharf,6) go_to(neil_polham,the_wharf,6) go_to(evan_buckingritch,the_wharf,6) go_to(philippa_clearville,the_wharf,6) go_to(marcus_sandling,the_wharf,6) go_to(bridget_farnhall,the_wharf,6) go_to(teresa_berkborough,the_wharf,6) go_to(stella_edshire,the_wharf,6) go_to(amabel_clarehall,norham_s_imports,6) go_to(leopold_buckingmont,norham_s_imports,6) go_to(beatrix_pensfel,norham_s_imports,6) go_to(almeric_stamritch,norham_s_imports,6) go_to(anthony_kirkham,norham_s_imports,6) go_to(alwyn_clearsbury,norham_s_imports,6) go_to(irmentrude_welridge,norham_s_imports,6) go_to(eleonora_farnhall,norham_s_imports,6) go_to(emeline_norham,norham_s_imports,6) go_to_propensity(go_to_location,6,worker,neil_downfield,null,null,null,the_church_of_immortal_wisdom) go_to_propensity(go_to_location,6,worker,marcus_hartstock,null,null,null,the_church_of_immortal_wisdom) go_to_propensity(go_to_location,6,worker,nora_walmont,null,null,null,pickman_private_school) go_to_propensity(go_to_location,6,worker,clementine_somerstock,null,null,null,pickman_private_school) go_to_propensity(go_to_location,6,worker,reginald_sutsfel,null,null,null,pickman_private_school) go_to_propensity(go_to_location,6,worker,rosalie_athertham,null,null,null,pickman_private_school) go_to_propensity(go_to_location,6,worker,muriel_bedling,null,null,null,pickman_private_school) go_to_propensity(go_to_location,6,worker,maureen_downville,null,null,null,pickman_private_school) go_to_propensity(go_to_location,6,worker,olaf_chestersbury,null,null,null,pickman_private_school) go_to_propensity(go_to_location,6,worker,sibila_hereling,null,null,null,pickman_private_school) go_to_propensity(go_to_location,6,worker,rosalynd_melditch,null,null,null,melditch_s_house) go_to_propensity(go_to_location,6,worker,irene_melditch,null,null,null,melditch_s_house) go_to_propensity(go_to_location,6,worker,marcia_comditch,null,null,null,the_wharf) go_to_propensity(go_to_location,6,worker,jessica_polritch,null,null,null,the_wharf) go_to_propensity(go_to_location,6,worker,neil_polham,null,null,null,the_wharf) go_to_propensity(go_to_location,6,worker,evan_buckingritch,null,null,null,the_wharf) go_to_propensity(go_to_location,6,worker,philippa_clearville,null,null,null,the_wharf) go_to_propensity(go_to_location,6,worker,marcus_sandling,null,null,null,the_wharf) go_to_propensity(go_to_location,6,worker,bridget_farnhall,null,null,null,the_wharf) go_to_propensity(go_to_location,6,worker,teresa_berkborough,null,null,null,the_wharf) go_to_propensity(go_to_location,6,worker,stella_edshire,null,null,null,the_wharf) go_to_propensity(go_to_location,6,worker,amabel_clarehall,null,null,null,norham_s_imports) go_to_propensity(go_to_location,6,worker,leopold_buckingmont,null,null,null,norham_s_imports) go_to_propensity(go_to_location,6,worker,beatrix_pensfel,null,null,null,norham_s_imports) go_to_propensity(go_to_location,6,worker,almeric_stamritch,null,null,null,norham_s_imports) go_to_propensity(go_to_location,6,worker,anthony_kirkham,null,null,null,norham_s_imports) go_to_propensity(go_to_location,6,worker,alwyn_clearsbury,null,null,null,norham_s_imports) go_to_propensity(go_to_location,6,worker,irmentrude_welridge,null,null,null,norham_s_imports) go_to_propensity(go_to_location,6,worker,eleonora_farnhall,null,null,null,norham_s_imports) go_to_propensity(go_to_location,6,worker,emeline_norham,null,null,null,norham_s_imports) go_to(nora_walmont,the_church_of_immortal_wisdom,0) go_to(clementine_somerstock,the_church_of_immortal_wisdom,0) go_to(reginald_sutsfel,the_church_of_immortal_wisdom,0) go_to(rosalie_athertham,the_church_of_immortal_wisdom,0) go_to(muriel_bedling,the_church_of_immortal_wisdom,0) go_to(maureen_downville,the_church_of_immortal_wisdom,0) go_to(olaf_chestersbury,the_church_of_immortal_wisdom,0) go_to(sibila_hereling,the_church_of_immortal_wisdom,0) go_to(rosalynd_melditch,the_church_of_immortal_wisdom,0) go_to(irene_melditch,the_church_of_immortal_wisdom,0) go_to(oswald_blackton,the_church_of_immortal_wisdom,0) go_to(marcia_comditch,the_church_of_immortal_wisdom,0) go_to(gladys_farnshire,the_church_of_immortal_wisdom,0) go_to(vivian_welsbury,the_church_of_immortal_wisdom,0) go_to(wilfred_downham,the_church_of_immortal_wisdom,0) go_to(jessica_polritch,the_church_of_immortal_wisdom,0) go_to(neil_polham,the_church_of_immortal_wisdom,0) go_to(evan_buckingritch,the_church_of_immortal_wisdom,0) go_to(philippa_clearville,the_church_of_immortal_wisdom,0) go_to(marcus_sandling,the_church_of_immortal_wisdom,0) go_to(bridget_farnhall,the_church_of_immortal_wisdom,0) go_to(teresa_berkborough,the_church_of_immortal_wisdom,0) go_to(stella_edshire,the_church_of_immortal_wisdom,0) go_to(amabel_clarehall,the_church_of_immortal_wisdom,0) go_to(leopold_buckingmont,the_church_of_immortal_wisdom,0) go_to(beatrix_pensfel,the_church_of_immortal_wisdom,0) go_to(almeric_stamritch,the_church_of_immortal_wisdom,0) go_to(anthony_kirkham,the_church_of_immortal_wisdom,0) go_to(alwyn_clearsbury,the_church_of_immortal_wisdom,0) go_to(irmentrude_welridge,the_church_of_immortal_wisdom,0) go_to(eleonora_farnhall,the_church_of_immortal_wisdom,0) go_to(emeline_norham,the_church_of_immortal_wisdom,0) go_to(null,the_church_of_immortal_wisdom,0) go_to(neil_downfield,pickman_private_school,0) go_to(marcus_hartstock,pickman_private_school,0) go_to(rosalynd_melditch,pickman_private_school,0) go_to(irene_melditch,pickman_private_school,0) go_to(oswald_blackton,pickman_private_school,0) go_to(marcia_comditch,pickman_private_school,0) go_to(gladys_farnshire,pickman_private_school,0) go_to(vivian_welsbury,pickman_private_school,0) go_to(wilfred_downham,pickman_private_school,0) go_to(jessica_polritch,pickman_private_school,0) go_to(neil_polham,pickman_private_school,0) go_to(evan_buckingritch,pickman_private_school,0) go_to(philippa_clearville,pickman_private_school,0) go_to(marcus_sandling,pickman_private_school,0) go_to(bridget_farnhall,pickman_private_school,0) go_to(teresa_berkborough,pickman_private_school,0) go_to(stella_edshire,pickman_private_school,0) go_to(amabel_clarehall,pickman_private_school,0) go_to(leopold_buckingmont,pickman_private_school,0) go_to(beatrix_pensfel,pickman_private_school,0) go_to(almeric_stamritch,pickman_private_school,0) go_to(anthony_kirkham,pickman_private_school,0) go_to(alwyn_clearsbury,pickman_private_school,0) go_to(irmentrude_welridge,pickman_private_school,0) go_to(eleonora_farnhall,pickman_private_school,0) go_to(emeline_norham,pickman_private_school,0) go_to(null,pickman_private_school,0) go_to(neil_downfield,melditch_s_house,0) go_to(marcus_hartstock,melditch_s_house,0) go_to(nora_walmont,melditch_s_house,0) go_to(clementine_somerstock,melditch_s_house,0) go_to(reginald_sutsfel,melditch_s_house,0) go_to(rosalie_athertham,melditch_s_house,0) go_to(muriel_bedling,melditch_s_house,0) go_to(maureen_downville,melditch_s_house,0) go_to(olaf_chestersbury,melditch_s_house,0) go_to(sibila_hereling,melditch_s_house,0) go_to(oswald_blackton,melditch_s_house,0) go_to(marcia_comditch,melditch_s_house,0) go_to(gladys_farnshire,melditch_s_house,0) go_to(vivian_welsbury,melditch_s_house,0) go_to(wilfred_downham,melditch_s_house,0) go_to(jessica_polritch,melditch_s_house,0) go_to(neil_polham,melditch_s_house,0) go_to(evan_buckingritch,melditch_s_house,0) go_to(philippa_clearville,melditch_s_house,0) go_to(marcus_sandling,melditch_s_house,0) go_to(bridget_farnhall,melditch_s_house,0) go_to(teresa_berkborough,melditch_s_house,0) go_to(stella_edshire,melditch_s_house,0) go_to(amabel_clarehall,melditch_s_house,0) go_to(leopold_buckingmont,melditch_s_house,0) go_to(beatrix_pensfel,melditch_s_house,0) go_to(almeric_stamritch,melditch_s_house,0) go_to(anthony_kirkham,melditch_s_house,0) go_to(alwyn_clearsbury,melditch_s_house,0) go_to(irmentrude_welridge,melditch_s_house,0) go_to(eleonora_farnhall,melditch_s_house,0) go_to(emeline_norham,melditch_s_house,0) go_to(null,melditch_s_house,0) go_to(neil_downfield,the_town_square,0) go_to(marcus_hartstock,the_town_square,0) go_to(nora_walmont,the_town_square,0) go_to(clementine_somerstock,the_town_square,0) go_to(reginald_sutsfel,the_town_square,0) go_to(rosalie_athertham,the_town_square,0) go_to(muriel_bedling,the_town_square,0) go_to(maureen_downville,the_town_square,0) go_to(olaf_chestersbury,the_town_square,0) go_to(sibila_hereling,the_town_square,0) go_to(rosalynd_melditch,the_town_square,0) go_to(irene_melditch,the_town_square,0) go_to(oswald_blackton,the_town_square,0) go_to(marcia_comditch,the_town_square,0) go_to(gladys_farnshire,the_town_square,0) go_to(vivian_welsbury,the_town_square,0) go_to(wilfred_downham,the_town_square,0) go_to(jessica_polritch,the_town_square,0) go_to(neil_polham,the_town_square,0) go_to(evan_buckingritch,the_town_square,0) go_to(philippa_clearville,the_town_square,0) go_to(marcus_sandling,the_town_square,0) go_to(bridget_farnhall,the_town_square,0) go_to(teresa_berkborough,the_town_square,0) go_to(stella_edshire,the_town_square,0) go_to(amabel_clarehall,the_town_square,0) go_to(leopold_buckingmont,the_town_square,0) go_to(beatrix_pensfel,the_town_square,0) go_to(almeric_stamritch,the_town_square,0) go_to(anthony_kirkham,the_town_square,0) go_to(alwyn_clearsbury,the_town_square,0) go_to(irmentrude_welridge,the_town_square,0) go_to(eleonora_farnhall,the_town_square,0) go_to(emeline_norham,the_town_square,0) go_to(null,the_town_square,0) go_to(neil_downfield,the_wharf,0) go_to(marcus_hartstock,the_wharf,0) go_to(nora_walmont,the_wharf,0) go_to(clementine_somerstock,the_wharf,0) go_to(reginald_sutsfel,the_wharf,0) go_to(rosalie_athertham,the_wharf,0) go_to(muriel_bedling,the_wharf,0) go_to(maureen_downville,the_wharf,0) go_to(olaf_chestersbury,the_wharf,0) go_to(sibila_hereling,the_wharf,0) go_to(rosalynd_melditch,the_wharf,0) go_to(irene_melditch,the_wharf,0) go_to(oswald_blackton,the_wharf,0) go_to(gladys_farnshire,the_wharf,0) go_to(vivian_welsbury,the_wharf,0) go_to(wilfred_downham,the_wharf,0) go_to(amabel_clarehall,the_wharf,0) go_to(leopold_buckingmont,the_wharf,0) go_to(beatrix_pensfel,the_wharf,0) go_to(almeric_stamritch,the_wharf,0) go_to(anthony_kirkham,the_wharf,0) go_to(alwyn_clearsbury,the_wharf,0) go_to(irmentrude_welridge,the_wharf,0) go_to(eleonora_farnhall,the_wharf,0) go_to(emeline_norham,the_wharf,0) go_to(null,the_wharf,0) go_to(neil_downfield,norham_s_imports,0) go_to(marcus_hartstock,norham_s_imports,0) go_to(nora_walmont,norham_s_imports,0) go_to(clementine_somerstock,norham_s_imports,0) go_to(reginald_sutsfel,norham_s_imports,0) go_to(rosalie_athertham,norham_s_imports,0) go_to(muriel_bedling,norham_s_imports,0) go_to(maureen_downville,norham_s_imports,0) go_to(olaf_chestersbury,norham_s_imports,0) go_to(sibila_hereling,norham_s_imports,0) go_to(rosalynd_melditch,norham_s_imports,0) go_to(irene_melditch,norham_s_imports,0) go_to(oswald_blackton,norham_s_imports,0) go_to(marcia_comditch,norham_s_imports,0) go_to(gladys_farnshire,norham_s_imports,0) go_to(vivian_welsbury,norham_s_imports,0) go_to(wilfred_downham,norham_s_imports,0) go_to(jessica_polritch,norham_s_imports,0) go_to(neil_polham,norham_s_imports,0) go_to(evan_buckingritch,norham_s_imports,0) go_to(philippa_clearville,norham_s_imports,0) go_to(marcus_sandling,norham_s_imports,0) go_to(bridget_farnhall,norham_s_imports,0) go_to(teresa_berkborough,norham_s_imports,0) go_to(stella_edshire,norham_s_imports,0) go_to(null,norham_s_imports,0) go_to(neil_downfield,bar,0) go_to(marcus_hartstock,bar,0) go_to(nora_walmont,bar,0) go_to(clementine_somerstock,bar,0) go_to(reginald_sutsfel,bar,0) go_to(rosalie_athertham,bar,0) go_to(muriel_bedling,bar,0) go_to(maureen_downville,bar,0) go_to(olaf_chestersbury,bar,0) go_to(sibila_hereling,bar,0) go_to(rosalynd_melditch,bar,0) go_to(irene_melditch,bar,0) go_to(oswald_blackton,bar,0) go_to(marcia_comditch,bar,0) go_to(gladys_farnshire,bar,0) go_to(vivian_welsbury,bar,0) go_to(wilfred_downham,bar,0) go_to(jessica_polritch,bar,0) go_to(neil_polham,bar,0) go_to(evan_buckingritch,bar,0) go_to(philippa_clearville,bar,0) go_to(marcus_sandling,bar,0) go_to(bridget_farnhall,bar,0) go_to(teresa_berkborough,bar,0) go_to(stella_edshire,bar,0) go_to(amabel_clarehall,bar,0) go_to(leopold_buckingmont,bar,0) go_to(beatrix_pensfel,bar,0) go_to(almeric_stamritch,bar,0) go_to(anthony_kirkham,bar,0) go_to(alwyn_clearsbury,bar,0) go_to(irmentrude_welridge,bar,0) go_to(eleonora_farnhall,bar,0) go_to(emeline_norham,bar,0) go_to(null,bar,0) go_to(neil_downfield,null,0) go_to(marcus_hartstock,null,0) go_to(nora_walmont,null,0) go_to(clementine_somerstock,null,0) go_to(reginald_sutsfel,null,0) go_to(rosalie_athertham,null,0) go_to(muriel_bedling,null,0) go_to(maureen_downville,null,0) go_to(olaf_chestersbury,null,0) go_to(sibila_hereling,null,0) go_to(rosalynd_melditch,null,0) go_to(irene_melditch,null,0) go_to(oswald_blackton,null,0) go_to(marcia_comditch,null,0) go_to(gladys_farnshire,null,0) go_to(vivian_welsbury,null,0) go_to(wilfred_downham,null,0) go_to(jessica_polritch,null,0) go_to(neil_polham,null,0) go_to(evan_buckingritch,null,0) go_to(philippa_clearville,null,0) go_to(marcus_sandling,null,0) go_to(bridget_farnhall,null,0) go_to(teresa_berkborough,null,0) go_to(stella_edshire,null,0) go_to(amabel_clarehall,null,0) go_to(leopold_buckingmont,null,0) go_to(beatrix_pensfel,null,0) go_to(almeric_stamritch,null,0) go_to(anthony_kirkham,null,0) go_to(alwyn_clearsbury,null,0) go_to(irmentrude_welridge,null,0) go_to(eleonora_farnhall,null,0) go_to(emeline_norham,null,0) go_to(null,null,0)\n",
      "SATISFIABLE\n",
      "\n",
      "Models       : 1\n",
      "Calls        : 1\n",
      "Time         : 0.039s (Solving: 0.00s 1st Model: 0.00s Unsat: 0.00s)\n",
      "CPU Time     : 0.031s\n"
     ]
    },
    {
     "name": "stderr",
     "output_type": "stream",
     "text": [
      "C:\\Users\\adams\\Documents\\Research\\Kismet\\kismet\\cult.kismet_population.lp:91:25-53: info: operation undefined:\n",
      "  (blackton_s_rare_books_&_maps)\n",
      "\n",
      "C:\\Users\\adams\\Documents\\Research\\Kismet\\kismet\\cult.kismet_population.lp:519:29-57: info: operation undefined:\n",
      "  (blackton_s_rare_books_&_maps)\n",
      "\n",
      "C:\\Users\\adams\\Documents\\Research\\Kismet\\kismet\\cult.kismet_population.lp:520:26-54: info: operation undefined:\n",
      "  (blackton_s_rare_books_&_maps)\n",
      "\n",
      "C:\\Users\\adams\\Documents\\Research\\Kismet\\kismet\\cult.kismet_population.lp:604:30-58: info: operation undefined:\n",
      "  (blackton_s_rare_books_&_maps)\n",
      "\n",
      "C:\\Users\\adams\\Documents\\Research\\Kismet\\kismet\\cult.kismet_population.lp:605:27-55: info: operation undefined:\n",
      "  (blackton_s_rare_books_&_maps)\n",
      "\n",
      "C:\\Users\\adams\\Documents\\Research\\Kismet\\kismet\\cult.kismet_population.lp:646:29-57: info: operation undefined:\n",
      "  (blackton_s_rare_books_&_maps)\n",
      "\n",
      "C:\\Users\\adams\\Documents\\Research\\Kismet\\kismet\\cult.kismet_population.lp:647:26-54: info: operation undefined:\n",
      "  (blackton_s_rare_books_&_maps)\n",
      "\n",
      "C:\\Users\\adams\\Documents\\Research\\Kismet\\kismet\\cult.kismet_population.lp:688:29-57: info: operation undefined:\n",
      "  (blackton_s_rare_books_&_maps)\n",
      "\n",
      "C:\\Users\\adams\\Documents\\Research\\Kismet\\kismet\\cult.kismet_population.lp:689:26-54: info: operation undefined:\n",
      "  (blackton_s_rare_books_&_maps)\n",
      "\n",
      "C:\\Users\\adams\\Documents\\Research\\Kismet\\kismet\\cult.kismet_population.lp:1452:10-38: info: operation undefined:\n",
      "  (blackton_s_rare_books_&_maps)\n",
      "\n",
      "C:\\Users\\adams\\Documents\\Research\\Kismet\\kismet\\cult.kismet_population.lp:1453:4-32: info: operation undefined:\n",
      "  (blackton_s_rare_books_&_maps)\n",
      "\n",
      "C:\\Users\\adams\\Documents\\Research\\Kismet\\kismet\\cult.kismet_population.lp:1454:6-34: info: operation undefined:\n",
      "  (blackton_s_rare_books_&_maps)\n",
      "\n",
      "C:\\Users\\adams\\Documents\\Research\\Kismet\\kismet\\cult.kismet_population.lp:1455:6-34: info: operation undefined:\n",
      "  (blackton_s_rare_books_&_maps)\n",
      "\n",
      "C:\\Users\\adams\\Documents\\Research\\Kismet\\kismet\\cult.kismet_population.lp:1456:6-34: info: operation undefined:\n",
      "  (blackton_s_rare_books_&_maps)\n",
      "\n",
      "C:\\Users\\adams\\Documents\\Research\\Kismet\\kismet\\cult.kismet_population.lp:1457:6-34: info: operation undefined:\n",
      "  (blackton_s_rare_books_&_maps)\n",
      "\n",
      "C:\\Users\\adams\\Documents\\Research\\Kismet\\kismet\\cult.kismet_population.lp:1458:6-34: info: operation undefined:\n",
      "  (blackton_s_rare_books_&_maps)\n",
      "\n",
      "C:\\Users\\adams\\Documents\\Research\\Kismet\\kismet\\cult.kismet_rules.lp:50:3-30: info: atom does not occur in any rule head:\n",
      "  at(Churchgoer,RoleLocation)\n",
      "\n",
      "C:\\Users\\adams\\Documents\\Research\\Kismet\\kismet\\cult.kismet_rules.lp:52:3-28: info: atom does not occur in any rule head:\n",
      "  at(Churchgoer,Location_0)\n",
      "\n",
      "C:\\Users\\adams\\Documents\\Research\\Kismet\\kismet\\cult.kismet_rules.lp:63:3-26: info: atom does not occur in any rule head:\n",
      "  at(Deacon,RoleLocation)\n",
      "\n",
      "C:\\Users\\adams\\Documents\\Research\\Kismet\\kismet\\cult.kismet_rules.lp:64:3-24: info: atom does not occur in any rule head:\n",
      "  at(Deacon,Location_0)\n",
      "\n"
     ]
    }
   ],
   "source": [
    "!clingo C:\\Users\\adams\\Documents\\Research\\Kismet\\kismet\\default.lp C:\\Users\\adams\\Documents\\Research\\Kismet\\kismet\\cult.kismet_rules.lp C:\\Users\\adams\\Documents\\Research\\Kismet\\kismet\\cult.kismet_population.lp C:\\Users\\adams\\Documents\\Research\\Kismet\\kismet\\location_volition.lp"
   ]
  },
  {
   "cell_type": "code",
   "execution_count": 13,
   "metadata": {},
   "outputs": [
    {
     "name": "stdout",
     "output_type": "stream",
     "text": [
      "{'the_church_of_immortal_wisdom': {'name': 'The Church of Immortal Wisdom', 'location_type': 'church', 'relationships': [('deacon', 'Marcus Hartstock'), ('priest', 'Neil Downfield')]}, 'pickman_private_school': {'name': 'Pickman Private School', 'location_type': 'school', 'relationships': [('student', 'Clementine Somerstock'), ('student', 'Reginald Sutsfel'), ('student', 'Rosalie Athertham'), ('student', 'Muriel Bedling'), ('student', 'Maureen Downville'), ('student', 'Olaf Chestersbury'), ('student', 'Sibila Hereling'), ('headmaster', 'Nora Walmont')]}, 'melditch_s_house': {'name': \"Melditch's House\", 'location_type': 'boarding_house', 'relationships': [('housekeeper', 'Irene Melditch'), ('owner', 'Rosalynd Melditch'), ('boarder', 'Oswald Wimpleritch'), ('boarder', 'Marcia Comditch')]}, 'blackton_s_rare_books_&_maps': {'name': \"Blackton's Rare Books & Maps\", 'location_type': 'bookstore', 'relationships': [('owner', 'Oswald Blackton'), ('clerk', 'Gladys Farnshire'), ('clerk', 'Vivian Welsbury'), ('clerk', 'Wilfred Downham'), ('regular', 'Nora Walmont')]}, 'the_town_square': {'name': 'The Town Square', 'location_type': 'town_square', 'relationships': []}, 'the_wharf': {'name': 'The Wharf', 'location_type': 'wharf', 'relationships': [('dockworker', 'Jessica Polritch'), ('dockworker', 'Neil Polham'), ('dockworker', 'Evan Buckingritch'), ('dockworker', 'Philippa Clearville'), ('sailor', 'Marcia Comditch'), ('fisherman', 'Marcus Sandling'), ('fisherman', 'Bridget Farnhall'), ('fisherman', 'Teresa Berkborough'), ('fisherman', 'Stella Edshire')]}, 'norham_s_imports': {'name': \"Norham's Imports\", 'location_type': 'warehouse', 'relationships': [('owner', 'Emeline Norham'), ('foreman', 'Eleonora Farnhall'), ('worker', 'Amabel Clarehall'), ('worker', 'Leopold Buckingmont'), ('worker', 'Beatrix Pensfel'), ('worker', 'Almeric Stamritch'), ('worker', 'Anthony Kirkham'), ('worker', 'Alwyn Clearsbury'), ('unionrep', 'Irmentrude Welridge')]}, 'bar': {'name': 'bar', 'location_type': 'bar', 'relationships': []}}\n"
     ]
    }
   ],
   "source": [
    "print(kismetModule.created_locations)"
   ]
  },
  {
   "cell_type": "code",
   "execution_count": null,
   "metadata": {},
   "outputs": [],
   "source": []
  }
 ],
 "metadata": {
  "kernelspec": {
   "display_name": "Python 3",
   "language": "python",
   "name": "python3"
  },
  "language_info": {
   "codemirror_mode": {
    "name": "ipython",
    "version": 3
   },
   "file_extension": ".py",
   "mimetype": "text/x-python",
   "name": "python",
   "nbconvert_exporter": "python",
   "pygments_lexer": "ipython3",
   "version": "3.8.3"
  }
 },
 "nbformat": 4,
 "nbformat_minor": 2
}
