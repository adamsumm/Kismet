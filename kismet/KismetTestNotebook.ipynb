{
 "cells": [
  {
   "cell_type": "code",
   "execution_count": 1,
   "metadata": {},
   "outputs": [],
   "source": [
    "##ONLY RUN THIS IF YOU NEED TO RECOMPILE THE LEXER AND PARSER\n",
    "if True:\n",
    "    !java -jar antlr-4.7.2-complete.jar -visitor -Dlanguage=Python3 kismet_initialization.ebnf\n",
    "    !java -jar antlr-4.7.2-complete.jar -visitor -Dlanguage=Python3 kismet.ebnv"
   ]
  },
  {
   "cell_type": "code",
   "execution_count": 2,
   "metadata": {},
   "outputs": [],
   "source": [
    "from Kismet import *"
   ]
  },
  {
   "cell_type": "code",
   "execution_count": 3,
   "metadata": {},
   "outputs": [
    {
     "name": "stdout",
     "output_type": "stream",
     "text": [
      "*************************POTENTIAL PROBLEMS*************************\n",
      "Tags: Not referenced in traits\n",
      "\temployment\n",
      "Tags: Referenced in traits but not found in actions\n",
      "\treformist\n",
      "\tskeptic\n",
      "\tbeliever\n",
      "\ttraditionalist\n",
      "\tnarcissistic\n",
      "Traits: Not referenced in actions\n",
      "\treformist\n",
      "\tskeptic\n",
      "\tbeliever\n",
      "\ttraditionalist\n",
      "\tgregarious\n",
      "\tage\n",
      "\tnarcissistic\n",
      "\tlikes\n",
      "Traits: Referenced in actions but not found\n",
      "\tvisitor\n",
      "\tpatron\n",
      "\theadmaster\n",
      "\tunionrep\n",
      "\tpriest\n",
      "\tcustomer\n",
      "\tforeman\n",
      "\tboarder\n",
      "\tdeacon\n",
      "\tfisherman\n",
      "\tstudent\n",
      "\thousekeeper\n",
      "\tsailor\n",
      "\tregular\n",
      "\towner\n",
      "\tdockworker\n",
      "\tclerk\n",
      "Patterns: Not referenced in actions or traits\n",
      "\tromantic_rivals\n",
      "\tnemesis\n",
      "\tmutual_dislike\n",
      "*************************Reference Section*************************\n",
      "Actions\n",
      "\twharf_work\n",
      "\twarehouse_owner\n",
      "\tboarding_house_maintenance\n",
      "\tpray_alone\n",
      "\tsermon\n",
      "\tbar_generic\n",
      "\tbookstore_regular\n",
      "\tboarding_house_visitor\n",
      "\tboarder_lounge\n",
      "\thousekeeping\n",
      "\tbookstore_owner\n",
      "\twarehouse_foreman\n",
      "\tbookstore_customer\n",
      "\tsailor_loiter\n",
      "\tloiterer\n",
      "\twharf_loiter\n",
      "\twarehouse_worker\n",
      "\tstudent_learning\n",
      "\theadmaster_teaches\n",
      "\tbookstore_clerk\n",
      "\tfish\n",
      "\twarehouse_union_rep\n",
      "\tstudy_religion\n",
      "Patterns\n",
      "\tromantic_rivals\n",
      "\tnemesis\n",
      "\tmutual_dislike\n",
      "Tags\n",
      "\tbookstore\n",
      "\t\t referenced in: bookstore_regular, bookstore_customer, bookstore_clerk, bookstore_owner\n",
      "\tbar\n",
      "\t\t referenced in: bar_generic\n",
      "\ttown_square\n",
      "\t\t referenced in: loiterer\n",
      "\tboarding_house\n",
      "\t\t referenced in: boarding_house_maintenance, housekeeping, boarder_lounge, boarding_house_visitor\n",
      "\tchurch\n",
      "\t\t referenced in: study_religion, pray_alone, sermon\n",
      "\tschool\n",
      "\t\t referenced in: student_learning, headmaster_teaches\n",
      "\twharf\n",
      "\t\t referenced in: wharf_loiter, wharf_work, fish, sailor_loiter\n",
      "\twarehouse\n",
      "\t\t referenced in: warehouse_owner, warehouse_worker, warehouse_union_rep, warehouse_foreman\n",
      "Traits\n",
      "\treformist\n",
      "\t\t referenced in: reformist\n",
      "\tpriest\n",
      "\t\t referenced in: study_religion\n",
      "\tcustomer\n",
      "\t\t referenced in: bookstore_customer\n",
      "\tforeman\n",
      "\t\t referenced in: warehouse_foreman\n",
      "\tage\n",
      "\tdeacon\n",
      "\t\t referenced in: sermon\n",
      "\tlikes\n",
      "\thousekeeper\n",
      "\t\t referenced in: housekeeping\n",
      "\ttraditionalist\n",
      "\t\t referenced in: traditionalist\n",
      "\tgregarious\n",
      "\tdockworker\n",
      "\t\t referenced in: wharf_work\n",
      "\tclerk\n",
      "\t\t referenced in: bookstore_clerk\n",
      "\tboarder\n",
      "\t\t referenced in: boarder_lounge\n",
      "\tworker\n",
      "\t\t referenced in: warehouse_worker\n",
      "\tvisitor\n",
      "\t\t referenced in: boarding_house_visitor\n",
      "\tpatron\n",
      "\t\t referenced in: pray_alone\n",
      "\theadmaster\n",
      "\t\t referenced in: headmaster_teaches\n",
      "\tunionrep\n",
      "\t\t referenced in: warehouse_union_rep\n",
      "\tfisherman\n",
      "\t\t referenced in: fish\n",
      "\tstudent\n",
      "\t\t referenced in: student_learning\n",
      "\tsailor\n",
      "\t\t referenced in: sailor_loiter\n",
      "\tskeptic\n",
      "\t\t referenced in: skeptic\n",
      "\tbeliever\n",
      "\t\t referenced in: believer\n",
      "\tregular\n",
      "\t\t referenced in: bookstore_regular\n",
      "\tnarcissistic\n",
      "\t\t referenced in: narcissistic, gregarious\n",
      "\towner\n",
      "\t\t referenced in: boarding_house_maintenance, warehouse_owner, bookstore_owner\n",
      "Requirements:\n",
      "pray_alone\n",
      "\tReferences: patron, church\n",
      "sermon\n",
      "\tReferences: deacon, church\n",
      "study_religion\n",
      "\tReferences: church, priest\n",
      "boarding_house_maintenance\n",
      "\tReferences: boarding_house, owner\n",
      "housekeeping\n",
      "\tReferences: housekeeper, boarding_house\n",
      "boarder_lounge\n",
      "\tReferences: boarding_house, boarder\n",
      "boarding_house_visitor\n",
      "\tReferences: boarding_house, visitor\n",
      "loiterer\n",
      "\tReferences: town_square\n",
      "student_learning\n",
      "\tReferences: school, student\n",
      "headmaster_teaches\n",
      "\tReferences: headmaster, school\n",
      "bookstore_owner\n",
      "\tReferences: bookstore, owner\n",
      "bookstore_clerk\n",
      "\tReferences: clerk, bookstore\n",
      "bookstore_regular\n",
      "\tReferences: bookstore, regular\n",
      "bookstore_customer\n",
      "\tReferences: bookstore, customer\n",
      "wharf_work\n",
      "\tReferences: wharf, dockworker\n",
      "fish\n",
      "\tReferences: wharf, fisherman\n",
      "sailor_loiter\n",
      "\tReferences: wharf, sailor\n",
      "wharf_loiter\n",
      "\tReferences: wharf\n",
      "warehouse_owner\n",
      "\tReferences: warehouse, owner\n",
      "warehouse_union_rep\n",
      "\tReferences: warehouse, unionrep\n",
      "warehouse_foreman\n",
      "\tReferences: warehouse, foreman\n",
      "warehouse_worker\n",
      "\tReferences: worker, warehouse\n",
      "bar_generic\n",
      "\tReferences: bar\n",
      "likes\n",
      "gregarious\n",
      "\tReferences: narcissistic\n",
      "narcissistic\n",
      "\tReferences: narcissistic\n",
      "traditionalist\n",
      "\tReferences: traditionalist\n",
      "reformist\n",
      "\tReferences: reformist\n",
      "skeptic\n",
      "\tReferences: skeptic\n",
      "believer\n",
      "\tReferences: believer\n",
      "worker\n"
     ]
    }
   ],
   "source": [
    "kismetModule = KismetModule('cult.kismet',\n",
    "                            'test.init',\n",
    "                            ['../tracery/edwardian.tracery'], \n",
    "                                    ignore_logit=3.0, \n",
    "                                    observation_temp=1.5,\n",
    "                                    history_cutoff=10,\n",
    "                                    action_budget = 3,\n",
    "                                    default_cost = 3,)"
   ]
  },
  {
   "cell_type": "code",
   "execution_count": 4,
   "metadata": {},
   "outputs": [],
   "source": [
    "kismetModule.make_population()\n",
    "kismetModule.display_statuses()\n",
    "#kismetModule.population2asp()"
   ]
  },
  {
   "cell_type": "code",
   "execution_count": 5,
   "metadata": {
    "scrolled": false
   },
   "outputs": [
    {
     "data": {
      "application/vnd.jupyter.widget-view+json": {
       "model_id": "74da0d49f1c3481399a51f2072a29846",
       "version_major": 2,
       "version_minor": 0
      },
      "text/plain": [
       "HBox(children=(FloatProgress(value=0.0, max=2.0), HTML(value='')))"
      ]
     },
     "metadata": {},
     "output_type": "display_data"
    },
    {
     "name": "stdout",
     "output_type": "stream",
     "text": [
      "\n"
     ]
    },
    {
     "ename": "KeyError",
     "evalue": "'grocer'",
     "output_type": "error",
     "traceback": [
      "\u001b[1;31m---------------------------------------------------------------------------\u001b[0m",
      "\u001b[1;31mKeyError\u001b[0m                                  Traceback (most recent call last)",
      "\u001b[1;32m<ipython-input-5-753d4c33a721>\u001b[0m in \u001b[0;36m<module>\u001b[1;34m\u001b[0m\n\u001b[0;32m      2\u001b[0m \u001b[1;33m\u001b[0m\u001b[0m\n\u001b[0;32m      3\u001b[0m \u001b[1;32mfor\u001b[0m \u001b[0m_\u001b[0m \u001b[1;32min\u001b[0m \u001b[0mtqdm\u001b[0m\u001b[1;33m(\u001b[0m\u001b[0mrange\u001b[0m\u001b[1;33m(\u001b[0m\u001b[1;36m2\u001b[0m\u001b[1;33m)\u001b[0m\u001b[1;33m)\u001b[0m\u001b[1;33m:\u001b[0m\u001b[1;33m\u001b[0m\u001b[1;33m\u001b[0m\u001b[0m\n\u001b[1;32m----> 4\u001b[1;33m     \u001b[0mkismetModule\u001b[0m\u001b[1;33m.\u001b[0m\u001b[0mstep_actions\u001b[0m\u001b[1;33m(\u001b[0m\u001b[1;33m)\u001b[0m\u001b[1;33m\u001b[0m\u001b[1;33m\u001b[0m\u001b[0m\n\u001b[0m",
      "\u001b[1;32m~\\Documents\\Research\\Kismet\\kismet\\Kismet.py\u001b[0m in \u001b[0;36mstep_actions\u001b[1;34m(self)\u001b[0m\n\u001b[0;32m   2240\u001b[0m         \u001b[0mself\u001b[0m\u001b[1;33m.\u001b[0m\u001b[0mknowledge2asp\u001b[0m\u001b[1;33m(\u001b[0m\u001b[1;33m)\u001b[0m\u001b[1;33m\u001b[0m\u001b[1;33m\u001b[0m\u001b[0m\n\u001b[0;32m   2241\u001b[0m         \u001b[0mself\u001b[0m\u001b[1;33m.\u001b[0m\u001b[0mpopulation2asp\u001b[0m\u001b[1;33m(\u001b[0m\u001b[1;33m)\u001b[0m\u001b[1;33m\u001b[0m\u001b[1;33m\u001b[0m\u001b[0m\n\u001b[1;32m-> 2242\u001b[1;33m         \u001b[0mself\u001b[0m\u001b[1;33m.\u001b[0m\u001b[0mdetermine_character_locations\u001b[0m\u001b[1;33m(\u001b[0m\u001b[1;33m)\u001b[0m\u001b[1;33m\u001b[0m\u001b[1;33m\u001b[0m\u001b[0m\n\u001b[0m\u001b[0;32m   2243\u001b[0m \u001b[1;33m\u001b[0m\u001b[0m\n\u001b[0;32m   2244\u001b[0m         \u001b[0mcharacter_action_budget\u001b[0m \u001b[1;33m=\u001b[0m \u001b[1;33m{\u001b[0m\u001b[0mname\u001b[0m\u001b[1;33m:\u001b[0m\u001b[0mself\u001b[0m\u001b[1;33m.\u001b[0m\u001b[0maction_budget\u001b[0m \u001b[1;32mfor\u001b[0m \u001b[0mname\u001b[0m \u001b[1;32min\u001b[0m \u001b[0mself\u001b[0m\u001b[1;33m.\u001b[0m\u001b[0mpopulation\u001b[0m\u001b[1;33m}\u001b[0m\u001b[1;33m\u001b[0m\u001b[1;33m\u001b[0m\u001b[0m\n",
      "\u001b[1;32m~\\Documents\\Research\\Kismet\\kismet\\Kismet.py\u001b[0m in \u001b[0;36mdetermine_character_locations\u001b[1;34m(self)\u001b[0m\n\u001b[0;32m   2167\u001b[0m             \u001b[0muniq\u001b[0m \u001b[1;33m=\u001b[0m \u001b[0mget_unique_name\u001b[0m\u001b[1;33m(\u001b[0m\u001b[0mlocation_type\u001b[0m\u001b[1;33m)\u001b[0m\u001b[1;33m\u001b[0m\u001b[1;33m\u001b[0m\u001b[0m\n\u001b[0;32m   2168\u001b[0m \u001b[1;33m\u001b[0m\u001b[0m\n\u001b[1;32m-> 2169\u001b[1;33m             \u001b[0msupported_roles\u001b[0m \u001b[1;33m=\u001b[0m \u001b[0mself\u001b[0m\u001b[1;33m.\u001b[0m\u001b[0mlocations\u001b[0m\u001b[1;33m[\u001b[0m\u001b[0muniq\u001b[0m\u001b[1;33m]\u001b[0m\u001b[1;33m.\u001b[0m\u001b[0msupports\u001b[0m\u001b[1;33m\u001b[0m\u001b[1;33m\u001b[0m\u001b[0m\n\u001b[0m\u001b[0;32m   2170\u001b[0m \u001b[1;33m\u001b[0m\u001b[0m\n\u001b[0;32m   2171\u001b[0m             \u001b[0mrole_slots\u001b[0m \u001b[1;33m=\u001b[0m \u001b[1;33m{\u001b[0m\u001b[1;33m}\u001b[0m\u001b[1;33m\u001b[0m\u001b[1;33m\u001b[0m\u001b[0m\n",
      "\u001b[1;31mKeyError\u001b[0m: 'grocer'"
     ]
    }
   ],
   "source": [
    "from tqdm.notebook import tqdm \n",
    "\n",
    "for _ in tqdm(range(2)):\n",
    "    kismetModule.step_actions()"
   ]
  },
  {
   "cell_type": "code",
   "execution_count": null,
   "metadata": {},
   "outputs": [],
   "source": [
    "print(kismetModule.population)"
   ]
  },
  {
   "cell_type": "code",
   "execution_count": null,
   "metadata": {},
   "outputs": [],
   "source": [
    "kismetModule.pretty_print_history()"
   ]
  },
  {
   "cell_type": "code",
   "execution_count": null,
   "metadata": {
    "scrolled": true
   },
   "outputs": [],
   "source": [
    "kismetModule.display_patterns()"
   ]
  },
  {
   "cell_type": "code",
   "execution_count": null,
   "metadata": {},
   "outputs": [],
   "source": [
    "a = ['a']*-1"
   ]
  },
  {
   "cell_type": "code",
   "execution_count": null,
   "metadata": {},
   "outputs": [],
   "source": [
    "print(kismetModule.created_locations)"
   ]
  },
  {
   "cell_type": "code",
   "execution_count": null,
   "metadata": {},
   "outputs": [],
   "source": [
    "!clingo C:\\Users\\adams\\Documents\\Research\\Kismet\\kismet\\default.lp C:\\Users\\adams\\Documents\\Research\\Kismet\\kismet\\test.kismet_rules.lp C:\\Users\\adams\\Documents\\Research\\Kismet\\kismet\\test.kismet_population.lp C:\\Users\\adams\\Documents\\Research\\Kismet\\kismet\\testing.lp C:\\Users\\adams\\Documents\\Research\\Kismet\\kismet\\location_volition.lp C:\\Users\\adams\\Documents\\Research\\Kismet\\kismet\\test.kismet_history.lp\n"
   ]
  },
  {
   "cell_type": "code",
   "execution_count": null,
   "metadata": {},
   "outputs": [],
   "source": [
    "!clingo C:\\Users\\adams\\Documents\\Research\\Kismet\\kismet\\default.lp C:\\Users\\adams\\Documents\\Research\\Kismet\\kismet\\cult.kismet_rules.lp C:\\Users\\adams\\Documents\\Research\\Kismet\\kismet\\cult.kismet_population.lp C:\\Users\\adams\\Documents\\Research\\Kismet\\kismet\\location_volition.lp"
   ]
  },
  {
   "cell_type": "code",
   "execution_count": null,
   "metadata": {},
   "outputs": [],
   "source": [
    "print(kismetModule.created_locations)"
   ]
  },
  {
   "cell_type": "code",
   "execution_count": null,
   "metadata": {},
   "outputs": [],
   "source": []
  }
 ],
 "metadata": {
  "kernelspec": {
   "display_name": "Python 3",
   "language": "python",
   "name": "python3"
  },
  "language_info": {
   "codemirror_mode": {
    "name": "ipython",
    "version": 3
   },
   "file_extension": ".py",
   "mimetype": "text/x-python",
   "name": "python",
   "nbconvert_exporter": "python",
   "pygments_lexer": "ipython3",
   "version": "3.8.3"
  }
 },
 "nbformat": 4,
 "nbformat_minor": 2
}
