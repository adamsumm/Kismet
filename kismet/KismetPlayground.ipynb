{
 "cells": [
  {
   "cell_type": "code",
   "execution_count": null,
   "metadata": {},
   "outputs": [],
   "source": [
    "if False:\n",
    "    !java -jar antlr-4.7.2-complete.jar -visitor -Dlanguage=Python3 kismet.ebnv\n",
    "    !java -jar antlr-4.7.2-complete.jar -visitor -Dlanguage=Python3 kismet_initialization.ebnf\n",
    "    !java -jar antlr-4.7.2-complete.jar -visitor -Dlanguage=Python3 kismet_sequence.ebnf"
   ]
  },
  {
   "cell_type": "code",
   "execution_count": null,
   "metadata": {},
   "outputs": [],
   "source": [
    "import KismetSequence\n",
    "import random\n",
    "import numpy as np\n",
    "\n",
    "seed = 10\n",
    "np.random.seed(seed)\n",
    "random.seed(seed)"
   ]
  },
  {
   "cell_type": "code",
   "execution_count": null,
   "metadata": {
    "scrolled": false
   },
   "outputs": [],
   "source": [
    "sequence = KismetSequence.KismetSequence(sequence_file = 'gtbbt.seq')#'gtbbt.seq')"
   ]
  },
  {
   "cell_type": "code",
   "execution_count": null,
   "metadata": {
    "scrolled": true
   },
   "outputs": [],
   "source": [
    "%%time\n",
    "from IPython.display import clear_output\n",
    "\n",
    "\n",
    "clear_output(wait=True)\n",
    "sequence()"
   ]
  },
  {
   "cell_type": "code",
   "execution_count": null,
   "metadata": {
    "scrolled": false
   },
   "outputs": [],
   "source": [
    "sequence.active_module.pretty_print_history()"
   ]
  },
  {
   "cell_type": "code",
   "execution_count": null,
   "metadata": {},
   "outputs": [],
   "source": [
    "sequence.active_module.display_statuses()"
   ]
  },
  {
   "cell_type": "code",
   "execution_count": null,
   "metadata": {
    "scrolled": true
   },
   "outputs": [],
   "source": [
    "print(len(sequence.active_module.population))\n",
    "sequence.active_module.display_relationships()"
   ]
  },
  {
   "cell_type": "code",
   "execution_count": null,
   "metadata": {},
   "outputs": [],
   "source": [
    "print(len(sequence.active_module.population))\n",
    "import json\n",
    "with open('population.json','w') as outfile:\n",
    "    outfile.write(json.dumps(sequence.active_module.to_json(), sort_keys=True, indent=4))\n",
    "    \n",
    "    \n",
    "with open('../../GTBBTUnity/Assets/Kismet/population.json','w') as outfile:\n",
    "    outfile.write(json.dumps(sequence.active_module.to_json(), sort_keys=True, indent=4))"
   ]
  }
 ],
 "metadata": {
  "kernelspec": {
   "display_name": "Python 3",
   "language": "python",
   "name": "python3"
  },
  "language_info": {
   "codemirror_mode": {
    "name": "ipython",
    "version": 3
   },
   "file_extension": ".py",
   "mimetype": "text/x-python",
   "name": "python",
   "nbconvert_exporter": "python",
   "pygments_lexer": "ipython3",
   "version": "3.8.3"
  }
 },
 "nbformat": 4,
 "nbformat_minor": 4
}
