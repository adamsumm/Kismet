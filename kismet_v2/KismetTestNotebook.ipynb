{
 "cells": [
  {
   "cell_type": "code",
   "execution_count": 1,
   "metadata": {},
   "outputs": [],
   "source": [
    "! ../kismet/run_antlr kismet.ebnv\n",
    "\n",
    "from Kismet import *"
   ]
  },
  {
   "cell_type": "code",
   "execution_count": 2,
   "metadata": {},
   "outputs": [
    {
     "name": "stdout",
     "output_type": "stream",
     "text": [
      "[Trait(is_default=False, is_num=True, is_trait=False, is_status=True, alternative_names=['likes', 'like', 'liked'], arguments={'>': 'Self', '<': 'Other', '^': 'DEFAULT_OBJECT', '*': 'DEFAULT_ACTION', '@': 'DEFAULT_LOCATION'}, propensities=[], propensityASP=[], opposition='')]\n"
     ]
    }
   ],
   "source": [
    "kismetModule = KismetModule('./test.kismet',['../tracery/edwardian.tracery'], \n",
    "                                ignore_logit=3.0, \n",
    "                                observation_temp=1.5)"
   ]
  },
  {
   "cell_type": "code",
   "execution_count": 3,
   "metadata": {},
   "outputs": [],
   "source": [
    "kismetModule.make_population({'size':30,\n",
    "                              'traits':(3,5,'.-.')})\n",
    "kismetModule.population2asp()"
   ]
  },
  {
   "cell_type": "code",
   "execution_count": 4,
   "metadata": {
    "scrolled": true
   },
   "outputs": [
    {
     "name": "stdout",
     "output_type": "stream",
     "text": [
      "clingo --outf=2 default.swi ./test.kismet_rules.swi ./test.kismet_population.swi testing.swi volition.lp -t 8 --sign-def=rnd --seed=382410163\n",
      "clingo --outf=2 default.swi ./test.kismet_rules.swi ./test.kismet_population.swi ./test.kismet_actions.swi testing.swi results_processing.lp -t 8 --sign-def=rnd --seed=14090624\n",
      "clingo --outf=2 default.swi ./test.kismet_rules.swi ./test.kismet_population.swi ./test.kismet_actions.swi testing.swi observation.lp -t 8 --sign-def=rnd --seed=845931109\n",
      "CPU times: user 155 ms, sys: 13.8 ms, total: 168 ms\n",
      "Wall time: 300 ms\n"
     ]
    }
   ],
   "source": [
    "%%time\n",
    "#volitions = kismetModule.calculate_volitions()\n",
    "kismetModule.step_actions()"
   ]
  },
  {
   "cell_type": "code",
   "execution_count": 5,
   "metadata": {},
   "outputs": [],
   "source": [
    "kismetModule.knowledge2asp()"
   ]
  },
  {
   "cell_type": "code",
   "execution_count": null,
   "metadata": {},
   "outputs": [],
   "source": []
  },
  {
   "cell_type": "code",
   "execution_count": null,
   "metadata": {},
   "outputs": [],
   "source": []
  }
 ],
 "metadata": {
  "kernelspec": {
   "display_name": "Python 3",
   "language": "python",
   "name": "python3"
  },
  "language_info": {
   "codemirror_mode": {
    "name": "ipython",
    "version": 3
   },
   "file_extension": ".py",
   "mimetype": "text/x-python",
   "name": "python",
   "nbconvert_exporter": "python",
   "pygments_lexer": "ipython3",
   "version": "3.8.5"
  }
 },
 "nbformat": 4,
 "nbformat_minor": 2
}
