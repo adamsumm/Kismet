{
 "cells": [
  {
   "cell_type": "code",
   "execution_count": 1,
   "metadata": {},
   "outputs": [],
   "source": [
    "from antlr4.error.ErrorListener import ErrorListener\n",
    "\n",
    "class MyErrorListener( ErrorListener ):\n",
    "    def __init__(self):\n",
    "        super()\n",
    "        self.errors = []\n",
    "        self.recognizer  = None\n",
    "    def syntaxError(self, recognizer, offendingSymbol, line, column, msg, e):\n",
    "        self.recognizer  =  recognizer\n",
    "        self.errors.append(str(line) + \":\" + str(column) + \": syntax ERROR, \" + str(msg))\n",
    "\n",
    "    def reportAmbiguity(self, recognizer, dfa, startIndex, stopIndex, exact, ambigAlts, configs):\n",
    "        self.errors.append( \"Ambiguity ERROR, \" + str(configs))\n",
    "\n",
    "    def reportAttemptingFullContext(self, recognizer, dfa, startIndex, stopIndex, conflictingAlts, configs):\n",
    "        self.errors.append( \"Attempting full context ERROR, \" + str(configs))\n",
    "\n",
    "\n",
    "    def reportContextSensitivity(self, recognizer, dfa, startIndex, stopIndex, prediction, configs):\n",
    "        self.errors.append( \"Context ERROR, \" + str(configs))"
   ]
  },
  {
   "cell_type": "code",
   "execution_count": 2,
   "metadata": {},
   "outputs": [],
   "source": [
    "!../kismet/run_antlr kismet.ebnv"
   ]
  },
  {
   "cell_type": "code",
   "execution_count": 3,
   "metadata": {
    "scrolled": true
   },
   "outputs": [],
   "source": [
    "from antlr4 import *\n",
    "import kismetLexer\n",
    "import kismetParser\n",
    "\n",
    "filename = './test.kismet'\n",
    "input_stream = FileStream(filename)\n",
    "lexer = kismetLexer.kismetLexer(input_stream)\n",
    "stream = CommonTokenStream(lexer)\n",
    "parser = kismetParser.kismetParser(stream)\n",
    "error_listener = MyErrorListener()\n",
    "parser._listeners = [ error_listener ]\n",
    "###Run through the thing\n",
    "tree = parser.world()\n",
    "if len(error_listener.errors) > 0:\n",
    "    print('\\n'.join(error_listener.errors))\n",
    "    \n",
    "    print(error_listener.recognizer)"
   ]
  },
  {
   "cell_type": "code",
   "execution_count": null,
   "metadata": {},
   "outputs": [],
   "source": []
  },
  {
   "cell_type": "code",
   "execution_count": null,
   "metadata": {},
   "outputs": [],
   "source": []
  }
 ],
 "metadata": {
  "kernelspec": {
   "display_name": "Python 3",
   "language": "python",
   "name": "python3"
  },
  "language_info": {
   "codemirror_mode": {
    "name": "ipython",
    "version": 3
   },
   "file_extension": ".py",
   "mimetype": "text/x-python",
   "name": "python",
   "nbconvert_exporter": "python",
   "pygments_lexer": "ipython3",
   "version": "3.7.0"
  }
 },
 "nbformat": 4,
 "nbformat_minor": 2
}
