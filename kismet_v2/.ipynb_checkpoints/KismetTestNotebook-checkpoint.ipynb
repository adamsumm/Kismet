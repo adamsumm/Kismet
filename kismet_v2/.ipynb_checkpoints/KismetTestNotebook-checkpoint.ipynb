{
 "cells": [
  {
   "cell_type": "code",
   "execution_count": 1,
   "metadata": {},
   "outputs": [],
   "source": [
    "from antlr4.error.ErrorListener import ErrorListener\n",
    "\n",
    "class MyErrorListener( ErrorListener ):\n",
    "    def __init__(self):\n",
    "        super()\n",
    "        self.errors = []\n",
    "    def syntaxError(self, recognizer, offendingSymbol, line, column, msg, e):\n",
    "        self.errors.append(str(line) + \":\" + str(column) + \": syntax ERROR, \" + str(msg))\n",
    "\n",
    "    def reportAmbiguity(self, recognizer, dfa, startIndex, stopIndex, exact, ambigAlts, configs):\n",
    "        self.errors.append( \"Ambiguity ERROR, \" + str(configs))\n",
    "\n",
    "    def reportAttemptingFullContext(self, recognizer, dfa, startIndex, stopIndex, conflictingAlts, configs):\n",
    "        self.errors.append( \"Attempting full context ERROR, \" + str(configs))\n",
    "\n",
    "\n",
    "    def reportContextSensitivity(self, recognizer, dfa, startIndex, stopIndex, prediction, configs):\n",
    "        self.errors.append( \"Context ERROR, \" + str(configs))"
   ]
  },
  {
   "cell_type": "code",
   "execution_count": 2,
   "metadata": {},
   "outputs": [],
   "source": [
    "!../kismet/run_antlr kismet.ebnv"
   ]
  },
  {
   "cell_type": "code",
   "execution_count": 3,
   "metadata": {
    "scrolled": true
   },
   "outputs": [
    {
     "name": "stdout",
     "output_type": "stream",
     "text": [
      "None:20:12: syntax ERROR, mismatched input ';' expecting ':'\n",
      "None:21:11: syntax ERROR, mismatched input '.' expecting ':'\n"
     ]
    }
   ],
   "source": [
    "from antlr4 import *\n",
    "import kismetLexer\n",
    "import kismetParser\n",
    "\n",
    "filename = './test.kismet'\n",
    "input_stream = FileStream(filename)\n",
    "lexer = kismetLexer.kismetLexer(input_stream)\n",
    "stream = CommonTokenStream(lexer)\n",
    "parser = kismetParser.kismetParser(stream)\n",
    "error_listener = MyErrorListener()\n",
    "parser._listeners = [ error_listener ]\n",
    "###Run through the thing\n",
    "tree = parser.world()\n",
    "if len(error_listener.errors) > 0:\n",
    "    print('\\n'.join(error_listener.errors))"
   ]
  },
  {
   "cell_type": "code",
   "execution_count": 4,
   "metadata": {},
   "outputs": [
    {
     "data": {
      "text/plain": [
       "[<antlr4.tree.Tree.TerminalNodeImpl at 0x7f4c80ea44e0>,\n",
       " <antlr4.tree.Tree.TerminalNodeImpl at 0x7f4c8006d080>,\n",
       " <antlr4.tree.Tree.TerminalNodeImpl at 0x7f4c8006d0f0>,\n",
       " <antlr4.tree.Tree.TerminalNodeImpl at 0x7f4c8006d1d0>,\n",
       " <antlr4.tree.Tree.TerminalNodeImpl at 0x7f4c8006d198>,\n",
       " <kismetParser.kismetParser.PdfContext at 0x7f4c8006d2b0>]"
      ]
     },
     "execution_count": 4,
     "metadata": {},
     "output_type": "execute_result"
    }
   ],
   "source": [
    "tree.children[0].children[3].children[2].children[0].children"
   ]
  },
  {
   "cell_type": "code",
   "execution_count": null,
   "metadata": {},
   "outputs": [],
   "source": []
  }
 ],
 "metadata": {
  "kernelspec": {
   "display_name": "Python 3",
   "language": "python",
   "name": "python3"
  },
  "language_info": {
   "codemirror_mode": {
    "name": "ipython",
    "version": 3
   },
   "file_extension": ".py",
   "mimetype": "text/x-python",
   "name": "python",
   "nbconvert_exporter": "python",
   "pygments_lexer": "ipython3",
   "version": "3.7.0"
  }
 },
 "nbformat": 4,
 "nbformat_minor": 2
}
